{
    "metadata": {
        "kernelspec": {
            "name": "python3",
            "display_name": "Python 3"
        },
        "language_info": {
            "name": "python",
            "version": "3.7.4",
            "mimetype": "text/x-python",
            "codemirror_mode": {
                "name": "ipython",
                "version": 3
            },
            "pygments_lexer": "ipython3",
            "nbconvert_exporter": "python",
            "file_extension": ".py"
        }
    },
    "nbformat_minor": 2,
    "nbformat": 4,
    "cells": [
        {
            "cell_type": "markdown",
            "source": [
                "<p align=\"center\">\n",
                "<img src =\"https://raw.githubusercontent.com/microsoft/azuredatastudio/master/src/sql/media/microsoft_logo_gray.svg?sanitize=true\" width=\"250\" align=\"center\">\n",
                "</p>\n",
                "\n",
                "# **SQL Server Machine Learning Platform**\n",
                "\n",
                "<p align=\"center\">\n",
                "<img width=\"884\" alt=\"image\" src=\"https://user-images.githubusercontent.com/22312581/68362765-44c8bc80-00dd-11ea-9a6d-431fdb2ca2a8.png\" align=\"center\">\n",
                "\n",
                "### <span style=\"color:green\"><font size=\"2\"> What will you learn today?\n",
                "\n",
                "* How to get started on Machine Learning?\n",
                "    * Where does our [documentation](https://docs.microsoft.com/en-us/sql/advanced-analytics/?view=sql-server-ver15) live?\n",
                "    * Machine Learning Extension in Azure Data Studio and the concept of Dataspaces. <span style=\"color:blue\"><font size=\"1\"> (Work in progress)</font>\n",
                "* What datset will we use?\n",
                "* Building a Machine Learning Model with local Python.\n",
                "* Building a Machine Learning Model using Python leveraging Spark in the SQL Server 2019 Big Data Cluster.\n",
                "* Building a Machine Learning Model using R in leveraging Spark in the SQL Server 2019 Big Data Cluster.\n",
                "* How are we leveraging hardware acceleration for Machine Learning specific workloads?\n",
                "* How we do store models in enterprises?\n",
                "    * What is MlFlow ?\n",
                "    * Our contributions and commitment to MlFlow.\n",
                "* How do we load the data to SQL Server using Spark?\n",
                "* How do we load the data to SQL Server using Streamsets?\n",
                "* How do we install Machine Learning packages in SQL Server ?\n",
                "* How do we do predict on the stored data using the model in SQL Server?\n",
                "* How do we do predict on the stored data using the model in Azure SQL Database?\n",
                "* What is ONNX?\n",
                "* How do we convert the model to ONNX?\n",
                "* How do we natively score on Azure SQL Database Edge?\n",
                "* What is AppDeploy?\n",
                "* How do we now run the model in the container in SQL Server 2019 Big Data Cluster?\n",
                "* How do we convert the model to be running as a web app in SQL Server 2019 Big Data Cluster ?"
            ],
            "metadata": {
                "azdata_cell_guid": "d0c923fe-5a19-4202-8bc8-4110189a9da7",
                "tags": []
            }
        },
        {
            "cell_type": "markdown",
            "source": [
                "# **Let's take a look at the dataset**\n",
                "\n",
                "## Boston Housing Dataset\n",
                "Housing data contains 506 census tracts of Boston from the 1970 census.The data has following features, *medv* being the target variable:\n",
                "\n",
                "* crim - per capita crime rate by town\n",
                "* zn - proportion of residential land zoned for lots over 25,000 sq.ft\n",
                "* indus - proportion of non-retail business acres per town\n",
                "* chas - Charles River dummy variable (= 1 if tract bounds river; 0 otherwise)\n",
                "* nox - nitric oxides concentration (parts per 10 million)\n",
                "* rm - average number of rooms per dwelling\n",
                "* age - proportion of owner-occupied units built prior to 1940\n",
                "* dis - weighted distances to five Boston employment centres\n",
                "* rad - index of accessibility to radial highways\n",
                "* tax - full-value property-tax rate per USD 10,000\n",
                "* ptratio- pupil-teacher ratio by town\n",
                "* b 1000(B - 0.63)^2, where B is the proportion of blacks by town\n",
                "* lstat - percentage of lower status of the population\n",
                "* medv - median value of owner-occupied homes in USD 1000’s"
            ],
            "metadata": {
                "azdata_cell_guid": "662d98bd-1662-4f90-b299-f5bff4cdf329",
                "tags": []
            }
        },
        {
            "cell_type": "markdown",
            "source": [
                "<p align=\"center\">\n",
                "<img src =\"https://raw.githubusercontent.com/microsoft/azuredatastudio/master/src/sql/media/microsoft_logo_gray.svg?sanitize=true\" width=\"250\" align=\"center\">\n",
                "</p>\n",
                "\n",
                "# **Building a Machine Learning Model with Local Python**\n",
                "### <span style=\"color:red\"><font size=\"3\"> Not recommended approach for Enterprises.\n",
                ""
            ],
            "metadata": {
                "azdata_cell_guid": "eb24d4cb-0aa9-4a48-a301-930a93856914",
                "tags": []
            }
        },
        {
            "cell_type": "code",
            "source": [
                "import numpy as np\r\n",
                "import pandas as pd\r\n",
                "import sklearn\r\n",
                "import sklearn.datasets\r\n",
                "from sklearn.datasets import load_boston\r\n",
                "boston = load_boston()\r\n",
                "boston"
            ],
            "metadata": {
                "azdata_cell_guid": "028c8f33-00d6-4d69-aa83-6adcc1fbb3da",
                "tags": []
            },
            "outputs": [
                {
                    "output_type": "execute_result",
                    "execution_count": 2,
                    "data": {
                        "text/plain": "{'data': array([[6.3200e-03, 1.8000e+01, 2.3100e+00, ..., 1.5300e+01, 3.9690e+02,\n         4.9800e+00],\n        [2.7310e-02, 0.0000e+00, 7.0700e+00, ..., 1.7800e+01, 3.9690e+02,\n         9.1400e+00],\n        [2.7290e-02, 0.0000e+00, 7.0700e+00, ..., 1.7800e+01, 3.9283e+02,\n         4.0300e+00],\n        ...,\n        [6.0760e-02, 0.0000e+00, 1.1930e+01, ..., 2.1000e+01, 3.9690e+02,\n         5.6400e+00],\n        [1.0959e-01, 0.0000e+00, 1.1930e+01, ..., 2.1000e+01, 3.9345e+02,\n         6.4800e+00],\n        [4.7410e-02, 0.0000e+00, 1.1930e+01, ..., 2.1000e+01, 3.9690e+02,\n         7.8800e+00]]),\n 'target': array([24. , 21.6, 34.7, 33.4, 36.2, 28.7, 22.9, 27.1, 16.5, 18.9, 15. ,\n        18.9, 21.7, 20.4, 18.2, 19.9, 23.1, 17.5, 20.2, 18.2, 13.6, 19.6,\n        15.2, 14.5, 15.6, 13.9, 16.6, 14.8, 18.4, 21. , 12.7, 14.5, 13.2,\n        13.1, 13.5, 18.9, 20. , 21. , 24.7, 30.8, 34.9, 26.6, 25.3, 24.7,\n        21.2, 19.3, 20. , 16.6, 14.4, 19.4, 19.7, 20.5, 25. , 23.4, 18.9,\n        35.4, 24.7, 31.6, 23.3, 19.6, 18.7, 16. , 22.2, 25. , 33. , 23.5,\n        19.4, 22. , 17.4, 20.9, 24.2, 21.7, 22.8, 23.4, 24.1, 21.4, 20. ,\n        20.8, 21.2, 20.3, 28. , 23.9, 24.8, 22.9, 23.9, 26.6, 22.5, 22.2,\n        23.6, 28.7, 22.6, 22. , 22.9, 25. , 20.6, 28.4, 21.4, 38.7, 43.8,\n        33.2, 27.5, 26.5, 18.6, 19.3, 20.1, 19.5, 19.5, 20.4, 19.8, 19.4,\n        21.7, 22.8, 18.8, 18.7, 18.5, 18.3, 21.2, 19.2, 20.4, 19.3, 22. ,\n        20.3, 20.5, 17.3, 18.8, 21.4, 15.7, 16.2, 18. , 14.3, 19.2, 19.6,\n        23. , 18.4, 15.6, 18.1, 17.4, 17.1, 13.3, 17.8, 14. , 14.4, 13.4,\n        15.6, 11.8, 13.8, 15.6, 14.6, 17.8, 15.4, 21.5, 19.6, 15.3, 19.4,\n        17. , 15.6, 13.1, 41.3, 24.3, 23.3, 27. , 50. , 50. , 50. , 22.7,\n        25. , 50. , 23.8, 23.8, 22.3, 17.4, 19.1, 23.1, 23.6, 22.6, 29.4,\n        23.2, 24.6, 29.9, 37.2, 39.8, 36.2, 37.9, 32.5, 26.4, 29.6, 50. ,\n        32. , 29.8, 34.9, 37. , 30.5, 36.4, 31.1, 29.1, 50. , 33.3, 30.3,\n        34.6, 34.9, 32.9, 24.1, 42.3, 48.5, 50. , 22.6, 24.4, 22.5, 24.4,\n        20. , 21.7, 19.3, 22.4, 28.1, 23.7, 25. , 23.3, 28.7, 21.5, 23. ,\n        26.7, 21.7, 27.5, 30.1, 44.8, 50. , 37.6, 31.6, 46.7, 31.5, 24.3,\n        31.7, 41.7, 48.3, 29. , 24. , 25.1, 31.5, 23.7, 23.3, 22. , 20.1,\n        22.2, 23.7, 17.6, 18.5, 24.3, 20.5, 24.5, 26.2, 24.4, 24.8, 29.6,\n        42.8, 21.9, 20.9, 44. , 50. , 36. , 30.1, 33.8, 43.1, 48.8, 31. ,\n        36.5, 22.8, 30.7, 50. , 43.5, 20.7, 21.1, 25.2, 24.4, 35.2, 32.4,\n        32. , 33.2, 33.1, 29.1, 35.1, 45.4, 35.4, 46. , 50. , 32.2, 22. ,\n        20.1, 23.2, 22.3, 24.8, 28.5, 37.3, 27.9, 23.9, 21.7, 28.6, 27.1,\n        20.3, 22.5, 29. , 24.8, 22. , 26.4, 33.1, 36.1, 28.4, 33.4, 28.2,\n        22.8, 20.3, 16.1, 22.1, 19.4, 21.6, 23.8, 16.2, 17.8, 19.8, 23.1,\n        21. , 23.8, 23.1, 20.4, 18.5, 25. , 24.6, 23. , 22.2, 19.3, 22.6,\n        19.8, 17.1, 19.4, 22.2, 20.7, 21.1, 19.5, 18.5, 20.6, 19. , 18.7,\n        32.7, 16.5, 23.9, 31.2, 17.5, 17.2, 23.1, 24.5, 26.6, 22.9, 24.1,\n        18.6, 30.1, 18.2, 20.6, 17.8, 21.7, 22.7, 22.6, 25. , 19.9, 20.8,\n        16.8, 21.9, 27.5, 21.9, 23.1, 50. , 50. , 50. , 50. , 50. , 13.8,\n        13.8, 15. , 13.9, 13.3, 13.1, 10.2, 10.4, 10.9, 11.3, 12.3,  8.8,\n         7.2, 10.5,  7.4, 10.2, 11.5, 15.1, 23.2,  9.7, 13.8, 12.7, 13.1,\n        12.5,  8.5,  5. ,  6.3,  5.6,  7.2, 12.1,  8.3,  8.5,  5. , 11.9,\n        27.9, 17.2, 27.5, 15. , 17.2, 17.9, 16.3,  7. ,  7.2,  7.5, 10.4,\n         8.8,  8.4, 16.7, 14.2, 20.8, 13.4, 11.7,  8.3, 10.2, 10.9, 11. ,\n         9.5, 14.5, 14.1, 16.1, 14.3, 11.7, 13.4,  9.6,  8.7,  8.4, 12.8,\n        10.5, 17.1, 18.4, 15.4, 10.8, 11.8, 14.9, 12.6, 14.1, 13. , 13.4,\n        15.2, 16.1, 17.8, 14.9, 14.1, 12.7, 13.5, 14.9, 20. , 16.4, 17.7,\n        19.5, 20.2, 21.4, 19.9, 19. , 19.1, 19.1, 20.1, 19.9, 19.6, 23.2,\n        29.8, 13.8, 13.3, 16.7, 12. , 14.6, 21.4, 23. , 23.7, 25. , 21.8,\n        20.6, 21.2, 19.1, 20.6, 15.2,  7. ,  8.1, 13.6, 20.1, 21.8, 24.5,\n        23.1, 19.7, 18.3, 21.2, 17.5, 16.8, 22.4, 20.6, 23.9, 22. , 11.9]),\n 'feature_names': array(['CRIM', 'ZN', 'INDUS', 'CHAS', 'NOX', 'RM', 'AGE', 'DIS', 'RAD',\n        'TAX', 'PTRATIO', 'B', 'LSTAT'], dtype='<U7'),\n 'DESCR': \".. _boston_dataset:\\n\\nBoston house prices dataset\\n---------------------------\\n\\n**Data Set Characteristics:**  \\n\\n    :Number of Instances: 506 \\n\\n    :Number of Attributes: 13 numeric/categorical predictive. Median Value (attribute 14) is usually the target.\\n\\n    :Attribute Information (in order):\\n        - CRIM     per capita crime rate by town\\n        - ZN       proportion of residential land zoned for lots over 25,000 sq.ft.\\n        - INDUS    proportion of non-retail business acres per town\\n        - CHAS     Charles River dummy variable (= 1 if tract bounds river; 0 otherwise)\\n        - NOX      nitric oxides concentration (parts per 10 million)\\n        - RM       average number of rooms per dwelling\\n        - AGE      proportion of owner-occupied units built prior to 1940\\n        - DIS      weighted distances to five Boston employment centres\\n        - RAD      index of accessibility to radial highways\\n        - TAX      full-value property-tax rate per $10,000\\n        - PTRATIO  pupil-teacher ratio by town\\n        - B        1000(Bk - 0.63)^2 where Bk is the proportion of blacks by town\\n        - LSTAT    % lower status of the population\\n        - MEDV     Median value of owner-occupied homes in $1000's\\n\\n    :Missing Attribute Values: None\\n\\n    :Creator: Harrison, D. and Rubinfeld, D.L.\\n\\nThis is a copy of UCI ML housing dataset.\\nhttps://archive.ics.uci.edu/ml/machine-learning-databases/housing/\\n\\n\\nThis dataset was taken from the StatLib library which is maintained at Carnegie Mellon University.\\n\\nThe Boston house-price data of Harrison, D. and Rubinfeld, D.L. 'Hedonic\\nprices and the demand for clean air', J. Environ. Economics & Management,\\nvol.5, 81-102, 1978.   Used in Belsley, Kuh & Welsch, 'Regression diagnostics\\n...', Wiley, 1980.   N.B. Various transformations are used in the table on\\npages 244-261 of the latter.\\n\\nThe Boston house-price data has been used in many machine learning papers that address regression\\nproblems.   \\n     \\n.. topic:: References\\n\\n   - Belsley, Kuh & Welsch, 'Regression diagnostics: Identifying Influential Data and Sources of Collinearity', Wiley, 1980. 244-261.\\n   - Quinlan,R. (1993). Combining Instance-Based and Model-Based Learning. In Proceedings on the Tenth International Conference of Machine Learning, 236-243, University of Massachusetts, Amherst. Morgan Kaufmann.\\n\",\n 'filename': '/Users/submarine/azuredatastudio-python/0.0.1/lib/python3.6/site-packages/sklearn/datasets/data/boston_house_prices.csv'}"
                    },
                    "metadata": {}
                }
            ],
            "execution_count": 2
        },
        {
            "cell_type": "markdown",
            "source": [
                "## Prepare the data"
            ],
            "metadata": {
                "azdata_cell_guid": "563eadaf-df6a-4e7c-8864-4a375cdc6bb2",
                "tags": []
            }
        },
        {
            "cell_type": "code",
            "source": [
                "df = pd.DataFrame(data=np.c_[boston['data'], boston['target']], columns=boston['feature_names'].tolist() + ['MEDV'])\r\n",
                "\r\n",
                "# x contains all predictors (features)\r\n",
                "x = df.drop(['MEDV'], axis = 1)\r\n",
                "\r\n",
                "# y is what we are trying to predict - the median value\r\n",
                "y = df.iloc[:,-1]\r\n",
                "\r\n",
                "\r\n",
                " # Split the data frame into features and target\r\n",
                "x_train = df.drop(['MEDV'], axis = 1)\r\n",
                "y_train = df.iloc[:,-1]\r\n",
                "\r\n",
                "print(\"\\n*** Training data set x\\n\")\r\n",
                "print(x_train.head())\r\n",
                "\r\n",
                "print(\"\\n*** Training data set y\\n\")\r\n",
                "print(y_train.head())"
            ],
            "metadata": {
                "azdata_cell_guid": "a8c7cb08-063a-44a0-ae08-be85498c77c9",
                "tags": []
            },
            "outputs": [
                {
                    "output_type": "stream",
                    "name": "stdout",
                    "text": "\n*** Training data set x\n\n      CRIM    ZN  INDUS  CHAS    NOX     RM   AGE     DIS  RAD    TAX  \\\n0  0.00632  18.0   2.31   0.0  0.538  6.575  65.2  4.0900  1.0  296.0   \n1  0.02731   0.0   7.07   0.0  0.469  6.421  78.9  4.9671  2.0  242.0   \n2  0.02729   0.0   7.07   0.0  0.469  7.185  61.1  4.9671  2.0  242.0   \n3  0.03237   0.0   2.18   0.0  0.458  6.998  45.8  6.0622  3.0  222.0   \n4  0.06905   0.0   2.18   0.0  0.458  7.147  54.2  6.0622  3.0  222.0   \n\n   PTRATIO       B  LSTAT  \n0     15.3  396.90   4.98  \n1     17.8  396.90   9.14  \n2     17.8  392.83   4.03  \n3     18.7  394.63   2.94  \n4     18.7  396.90   5.33  \n\n*** Training data set y\n\n0    24.0\n1    21.6\n2    34.7\n3    33.4\n4    36.2\nName: MEDV, dtype: float64\n"
                }
            ],
            "execution_count": 3
        },
        {
            "cell_type": "markdown",
            "source": [
                "## Building a Linear Regression Model"
            ],
            "metadata": {
                "azdata_cell_guid": "1180f390-ebb4-4022-bfb2-767d6adabbeb",
                "tags": []
            }
        },
        {
            "cell_type": "code",
            "source": [
                "from sklearn.compose import ColumnTransformer\r\n",
                "from sklearn.linear_model import LinearRegression\r\n",
                "from sklearn.pipeline import Pipeline\r\n",
                "from sklearn.preprocessing import RobustScaler\r\n",
                "\r\n",
                "continuous_transformer = Pipeline(steps=[('scaler', RobustScaler())])\r\n",
                "\r\n",
                "# All columns are numeric - normalize them\r\n",
                "preprocessor = ColumnTransformer(\r\n",
                "    transformers=[\r\n",
                "        ('continuous', continuous_transformer, [i for i in range(len(x_train.columns))])])\r\n",
                "\r\n",
                "model = Pipeline(\r\n",
                "    steps=[\r\n",
                "        ('preprocessor', preprocessor),\r\n",
                "        ('regressor', LinearRegression())])\r\n",
                "\r\n",
                "# Train the model\r\n",
                "model.fit(x_train, y_train)"
            ],
            "metadata": {
                "azdata_cell_guid": "f8ab7482-f5cb-4ab1-9d04-7d71a1a8e3e1",
                "tags": []
            },
            "outputs": [
                {
                    "output_type": "execute_result",
                    "execution_count": 4,
                    "data": {
                        "text/plain": "Pipeline(memory=None,\n         steps=[('preprocessor',\n                 ColumnTransformer(n_jobs=None, remainder='drop',\n                                   sparse_threshold=0.3,\n                                   transformer_weights=None,\n                                   transformers=[('continuous',\n                                                  Pipeline(memory=None,\n                                                           steps=[('scaler',\n                                                                   RobustScaler(copy=True,\n                                                                                quantile_range=(25.0,\n                                                                                                75.0),\n                                                                                with_centering=True,\n                                                                                with_scaling=True))],\n                                                           verbose=False),\n                                                  [0, 1, 2, 3, 4, 5, 6, 7, 8, 9,\n                                                   10, 11, 12])],\n                                   verbose=False)),\n                ('regressor',\n                 LinearRegression(copy_X=True, fit_intercept=True, n_jobs=None,\n                                  normalize=False))],\n         verbose=False)"
                    },
                    "metadata": {}
                }
            ],
            "execution_count": 4
        },
        {
            "cell_type": "markdown",
            "source": [
                "## Let's predict !"
            ],
            "metadata": {
                "azdata_cell_guid": "72d4b693-78ec-445b-90b1-34111726dfe4",
                "tags": []
            }
        },
        {
            "cell_type": "code",
            "source": [
                "y_pred = model.predict(x_train)"
            ],
            "metadata": {
                "azdata_cell_guid": "f04c6d19-3ab7-4f6d-802c-c66a770ac3b3",
                "tags": []
            },
            "outputs": [],
            "execution_count": 5
        },
        {
            "cell_type": "markdown",
            "source": [
                "## Score the model"
            ],
            "metadata": {
                "azdata_cell_guid": "3c843ac3-19e5-4ea7-bcde-84fffcda43fb",
                "tags": []
            }
        },
        {
            "cell_type": "code",
            "source": [
                "from sklearn.metrics import r2_score, mean_squared_error\n",
                "sklearn_r2_score = r2_score(y_train, y_pred)\n",
                "sklearn_mse = mean_squared_error(y_train, y_pred)\n",
                "print('*** Scikit-learn r2 score: {}'.format(sklearn_r2_score))\n",
                "print('*** Scikit-learn MSE: {}'.format(sklearn_mse))"
            ],
            "metadata": {
                "azdata_cell_guid": "610bd438-daa4-49be-a4c4-422fce4bef96",
                "tags": []
            },
            "outputs": [
                {
                    "output_type": "stream",
                    "name": "stdout",
                    "text": "*** Scikit-learn r2 score: 0.7406426641094094\n*** Scikit-learn MSE: 21.894831181729206\n"
                }
            ],
            "execution_count": 6
        },
        {
            "cell_type": "markdown",
            "source": [
                "## Save the model"
            ],
            "metadata": {
                "azdata_cell_guid": "228930a7-d26b-4d0e-bb11-f7dc3572dfae",
                "tags": []
            }
        },
        {
            "cell_type": "code",
            "source": [
                "from joblib import dump, load\r\n",
                "dump(model, 'filename.joblib')\r\n",
                "model = load('filename.joblib')\r\n",
                "model.predict(x_train)"
            ],
            "metadata": {
                "azdata_cell_guid": "d98b2b53-5617-455d-9f88-931b210d9207",
                "tags": []
            },
            "outputs": [],
            "execution_count": 7
        },
        {
            "cell_type": "markdown",
            "source": [
                "<p align=\"center\">\r\n",
                "<img src =\"https://raw.githubusercontent.com/hfleitas/GlobalAIBootcamp2019/master/joblibzoom.jpg? sanitize=true\" width=\"250\" align=\"center\">\r\n",
                "</p>"
            ],
            "metadata": {
                "azdata_cell_guid": "75223bc6-468f-4f0e-9a8c-8fd52b74408d"
            }
        },
        {
            "cell_type": "markdown",
            "source": [
                "## Predict for each feature set"
            ],
            "metadata": {
                "azdata_cell_guid": "7fae1a38-546c-4753-a48e-77c889cc55fb",
                "tags": []
            }
        },
        {
            "cell_type": "code",
            "source": [
                "predictions = []\r\n",
                "for i in range(5):\r\n",
                "    pdata = x_train.iloc[i:(i+1),:]\r\n",
                "    p = model.predict(pdata)\r\n",
                "    print(\"tuples\")\r\n",
                "    print(pdata)\r\n",
                "    print(f\"predicted: {p}\")\r\n",
                "    predictions.append(p)\r\n",
                "\r\n",
                "print(predictions)"
            ],
            "metadata": {
                "azdata_cell_guid": "825c175d-b42d-46dd-9081-4d4ec14d5f52",
                "tags": []
            },
            "outputs": [
                {
                    "output_type": "stream",
                    "name": "stdout",
                    "text": "tuples\n      CRIM    ZN  INDUS  CHAS    NOX     RM   AGE   DIS  RAD    TAX  PTRATIO  \\\n0  0.00632  18.0   2.31   0.0  0.538  6.575  65.2  4.09  1.0  296.0     15.3   \n\n       B  LSTAT  \n0  396.9   4.98  \npredicted: [30.00384338]\ntuples\n      CRIM   ZN  INDUS  CHAS    NOX     RM   AGE     DIS  RAD    TAX  PTRATIO  \\\n1  0.02731  0.0   7.07   0.0  0.469  6.421  78.9  4.9671  2.0  242.0     17.8   \n\n       B  LSTAT  \n1  396.9   9.14  \npredicted: [25.02556238]\ntuples\n      CRIM   ZN  INDUS  CHAS    NOX     RM   AGE     DIS  RAD    TAX  PTRATIO  \\\n2  0.02729  0.0   7.07   0.0  0.469  7.185  61.1  4.9671  2.0  242.0     17.8   \n\n        B  LSTAT  \n2  392.83   4.03  \npredicted: [30.56759672]\ntuples\n      CRIM   ZN  INDUS  CHAS    NOX     RM   AGE     DIS  RAD    TAX  PTRATIO  \\\n3  0.03237  0.0   2.18   0.0  0.458  6.998  45.8  6.0622  3.0  222.0     18.7   \n\n        B  LSTAT  \n3  394.63   2.94  \npredicted: [28.60703649]\ntuples\n      CRIM   ZN  INDUS  CHAS    NOX     RM   AGE     DIS  RAD    TAX  PTRATIO  \\\n4  0.06905  0.0   2.18   0.0  0.458  7.147  54.2  6.0622  3.0  222.0     18.7   \n\n       B  LSTAT  \n4  396.9   5.33  \npredicted: [27.94352423]\n[array([30.00384338]), array([25.02556238]), array([30.56759672]), array([28.60703649]), array([27.94352423])]\n"
                }
            ],
            "execution_count": 12
        },
        {
            "cell_type": "markdown",
            "source": [
                "<p align=\"center\">\r\n",
                "<img src =\"https://miro.medium.com/max/1200/1*nPcdyVwgcuEZiEZiRqApug.jpeg\" width=\"250\" align=\"center\">\r\n",
                "</p>\r\n",
                "<span style=\"color:blue\"><font size=\"3\"> Convert the Kernel to PySpark"
            ],
            "metadata": {
                "azdata_cell_guid": "67208950-fbcd-4d39-a158-f11af2d6f5ad",
                "tags": []
            }
        },
        {
            "cell_type": "markdown",
            "source": [
                "<p align=\"center\">\r\n",
                "<img src =\"https://raw.githubusercontent.com/microsoft/azuredatastudio/master/src/sql/media/microsoft_logo_gray.svg?sanitize=true\" width=\"250\" align=\"center\">\r\n",
                "</p>\r\n",
                "\r\n",
                "## **Building Machine Learning Model in Python using Spark in SQL Server 2019 Big Data Cluster**\r\n",
                "### <span style=\"color:green\"><font size=\"3\"> Recommended approach for Enterprises."
            ],
            "metadata": {
                "azdata_cell_guid": "2c1cfaa3-1bc0-4894-a6d3-6624bc21e88a",
                "tags": []
            }
        },
        {
            "cell_type": "code",
            "source": [
                "import sklearn\r\n",
                "import numpy as np\r\n",
                "import pandas as pd\r\n",
                "\r\n",
                "import sklearn.datasets\r\n",
                "from sklearn.preprocessing import StandardScaler, OneHotEncoder, LabelEncoder, RobustScaler\r\n",
                "from sklearn.compose import ColumnTransformer, make_column_transformer\r\n",
                "from sklearn.metrics import r2_score, mean_squared_error\r\n",
                "from sklearn.pipeline import make_pipeline\r\n",
                "from sklearn.linear_model import LogisticRegression, LinearRegression\r\n",
                "from sklearn.neural_network import MLPRegressor\r\n",
                "from sklearn.pipeline import Pipeline"
            ],
            "metadata": {
                "azdata_cell_guid": "4a4fbed2-edc3-44aa-8576-ac58aa7d7d87",
                "tags": []
            },
            "outputs": [
                {
                    "output_type": "stream",
                    "name": "stdout",
                    "text": "Starting Spark application\n"
                },
                {
                    "output_type": "display_data",
                    "data": {
                        "text/plain": "<IPython.core.display.HTML object>",
                        "text/html": "<table>\n<tr><th>ID</th><th>YARN Application ID</th><th>Kind</th><th>State</th><th>Spark UI</th><th>Driver log</th><th>Current session?</th></tr><tr><td>14</td><td>application_1572670769653_0015</td><td>pyspark</td><td>idle</td><td><a target=\"_blank\" href=\"https://40.114.107.56:30443/gateway/default/yarn/proxy/application_1572670769653_0015/\">Link</a></td><td><a target=\"_blank\" href=\"https://40.114.107.56:30443/gateway/default/yarn/container/container_1572670769653_0015_01_000001/root\">Link</a></td><td>✔</td></tr></table>"
                    },
                    "metadata": {}
                },
                {
                    "output_type": "display_data",
                    "data": {
                        "text/plain": "FloatProgress(value=0.0, bar_style='info', description='Progress:', layout=Layout(height='25px', width='50%'),…",
                        "application/vnd.jupyter.widget-view+json": {
                            "version_major": 2,
                            "version_minor": 0,
                            "model_id": "8d04737b08c34ef496caf5e2c9d9c595"
                        }
                    },
                    "metadata": {}
                },
                {
                    "output_type": "stream",
                    "name": "stdout",
                    "text": "SparkSession available as 'spark'.\n"
                },
                {
                    "output_type": "display_data",
                    "data": {
                        "text/plain": "FloatProgress(value=0.0, bar_style='info', description='Progress:', layout=Layout(height='25px', width='50%'),…",
                        "application/vnd.jupyter.widget-view+json": {
                            "version_major": 2,
                            "version_minor": 0,
                            "model_id": "882c3954aa044286ad0f2222db78cea6"
                        }
                    },
                    "metadata": {}
                }
            ],
            "execution_count": 8
        },
        {
            "cell_type": "markdown",
            "source": [
                "## Example: Load libraries into the cluster."
            ],
            "metadata": {
                "azdata_cell_guid": "4b74f570-50f8-4b01-89e0-b289c2e1078d",
                "tags": []
            }
        },
        {
            "cell_type": "code",
            "source": [
                "import subprocess\r\n",
                "\r\n",
                "# Install JobLib\r\n",
                "stdout = subprocess.check_output(\r\n",
                "    \"pip3 install joblib\",\r\n",
                "    stderr=subprocess.STDOUT,\r\n",
                "    shell=True).decode(\"utf-8\")\r\n",
                "print(stdout)"
            ],
            "metadata": {
                "azdata_cell_guid": "47602b73-53ed-4cc3-89ca-cbc91d7ad821",
                "tags": []
            },
            "outputs": [
                {
                    "output_type": "display_data",
                    "data": {
                        "text/plain": "FloatProgress(value=0.0, bar_style='info', description='Progress:', layout=Layout(height='25px', width='50%'),…",
                        "application/vnd.jupyter.widget-view+json": {
                            "version_major": 2,
                            "version_minor": 0,
                            "model_id": "a3280c89c4f9469dadd65b59f4e2d500"
                        }
                    },
                    "metadata": {}
                },
                {
                    "output_type": "stream",
                    "name": "stdout",
                    "text": "Requirement already satisfied: joblib in /usr/local/lib/python3.5/dist-packages (0.13.2)\nWARNING: You are using pip version 19.2.3, however version 19.3.1 is available.\nYou should consider upgrading via the 'pip install --upgrade pip' command."
                }
            ],
            "execution_count": 9
        },
        {
            "cell_type": "markdown",
            "source": [
                "## Load the data from HDFS"
            ],
            "metadata": {
                "azdata_cell_guid": "9788f955-13c5-4acd-91c0-a9280cf94cba",
                "tags": []
            }
        },
        {
            "cell_type": "code",
            "source": [
                "house_df = (spark.read.option(\"inferSchema\", \"true\")\r\n",
                ".option(\"header\", \"true\")\r\n",
                ".csv(\"/BostonData/BostonHousing.csv\"))\r\n",
                "house_df.show(10)"
            ],
            "metadata": {
                "azdata_cell_guid": "2558d9b0-47a0-4b36-870b-8bd924a9dfd7",
                "tags": []
            },
            "outputs": [
                {
                    "output_type": "display_data",
                    "data": {
                        "text/plain": "FloatProgress(value=0.0, bar_style='info', description='Progress:', layout=Layout(height='25px', width='50%'),…",
                        "application/vnd.jupyter.widget-view+json": {
                            "version_major": 2,
                            "version_minor": 0,
                            "model_id": "cb4cc0f20b4e487eb979064c6861d82a"
                        }
                    },
                    "metadata": {}
                },
                {
                    "output_type": "stream",
                    "name": "stdout",
                    "text": "+-------+----+-----+----+-----+-----+-----+------+---+---+-------+------+-----+----+\n|   crim|  zn|indus|chas|  nox|   rm|  age|   dis|rad|tax|ptratio|     b|lstat|medv|\n+-------+----+-----+----+-----+-----+-----+------+---+---+-------+------+-----+----+\n|0.00632|18.0| 2.31|   0|0.538|6.575| 65.2|  4.09|  1|296|   15.3| 396.9| 4.98|24.0|\n|0.02731| 0.0| 7.07|   0|0.469|6.421| 78.9|4.9671|  2|242|   17.8| 396.9| 9.14|21.6|\n|0.02729| 0.0| 7.07|   0|0.469|7.185| 61.1|4.9671|  2|242|   17.8|392.83| 4.03|34.7|\n|0.03237| 0.0| 2.18|   0|0.458|6.998| 45.8|6.0622|  3|222|   18.7|394.63| 2.94|33.4|\n|0.06905| 0.0| 2.18|   0|0.458|7.147| 54.2|6.0622|  3|222|   18.7| 396.9| 5.33|36.2|\n|0.02985| 0.0| 2.18|   0|0.458| 6.43| 58.7|6.0622|  3|222|   18.7|394.12| 5.21|28.7|\n|0.08829|12.5| 7.87|   0|0.524|6.012| 66.6|5.5605|  5|311|   15.2| 395.6|12.43|22.9|\n|0.14455|12.5| 7.87|   0|0.524|6.172| 96.1|5.9505|  5|311|   15.2| 396.9|19.15|27.1|\n|0.21124|12.5| 7.87|   0|0.524|5.631|100.0|6.0821|  5|311|   15.2|386.63|29.93|16.5|\n|0.17004|12.5| 7.87|   0|0.524|6.004| 85.9|6.5921|  5|311|   15.2|386.71| 17.1|18.9|\n+-------+----+-----+----+-----+-----+-----+------+---+---+-------+------+-----+----+\nonly showing top 10 rows"
                }
            ],
            "execution_count": 10
        },
        {
            "cell_type": "markdown",
            "source": [
                "## Prepare data for Machine Learning"
            ],
            "metadata": {
                "azdata_cell_guid": "ce1bc0ea-7a94-483a-963c-2c1653ac1b74",
                "tags": []
            }
        },
        {
            "cell_type": "code",
            "source": [
                "from sklearn.compose import ColumnTransformer\n",
                "from sklearn.linear_model import LinearRegression\n",
                "from sklearn.pipeline import Pipeline\n",
                "from sklearn.preprocessing import RobustScaler\n",
                "\n",
                "# Convert the Spark data frame to pandas\n",
                "df = house_df.toPandas()\n",
                "\n",
                "x_train = df.drop(['medv'], axis = 1)\n",
                "y_train = df.iloc[:,-1]"
            ],
            "metadata": {
                "azdata_cell_guid": "971a7456-8e7a-4652-843c-0f7ad17fd13b",
                "tags": []
            },
            "outputs": [
                {
                    "output_type": "display_data",
                    "data": {
                        "text/plain": "FloatProgress(value=0.0, bar_style='info', description='Progress:', layout=Layout(height='25px', width='50%'),…",
                        "application/vnd.jupyter.widget-view+json": {
                            "version_major": 2,
                            "version_minor": 0,
                            "model_id": "9794eaef77ab47849e073f65b4ced565"
                        }
                    },
                    "metadata": {}
                }
            ],
            "execution_count": 11
        },
        {
            "cell_type": "markdown",
            "source": [
                "## Build a Linear Regression Model"
            ],
            "metadata": {
                "azdata_cell_guid": "b92905e1-2089-40d2-8cfa-20a310f5bae0",
                "tags": []
            }
        },
        {
            "cell_type": "code",
            "source": [
                "continuous_transformer = Pipeline(steps=[('scaler', RobustScaler())])\n",
                "\n",
                "# All columns are numeric - normalize them\n",
                "preprocessor = ColumnTransformer(\n",
                "    transformers=[\n",
                "        ('continuous', continuous_transformer, [i for i in range(len(x_train.columns))])])\n",
                "\n",
                "model = Pipeline(\n",
                "    steps=[\n",
                "        ('preprocessor', preprocessor),\n",
                "        ('regressor', LinearRegression())])\n",
                "\n",
                "# Train the model\n",
                "lr_model = model.fit(x_train, y_train)"
            ],
            "metadata": {
                "azdata_cell_guid": "f0c87133-478b-4e75-927e-c48c82b42085",
                "tags": []
            },
            "outputs": [
                {
                    "output_type": "display_data",
                    "data": {
                        "text/plain": "FloatProgress(value=0.0, bar_style='info', description='Progress:', layout=Layout(height='25px', width='50%'),…",
                        "application/vnd.jupyter.widget-view+json": {
                            "version_major": 2,
                            "version_minor": 0,
                            "model_id": "251c21ae6c8843f08560d10e001d763f"
                        }
                    },
                    "metadata": {}
                }
            ],
            "execution_count": 12
        },
        {
            "cell_type": "markdown",
            "source": [
                "## Let's Predict !"
            ],
            "metadata": {
                "azdata_cell_guid": "e6b074d1-e139-4b3f-b5e2-a5e8d95ff7c5",
                "tags": []
            }
        },
        {
            "cell_type": "code",
            "source": [
                "y_pred = model.predict(x_train)\n",
                "print(y_pred)"
            ],
            "metadata": {
                "azdata_cell_guid": "463850e5-5422-4ab3-8b03-b4364ba9c7e9",
                "tags": []
            },
            "outputs": [
                {
                    "output_type": "display_data",
                    "data": {
                        "text/plain": "FloatProgress(value=0.0, bar_style='info', description='Progress:', layout=Layout(height='25px', width='50%'),…",
                        "application/vnd.jupyter.widget-view+json": {
                            "version_major": 2,
                            "version_minor": 0,
                            "model_id": "fd0bf971109d42468c8e9be3de6ed2af"
                        }
                    },
                    "metadata": {}
                },
                {
                    "output_type": "stream",
                    "name": "stdout",
                    "text": "[30.00384338 25.02556238 30.56759672 28.60703649 27.94352423 25.25628446\n 23.00180827 19.53598843 11.52363685 18.92026211 18.99949651 21.58679568\n 20.90652153 19.55290281 19.28348205 19.29748321 20.52750979 16.91140135\n 16.17801106 18.40613603 12.52385753 17.67103669 15.83288129 13.80628535\n 15.67833832 13.38668561 15.46397655 14.70847428 19.54737285 20.8764282\n 11.45511759 18.05923295  8.81105736 14.28275814 13.70675891 23.81463526\n 22.34193708 23.10891142 22.91502612 31.35762569 34.21510225 28.02056414\n 25.20386628 24.60979273 22.94149176 22.09669817 20.42320032 18.03655088\n  9.10655377 17.20607751 21.28152535 23.97222285 27.6558508  24.04901809\n 15.3618477  31.15264947 24.85686978 33.10919806 21.77537987 21.08493555\n 17.8725804  18.51110208 23.98742856 22.55408869 23.37308644 30.36148358\n 25.53056512 21.11338564 17.42153786 20.78483633 25.20148859 21.7426577\n 24.55744957 24.04295712 25.50499716 23.9669302  22.94545403 23.35699818\n 21.26198266 22.42817373 28.40576968 26.99486086 26.03576297 25.05873482\n 24.78456674 27.79049195 22.16853423 25.89276415 30.67461827 30.83110623\n 27.1190194  27.41266734 28.94122762 29.08105546 27.03977365 28.62459949\n 24.72744978 35.78159518 35.11454587 32.25102801 24.58022019 25.59413475\n 19.79013684 20.31167129 21.43482591 18.53994008 17.18755992 20.75049026\n 22.64829115 19.7720367  20.64965864 26.52586744 20.77323638 20.71548315\n 25.17208881 20.43025591 23.37724626 23.69043261 20.33578364 20.79180873\n 21.91632071 22.47107777 20.55738556 16.36661977 20.56099819 22.48178446\n 14.61706633 15.17876684 18.93868592 14.05573285 20.03527399 19.41013402\n 20.06191566 15.75807673 13.25645238 17.26277735 15.87841883 19.36163954\n 13.81483897 16.44881475 13.57141932  3.98885508 14.59495478 12.1488148\n  8.72822362 12.03585343 15.82082058  8.5149902   9.71844139 14.80451374\n 20.83858153 18.30101169 20.12282558 17.28601894 22.36600228 20.10375923\n 13.62125891 33.25982697 29.03017268 25.56752769 32.70827666 36.77467015\n 40.55765844 41.84728168 24.78867379 25.37889238 37.20347455 23.08748747\n 26.40273955 26.65382114 22.5551466  24.29082812 22.97657219 29.07194308\n 26.5219434  30.72209056 25.61669307 29.13740979 31.43571968 32.92231568\n 34.72440464 27.76552111 33.88787321 30.99238036 22.71820008 24.7664781\n 35.88497226 33.42476722 32.41199147 34.51509949 30.76109485 30.28934141\n 32.91918714 32.11260771 31.55871004 40.84555721 36.12770079 32.6692081\n 34.70469116 30.09345162 30.64393906 29.28719501 37.07148392 42.03193124\n 43.18949844 22.69034796 23.68284712 17.85447214 23.49428992 17.00587718\n 22.39251096 17.06042754 22.73892921 25.21942554 11.11916737 24.51049148\n 26.60334775 28.35518713 24.91525464 29.68652768 33.18419746 23.77456656\n 32.14051958 29.7458199  38.37102453 39.81461867 37.58605755 32.3995325\n 35.45665242 31.23411512 24.48449227 33.28837292 38.0481048  37.16328631\n 31.71383523 25.26705571 30.10010745 32.71987156 28.42717057 28.42940678\n 27.29375938 23.74262478 24.12007891 27.40208414 16.3285756  13.39891261\n 20.01638775 19.86184428 21.2883131  24.0798915  24.20633547 25.04215821\n 24.91964007 29.94563374 23.97228316 21.69580887 37.51109239 43.30239043\n 36.48361421 34.98988594 34.81211508 37.16631331 40.98928501 34.44634089\n 35.83397547 28.245743   31.22673593 40.8395575  39.31792393 25.70817905\n 22.30295533 27.20340972 28.51169472 35.47676598 36.10639164 33.79668274\n 35.61085858 34.83993382 30.35192656 35.30980701 38.79756966 34.33123186\n 40.33963075 44.67308339 31.59689086 27.3565923  20.10174154 27.04206674\n 27.2136458  26.91395839 33.43563311 34.40349633 31.8333982  25.81783237\n 24.42982348 28.45764337 27.36266999 19.53928758 29.11309844 31.91054611\n 30.77159449 28.94275871 28.88191022 32.79887232 33.20905456 30.76831792\n 35.56226857 32.70905124 28.64244237 23.58965827 18.54266897 26.87889843\n 23.28133979 25.54580246 25.48120057 20.53909901 17.61572573 18.37581686\n 24.29070277 21.32529039 24.88682244 24.86937282 22.86952447 19.45123791\n 25.11783401 24.66786913 23.68076177 19.34089616 21.17418105 24.25249073\n 21.59260894 19.98446605 23.33888    22.14060692 21.55509929 20.61872907\n 20.16097176 19.28490387 22.1667232  21.24965774 21.42939305 30.32788796\n 22.04734975 27.70647912 28.54794117 16.54501121 14.78359641 25.27380082\n 27.54205117 22.14837562 20.45944095 20.54605423 16.88063827 25.40253506\n 14.32486632 16.59488462 19.63704691 22.71806607 22.20218887 19.20548057\n 22.66616105 18.93192618 18.22846804 20.23150811 37.4944739  14.28190734\n 15.54286248 10.83162324 23.80072902 32.6440736  34.60684042 24.94331333\n 25.9998091   6.126325    0.77779806 25.30713064 17.74061065 20.23274414\n 15.83331301 16.83512587 14.36994825 18.47682833 13.4276828  13.06177512\n  3.27918116  8.06022171  6.12842196  5.6186481   6.4519857  14.20764735\n 17.21225183 17.29887265  9.89116643 20.22124193 17.94181175 20.30445783\n 19.29559075 16.33632779  6.55162319 10.89016778 11.88145871 17.81174507\n 18.26126587 12.97948781  7.37816361  8.21115861  8.06626193 19.98294786\n 13.70756369 19.85268454 15.22308298 16.96071981  1.71851807 11.80578387\n -4.28131071  9.58376737 13.36660811  6.89562363  6.14779852 14.60661794\n 19.6000267  18.12427476 18.52177132 13.1752861  14.62617624  9.92374976\n 16.34590647 14.07519426 14.25756243 13.04234787 18.15955693 18.69554354\n 21.527283   17.03141861 15.96090435 13.36141611 14.52079384  8.81976005\n  4.86751102 13.06591313 12.70609699 17.29558059 18.740485   18.05901029\n 11.51474683 11.97400359 17.68344618 18.12695239 17.5183465  17.22742507\n 16.52271631 19.41291095 18.58215236 22.48944791 15.28000133 15.82089335\n 12.68725581 12.8763379  17.18668531 18.51247609 19.04860533 20.17208927\n 19.7740732  22.42940768 20.31911854 17.88616253 14.37478523 16.94776851\n 16.98405762 18.58838397 20.16719441 22.97718032 22.45580726 25.57824627\n 16.39147632 16.1114628  20.534816   11.54272738 19.20496304 21.86276391\n 23.46878866 27.09887315 28.56994302 21.08398783 19.45516196 22.22225914\n 19.65591961 21.32536104 11.85583717  8.22386687  3.66399672 13.75908538\n 15.93118545 20.62662054 20.61249414 16.88541964 14.01320787 19.10854144\n 21.29805174 18.45498841 20.46870847 23.53334055 22.37571892 27.6274261\n 26.12796681 22.34421229]"
                }
            ],
            "execution_count": 13
        },
        {
            "cell_type": "markdown",
            "source": [
                "## Score the Model"
            ],
            "metadata": {
                "azdata_cell_guid": "fb3f69c7-823b-4089-b146-b51d11b2ad82",
                "tags": []
            }
        },
        {
            "cell_type": "code",
            "source": [
                "from sklearn.metrics import r2_score, mean_squared_error\n",
                "sklearn_r2_score = r2_score(y_train, y_pred)\n",
                "sklearn_mse = mean_squared_error(y_train, y_pred)\n",
                "print('*** Scikit-learn r2 score: {}'.format(sklearn_r2_score))\n",
                "print('*** Scikit-learn MSE: {}'.format(sklearn_mse))"
            ],
            "metadata": {
                "azdata_cell_guid": "32f413a1-2578-4839-85e4-ca994925a6b9",
                "tags": []
            },
            "outputs": [
                {
                    "output_type": "display_data",
                    "data": {
                        "text/plain": "FloatProgress(value=0.0, bar_style='info', description='Progress:', layout=Layout(height='25px', width='50%'),…",
                        "application/vnd.jupyter.widget-view+json": {
                            "version_major": 2,
                            "version_minor": 0,
                            "model_id": "6b3de216d38342b3ba25276585daf129"
                        }
                    },
                    "metadata": {}
                },
                {
                    "output_type": "stream",
                    "name": "stdout",
                    "text": "*** Scikit-learn r2 score: 0.7406426641094094\n*** Scikit-learn MSE: 21.894831181729206"
                }
            ],
            "execution_count": 14
        },
        {
            "cell_type": "markdown",
            "source": [
                "## Save the model in HDFS"
            ],
            "metadata": {
                "azdata_cell_guid": "5899f350-7047-474c-9982-aff42f70ea20",
                "tags": []
            }
        },
        {
            "cell_type": "code",
            "source": [
                "from joblib import dump, load\n",
                "dump(model, 'filename.joblib')\n",
                "import subprocess\n",
                "cmd='/opt/hadoop/bin/hadoop fs -copyFromLocal -f filename.joblib /user/rony/'\n",
                "subprocess.check_output(cmd.split())"
            ],
            "metadata": {
                "azdata_cell_guid": "bbb5fa7d-9e70-4d8a-ba68-64c6bf309d5b",
                "tags": []
            },
            "outputs": [
                {
                    "output_type": "display_data",
                    "data": {
                        "text/plain": "FloatProgress(value=0.0, bar_style='info', description='Progress:', layout=Layout(height='25px', width='50%'),…",
                        "application/vnd.jupyter.widget-view+json": {
                            "version_major": 2,
                            "version_minor": 0,
                            "model_id": "d8859aa50b844139930b951830042c2e"
                        }
                    },
                    "metadata": {}
                },
                {
                    "output_type": "stream",
                    "name": "stdout",
                    "text": "b''"
                }
            ],
            "execution_count": 15
        },
        {
            "cell_type": "markdown",
            "source": [
                "<p align=\"center\">\n",
                "<img src =\"https://upload.wikimedia.org/wikipedia/en/thumb/2/29/Apache_Spark_Logo.svg/1200px-Apache_Spark_Logo.svg.png\" width=\"250\" align=\"center\">\n",
                "</p>\n",
                "\n",
                "<span style=\"color:blue\"><font size=\"3\"> Convert the Kernel to Spark | R in the Kernel"
            ],
            "metadata": {
                "azdata_cell_guid": "99d64e16-1e1e-4f0b-8923-366dafce7868",
                "tags": []
            }
        },
        {
            "cell_type": "markdown",
            "source": [
                "<p align=\"center\">\r\n",
                "<img src =\"https://raw.githubusercontent.com/microsoft/azuredatastudio/master/src/sql/media/microsoft_logo_gray.svg?sanitize=true\" width=\"250\" align=\"center\">\r\n",
                "</p>\r\n",
                "\r\n",
                "## **Building Machine Learning Model in R using Spark in SQL Server 2019 Big Data Cluster**\r\n",
                "### <span style=\"color:green\"><font size=\"3\"> Recommended approach for Enterprises."
            ],
            "metadata": {
                "azdata_cell_guid": "616d7327-c6d5-481d-a3b5-10003c439171",
                "tags": []
            }
        },
        {
            "cell_type": "markdown",
            "source": [
                "## Install packages in the cluster"
            ],
            "metadata": {
                "azdata_cell_guid": "bf992eba-756a-488f-a1dd-2a6541c1f2a9",
                "tags": []
            }
        },
        {
            "cell_type": "code",
            "source": [
                "install.packages('caTools')"
            ],
            "metadata": {
                "azdata_cell_guid": "8a520ec9-d439-4ced-a859-1c122fd202a1",
                "tags": []
            },
            "outputs": [
                {
                    "output_type": "stream",
                    "name": "stdout",
                    "text": "Starting Spark application\n"
                },
                {
                    "output_type": "display_data",
                    "data": {
                        "text/plain": "<IPython.core.display.HTML object>",
                        "text/html": "<table>\n<tr><th>ID</th><th>YARN Application ID</th><th>Kind</th><th>State</th><th>Spark UI</th><th>Driver log</th><th>Current session?</th></tr><tr><td>15</td><td>application_1572670769653_0016</td><td>sparkr</td><td>idle</td><td><a target=\"_blank\" href=\"https://40.114.107.56:30443/gateway/default/yarn/proxy/application_1572670769653_0016/\">Link</a></td><td><a target=\"_blank\" href=\"https://40.114.107.56:30443/gateway/default/yarn/container/container_1572670769653_0016_01_000001/root\">Link</a></td><td>✔</td></tr></table>"
                    },
                    "metadata": {}
                },
                {
                    "output_type": "display_data",
                    "data": {
                        "text/plain": "FloatProgress(value=0.0, bar_style='info', description='Progress:', layout=Layout(height='25px', width='50%'),…",
                        "application/vnd.jupyter.widget-view+json": {
                            "version_major": 2,
                            "version_minor": 0,
                            "model_id": "57b6af0d8a8b481e9df2437f16c278e6"
                        }
                    },
                    "metadata": {}
                },
                {
                    "output_type": "stream",
                    "name": "stdout",
                    "text": "SparkSession available as 'spark'.\n"
                },
                {
                    "output_type": "display_data",
                    "data": {
                        "text/plain": "FloatProgress(value=0.0, bar_style='info', description='Progress:', layout=Layout(height='25px', width='50%'),…",
                        "application/vnd.jupyter.widget-view+json": {
                            "version_major": 2,
                            "version_minor": 0,
                            "model_id": "173261cc266c4310b03dc0046830d3f5"
                        }
                    },
                    "metadata": {}
                },
                {
                    "output_type": "stream",
                    "name": "stdout",
                    "text": "Installing package into '/tmp/nm-local-dir/filecache/10/sparkr.zip'\n(as 'lib' is unspecified)\n  % Total    % Received % Xferd  Average Speed   Time    Time     Time  Current\n                                 Dload  Upload   Total   Spent    Left  Speed\n\r  0     0    0     0    0     0      0      0 --:--:-- --:--:-- --:--:--     0\r  0     0    0     0    0     0      0      0 --:--:-- --:--:-- --:--:--     0\r100 63565  100 63565    0     0  61777      0  0:00:01  0:00:01 --:--:-- 61833\n* installing *source* package 'caTools' ...\n** package 'caTools' successfully unpacked and MD5 sums checked\n** libs\ng++  -I/opt/microsoft/ropen/3.5.2/lib64/R/include -DNDEBUG   -DU_STATIC_IMPLEMENTATION   -fpic  -DU_STATIC_IMPLEMENTATION -O2 -g  -c Gif2R.cpp -o Gif2R.o\ng++  -I/opt/microsoft/ropen/3.5.2/lib64/R/include -DNDEBUG   -DU_STATIC_IMPLEMENTATION   -fpic  -DU_STATIC_IMPLEMENTATION -O2 -g  -c GifTools.cpp -o GifTools.o\ngcc -std=gnu99 -I/opt/microsoft/ropen/3.5.2/lib64/R/include -DNDEBUG   -DU_STATIC_IMPLEMENTATION   -fpic  -DU_STATIC_IMPLEMENTATION -O2 -g  -c runfunc.c -o runfunc.o\ng++ -shared -L/opt/microsoft/ropen/3.5.2/lib64/R/lib -o caTools.so Gif2R.o GifTools.o runfunc.o -L/opt/microsoft/ropen/3.5.2/lib64/R/lib -lR\ninstalling to /tmp/nm-local-dir/filecache/10/sparkr.zip/caTools/libs\n** R\n** byte-compile and prepare package for lazy loading\n** help\n*** installing help indices\n** building package indices\n** testing if installed package can be loaded\n* DONE (caTools)\n\nThe downloaded source packages are in\n\t'/tmp/RtmpyCav6s/downloaded_packages'"
                }
            ],
            "execution_count": 5
        },
        {
            "cell_type": "markdown",
            "source": [
                "## Load the library."
            ],
            "metadata": {
                "azdata_cell_guid": "395d8faa-9644-4057-bc9e-48e1349e07b9",
                "tags": []
            }
        },
        {
            "cell_type": "code",
            "source": [
                "library(caTools)"
            ],
            "metadata": {
                "azdata_cell_guid": "c55ba219-f2f4-46ac-b7d0-0c6b88b11ed6",
                "tags": []
            },
            "outputs": [
                {
                    "output_type": "display_data",
                    "data": {
                        "text/plain": "FloatProgress(value=0.0, bar_style='info', description='Progress:', layout=Layout(height='25px', width='50%'),…",
                        "application/vnd.jupyter.widget-view+json": {
                            "version_major": 2,
                            "version_minor": 0,
                            "model_id": "40db4df6b2b44c35912117ed0eb216b6"
                        }
                    },
                    "metadata": {}
                }
            ],
            "execution_count": 6
        },
        {
            "cell_type": "markdown",
            "source": [
                "## Load the Boston Housing dataset"
            ],
            "metadata": {
                "azdata_cell_guid": "b7fe6473-26e7-432d-8678-9a3f04c02e0c",
                "tags": []
            }
        },
        {
            "cell_type": "code",
            "source": [
                "library(MASS)\r\n",
                "housing <- Boston\r\n",
                "str(housing)"
            ],
            "metadata": {
                "azdata_cell_guid": "c0cbb331-0988-4305-8fb9-bb51216db3a9",
                "tags": []
            },
            "outputs": [
                {
                    "output_type": "display_data",
                    "data": {
                        "text/plain": "FloatProgress(value=0.0, bar_style='info', description='Progress:', layout=Layout(height='25px', width='50%'),…",
                        "application/vnd.jupyter.widget-view+json": {
                            "version_major": 2,
                            "version_minor": 0,
                            "model_id": "cfdec5f36cd2443da3e7018652d76a2e"
                        }
                    },
                    "metadata": {}
                },
                {
                    "output_type": "stream",
                    "name": "stdout",
                    "text": "\nAttaching package: 'MASS'\n\nThe following object is masked from 'package:SparkR':\n\n    select\n\n'data.frame':\t506 obs. of  14 variables:\n $ crim   : num  0.00632 0.02731 0.02729 0.03237 0.06905 ...\n $ zn     : num  18 0 0 0 0 0 12.5 12.5 12.5 12.5 ...\n $ indus  : num  2.31 7.07 7.07 2.18 2.18 2.18 7.87 7.87 7.87 7.87 ...\n $ chas   : int  0 0 0 0 0 0 0 0 0 0 ...\n $ nox    : num  0.538 0.469 0.469 0.458 0.458 0.458 0.524 0.524 0.524 0.524 ...\n $ rm     : num  6.58 6.42 7.18 7 7.15 ...\n $ age    : num  65.2 78.9 61.1 45.8 54.2 58.7 66.6 96.1 100 85.9 ...\n $ dis    : num  4.09 4.97 4.97 6.06 6.06 ...\n $ rad    : int  1 2 2 3 3 3 5 5 5 5 ...\n $ tax    : num  296 242 242 222 222 222 311 311 311 311 ...\n $ ptratio: num  15.3 17.8 17.8 18.7 18.7 18.7 15.2 15.2 15.2 15.2 ...\n $ black  : num  397 397 393 395 397 ...\n $ lstat  : num  4.98 9.14 4.03 2.94 5.33 ...\n $ medv   : num  24 21.6 34.7 33.4 36.2 28.7 22.9 27.1 16.5 18.9 ..."
                }
            ],
            "execution_count": 7
        },
        {
            "cell_type": "markdown",
            "source": [
                "## Load summary of the data"
            ],
            "metadata": {
                "azdata_cell_guid": "789303ec-08d0-472e-b7d5-5485f3986741",
                "tags": []
            }
        },
        {
            "cell_type": "code",
            "source": [
                "summary(housing)"
            ],
            "metadata": {
                "azdata_cell_guid": "d297932f-04fe-4ba9-a74e-7fa242898f65",
                "tags": []
            },
            "outputs": [
                {
                    "output_type": "display_data",
                    "data": {
                        "text/plain": "FloatProgress(value=0.0, bar_style='info', description='Progress:', layout=Layout(height='25px', width='50%'),…",
                        "application/vnd.jupyter.widget-view+json": {
                            "version_major": 2,
                            "version_minor": 0,
                            "model_id": "97dede2aec6f4a04a00011fe00a5f3cd"
                        }
                    },
                    "metadata": {}
                },
                {
                    "output_type": "stream",
                    "name": "stdout",
                    "text": "      crim                zn             indus            chas        \n Min.   : 0.00632   Min.   :  0.00   Min.   : 0.46   Min.   :0.00000  \n 1st Qu.: 0.08204   1st Qu.:  0.00   1st Qu.: 5.19   1st Qu.:0.00000  \n Median : 0.25651   Median :  0.00   Median : 9.69   Median :0.00000  \n Mean   : 3.61352   Mean   : 11.36   Mean   :11.14   Mean   :0.06917  \n 3rd Qu.: 3.67708   3rd Qu.: 12.50   3rd Qu.:18.10   3rd Qu.:0.00000  \n Max.   :88.97620   Max.   :100.00   Max.   :27.74   Max.   :1.00000  \n      nox               rm             age              dis        \n Min.   :0.3850   Min.   :3.561   Min.   :  2.90   Min.   : 1.130  \n 1st Qu.:0.4490   1st Qu.:5.886   1st Qu.: 45.02   1st Qu.: 2.100  \n Median :0.5380   Median :6.208   Median : 77.50   Median : 3.207  \n Mean   :0.5547   Mean   :6.285   Mean   : 68.57   Mean   : 3.795  \n 3rd Qu.:0.6240   3rd Qu.:6.623   3rd Qu.: 94.08   3rd Qu.: 5.188  \n Max.   :0.8710   Max.   :8.780   Max.   :100.00   Max.   :12.127  \n      rad              tax           ptratio          black       \n Min.   : 1.000   Min.   :187.0   Min.   :12.60   Min.   :  0.32  \n 1st Qu.: 4.000   1st Qu.:279.0   1st Qu.:17.40   1st Qu.:375.38  \n Median : 5.000   Median :330.0   Median :19.05   Median :391.44  \n Mean   : 9.549   Mean   :408.2   Mean   :18.46   Mean   :356.67  \n 3rd Qu.:24.000   3rd Qu.:666.0   3rd Qu.:20.20   3rd Qu.:396.23  \n Max.   :24.000   Max.   :711.0   Max.   :22.00   Max.   :396.90  \n     lstat            medv      \n Min.   : 1.73   Min.   : 5.00  \n 1st Qu.: 6.95   1st Qu.:17.02  \n Median :11.36   Median :21.20  \n Mean   :12.65   Mean   :22.53  \n 3rd Qu.:16.95   3rd Qu.:25.00  \n Max.   :37.97   Max.   :50.00  "
                }
            ],
            "execution_count": 8
        },
        {
            "cell_type": "markdown",
            "source": [
                "## Train and Test Data\r\n",
                "Lets split the data into train and test data using caTools library."
            ],
            "metadata": {
                "azdata_cell_guid": "3031b2b7-78ed-4b50-b47a-837dce9a243b",
                "tags": []
            }
        },
        {
            "cell_type": "code",
            "source": [
                "set.seed(123)\r\n",
                "\r\n",
                "split <- sample.split(housing,SplitRatio =0.75)\r\n",
                "\r\n",
                "train <- subset(housing,split==TRUE)\r\n",
                "test <- subset(housing,split==FALSE)"
            ],
            "metadata": {
                "azdata_cell_guid": "b4ef991c-ffca-46c1-bd7e-2c269f5a01da",
                "tags": []
            },
            "outputs": [
                {
                    "output_type": "display_data",
                    "data": {
                        "text/plain": "FloatProgress(value=0.0, bar_style='info', description='Progress:', layout=Layout(height='25px', width='50%'),…",
                        "application/vnd.jupyter.widget-view+json": {
                            "version_major": 2,
                            "version_minor": 0,
                            "model_id": "a01d543ddb5b4c439e9eb6724457da6d"
                        }
                    },
                    "metadata": {}
                }
            ],
            "execution_count": 9
        },
        {
            "cell_type": "markdown",
            "source": [
                "## Training our Model\r\n",
                "Lets build our model considering that crim,rm,tax,lstat as the major influencers on the target variable.\r\n",
                "\r\n",
                "### General Form\r\n",
                "The General Linear regression model in R :\r\n",
                "\r\n",
                "Univariate Model : model<−lm(y∼x,data)\r\n",
                "\r\n",
                "Multivariate Model : model<−lm(y∼.,data)"
            ],
            "metadata": {
                "azdata_cell_guid": "0d4db876-6bcf-4648-a5ee-0b4f60b9dd75",
                "tags": []
            }
        },
        {
            "cell_type": "code",
            "source": [
                "model <- lm(medv ~ crim + rm + tax + lstat, data = train)\r\n",
                "summary(model)"
            ],
            "metadata": {
                "azdata_cell_guid": "377d5471-23ad-40f4-a838-0cc52d9f69a3",
                "tags": []
            },
            "outputs": [
                {
                    "output_type": "display_data",
                    "data": {
                        "text/plain": "FloatProgress(value=0.0, bar_style='info', description='Progress:', layout=Layout(height='25px', width='50%'),…",
                        "application/vnd.jupyter.widget-view+json": {
                            "version_major": 2,
                            "version_minor": 0,
                            "model_id": "289da81e9e9848e69c5406c20ea1cb55"
                        }
                    },
                    "metadata": {}
                },
                {
                    "output_type": "stream",
                    "name": "stdout",
                    "text": "\nCall:\nlm(formula = medv ~ crim + rm + tax + lstat, data = train)\n\nResiduals:\n    Min      1Q  Median      3Q     Max \n-16.266  -3.185  -1.052   2.116  30.121 \n\nCoefficients:\n             Estimate Std. Error t value Pr(>|t|)    \n(Intercept) -3.767079   3.573477  -1.054  0.29251    \ncrim        -0.070793   0.037113  -1.908  0.05725 .  \nrm           5.580390   0.492854  11.323  < 2e-16 ***\ntax         -0.006392   0.002114  -3.023  0.00268 ** \nlstat       -0.483836   0.058230  -8.309 2.04e-15 ***\n---\nSignif. codes:  0 '***' 0.001 '**' 0.01 '*' 0.05 '.' 0.1 ' ' 1\n\nResidual standard error: 5.183 on 357 degrees of freedom\nMultiple R-squared:  0.6816,\tAdjusted R-squared:  0.678 \nF-statistic: 191.1 on 4 and 357 DF,  p-value: < 2.2e-16\n"
                }
            ],
            "execution_count": 10
        },
        {
            "cell_type": "markdown",
            "source": [
                "## Predictions\r\n",
                "Let’s test our model by predicting on our testing dataset."
            ],
            "metadata": {
                "azdata_cell_guid": "ef3407be-a44f-4bb1-92b2-2480bb59d838",
                "tags": []
            }
        },
        {
            "cell_type": "code",
            "source": [
                "test$predicted.medv <- predict(model,test)\r\n",
                "test$predicted.medv"
            ],
            "metadata": {
                "azdata_cell_guid": "c6c82e6e-58db-4522-975a-376472f662b1",
                "tags": []
            },
            "outputs": [
                {
                    "output_type": "display_data",
                    "data": {
                        "text/plain": "FloatProgress(value=0.0, bar_style='info', description='Progress:', layout=Layout(height='25px', width='50%'),…",
                        "application/vnd.jupyter.widget-view+json": {
                            "version_major": 2,
                            "version_minor": 0,
                            "model_id": "4dd824a692c04f86b23bd7d62cf642b3"
                        }
                    },
                    "metadata": {}
                },
                {
                    "output_type": "stream",
                    "name": "stdout",
                    "text": "  [1] 32.440740 32.113253 19.411543 19.920849 20.543782 19.004375 20.805892\n  [8] 19.389226 21.749638 13.968600 22.869986 22.828563 21.499305 20.172152\n [15] 18.151272 28.455183 23.024340 20.081653 27.546848 21.415019 25.471001\n [22] 25.408773 22.977419 29.413703 24.723074 30.943821 26.279292 24.252127\n [29] 27.899978 24.361495 18.451163 23.960183 18.914829 22.101451 18.857622\n [36] 19.614202 15.960423 23.357454 18.633330 18.398711 11.097580  6.649332\n [43]  6.690665 20.880808 30.094244 24.301541 34.507933 20.534033 20.485362\n [50] 18.317478 28.286616 29.269575 22.968716 36.542299 31.170285 32.350281\n [57] 30.378115 31.325170 36.778058 24.439996 25.489047 10.345608 26.840397\n [64] 28.336530 31.136580 35.243768 33.059574 27.877751 22.320777 24.359574\n [71] 16.456553 25.404518 22.531880 34.763728 29.341558 38.513306 21.232677\n [78] 21.175265 34.526978 32.227477 37.650788 30.166307 25.551434 31.340331\n [85] 19.022201 26.942988 26.305841 31.836754 25.503665 22.211417 20.543873\n [92] 24.862860 27.814492 26.624820 25.268940 24.154255 23.483336 23.605732\n [99] 27.758503 20.761582 30.404045 21.801883 20.969540 23.588699  6.126215\n[106] 17.786456 21.399145 -4.613167 17.176570 10.800112  5.326549  3.378496\n[113] 19.186326 17.930775  9.429833 17.206778 19.620403 15.590635  8.998828\n[120] 16.577067 14.265439 14.105804 16.894053 18.264245 12.434634  7.667177\n[127] 17.591075 12.226809 20.149869 18.399500 19.279644 18.736556 17.052884\n[134] 16.625433 15.789702 20.696429 19.378412 21.200078 18.889097 18.443686\n[141] 19.757872 20.207994 19.225418 20.417482"
                }
            ],
            "execution_count": 11
        },
        {
            "cell_type": "markdown",
            "source": [
                "## Evaluating the model"
            ],
            "metadata": {
                "azdata_cell_guid": "70f222e6-34fe-4a80-99cf-11304499c203",
                "tags": []
            }
        },
        {
            "cell_type": "code",
            "source": [
                "error <- test$medv-test$predicted.medv\r\n",
                "rmse <- sqrt(mean(error)^2)\r\n",
                "rmse"
            ],
            "metadata": {
                "azdata_cell_guid": "6df01084-7c4d-49eb-a4c5-1a3997ead173",
                "tags": []
            },
            "outputs": [
                {
                    "output_type": "display_data",
                    "data": {
                        "text/plain": "FloatProgress(value=0.0, bar_style='info', description='Progress:', layout=Layout(height='25px', width='50%'),…",
                        "application/vnd.jupyter.widget-view+json": {
                            "version_major": 2,
                            "version_minor": 0,
                            "model_id": "7ed6aaa5855a4233b691861bb1c0477a"
                        }
                    },
                    "metadata": {}
                },
                {
                    "output_type": "stream",
                    "name": "stdout",
                    "text": "[1] 0.7602882"
                }
            ],
            "execution_count": 12
        },
        {
            "cell_type": "markdown",
            "source": [
                "<p align=\"center\">\n",
                "<img src =\"https://miro.medium.com/max/1200/1*nPcdyVwgcuEZiEZiRqApug.jpeg\" width=\"200\" align=\"center\">\n",
                "</p>\n",
                "<span style=\"color:blue\"><font size=\"3\"> Convert the Kernel to PySpark"
            ],
            "metadata": {
                "azdata_cell_guid": "3009f364-f05a-4d91-9fb1-f5bc730660b7",
                "tags": []
            }
        },
        {
            "cell_type": "markdown",
            "source": [
                "## **Load the data into SQL using the Spark to SQL Connector**"
            ],
            "metadata": {
                "azdata_cell_guid": "b3e360d0-e819-4a05-b99f-ea389ec62e2c",
                "tags": []
            }
        },
        {
            "cell_type": "code",
            "source": [
                "house_df = (spark.read.option(\"inferSchema\", \"true\")\n",
                ".option(\"header\", \"true\")\n",
                ".csv(\"/BostonData/BostonHousing.csv\"))\n",
                "house_df.show(10)"
            ],
            "metadata": {
                "azdata_cell_guid": "1902c54c-0441-48a1-80da-6d869eb22ca7",
                "tags": []
            },
            "outputs": [
                {
                    "output_type": "display_data",
                    "data": {
                        "text/plain": "FloatProgress(value=0.0, bar_style='info', description='Progress:', layout=Layout(height='25px', width='50%'),…",
                        "application/vnd.jupyter.widget-view+json": {
                            "version_major": 2,
                            "version_minor": 0,
                            "model_id": "8ce1c0f2fb4e4f249af2edc253efd9cb"
                        }
                    },
                    "metadata": {}
                },
                {
                    "output_type": "stream",
                    "name": "stdout",
                    "text": "+-------+----+-----+----+-----+-----+-----+------+---+---+-------+------+-----+----+\n|   crim|  zn|indus|chas|  nox|   rm|  age|   dis|rad|tax|ptratio|     b|lstat|medv|\n+-------+----+-----+----+-----+-----+-----+------+---+---+-------+------+-----+----+\n|0.00632|18.0| 2.31|   0|0.538|6.575| 65.2|  4.09|  1|296|   15.3| 396.9| 4.98|24.0|\n|0.02731| 0.0| 7.07|   0|0.469|6.421| 78.9|4.9671|  2|242|   17.8| 396.9| 9.14|21.6|\n|0.02729| 0.0| 7.07|   0|0.469|7.185| 61.1|4.9671|  2|242|   17.8|392.83| 4.03|34.7|\n|0.03237| 0.0| 2.18|   0|0.458|6.998| 45.8|6.0622|  3|222|   18.7|394.63| 2.94|33.4|\n|0.06905| 0.0| 2.18|   0|0.458|7.147| 54.2|6.0622|  3|222|   18.7| 396.9| 5.33|36.2|\n|0.02985| 0.0| 2.18|   0|0.458| 6.43| 58.7|6.0622|  3|222|   18.7|394.12| 5.21|28.7|\n|0.08829|12.5| 7.87|   0|0.524|6.012| 66.6|5.5605|  5|311|   15.2| 395.6|12.43|22.9|\n|0.14455|12.5| 7.87|   0|0.524|6.172| 96.1|5.9505|  5|311|   15.2| 396.9|19.15|27.1|\n|0.21124|12.5| 7.87|   0|0.524|5.631|100.0|6.0821|  5|311|   15.2|386.63|29.93|16.5|\n|0.17004|12.5| 7.87|   0|0.524|6.004| 85.9|6.5921|  5|311|   15.2|386.71| 17.1|18.9|\n+-------+----+-----+----+-----+-----+-----+------+---+---+-------+------+-----+----+\nonly showing top 10 rows"
                }
            ],
            "execution_count": 7
        },
        {
            "cell_type": "code",
            "source": [
                "#Write from Spark to SQL table using MSSQL Spark Connector\n",
                "import os\n",
                "\n",
                "# Read credentials for server\n",
                "servername = \"jdbc:sqlserver://master-0.master-svc\"\n",
                "df = (spark.read.option(\"inferSchema\", \"true\")\n",
                ".option(\"header\", \"true\")\n",
                ".csv(\"/user/rony/credentials.txt\"))\n",
                "\n",
                "credentials = df.filter(df.servername == servername).collect()\n",
                "\n",
                "print(\"Use MSSQL connector to write to master SQL instance \")\n",
                "#servername=\"jdbc:sqlserver://10.193.17.192:31433\"\n",
                "dbname = \"BostonData\"\n",
                "url = servername + \";\" + \"databaseName=\" + dbname + \";\"\n",
                "datasource_name = \"Boston\"\n",
                "dbtable = \"Boston\"\n",
                "user = credentials[0].username\n",
                "password = credentials[0].password\n",
                "#com.microsoft.sqlserver.jdbc.spark\n",
                "try:\n",
                "  house_df.write \\\n",
                "    .format(\"com.microsoft.sqlserver.jdbc.spark\") \\\n",
                "    .mode(\"overwrite\") \\\n",
                "    .option(\"url\", url) \\\n",
                "    .option(\"dbtable\", dbtable) \\\n",
                "    .option(\"user\", user) \\\n",
                "    .option(\"password\", password) \\\n",
                "    .option(\"dataPoolDataSource\",datasource_name)\\\n",
                "    .save()\n",
                "    \n",
                "except ValueError as error :\n",
                "    print(\"MSSQL Connector write failed\", error)\n",
                "print(\"MSSQL Connector write(overwrite) succeeded  \")"
            ],
            "metadata": {
                "azdata_cell_guid": "ca3cd2c7-f9d4-4936-865f-2fda3c4af646",
                "tags": []
            },
            "outputs": [
                {
                    "output_type": "display_data",
                    "data": {
                        "text/plain": "FloatProgress(value=0.0, bar_style='info', description='Progress:', layout=Layout(height='25px', width='50%'),…",
                        "application/vnd.jupyter.widget-view+json": {
                            "version_major": 2,
                            "version_minor": 0,
                            "model_id": "69933096b0804199ba12ec99c28b6e16"
                        }
                    },
                    "metadata": {}
                },
                {
                    "output_type": "stream",
                    "name": "stdout",
                    "text": "Use MSSQL connector to write to master SQL instance \nMSSQL Connector write(overwrite) succeeded"
                }
            ],
            "execution_count": 8
        },
        {
            "cell_type": "markdown",
            "source": [
                "\n",
                "# **Partner Engagements**"
            ],
            "metadata": {
                "azdata_cell_guid": "e80a4a3c-4f7f-4672-81ce-a2a8f6137617"
            }
        },
        {
            "cell_type": "markdown",
            "source": [
                "## **Load the data into SQL Server Big Data Clusters from Kafka using StreamSets**\n",
                "\n",
                "<img width=\"166\" alt=\"image\" src=\"https://user-images.githubusercontent.com/22312581/68363893-2b297400-00e1-11ea-980b-1abf3c790269.png\">\n",
                "\n",
                "\n",
                "### StreamSets Demo"
            ],
            "metadata": {
                "azdata_cell_guid": "5d6ce1b0-9176-4ea9-9389-066404c4b3d8"
            }
        },
        {
            "cell_type": "markdown",
            "source": [
                "## **Accelerating Spark ML over SQL Server 2019 Big Data Cluster**\n",
                "\n",
                "<img width=\"127\" alt=\"image\" src=\"https://user-images.githubusercontent.com/22312581/68370687-ec4fea00-00f1-11ea-87ca-a08f37cb0fbd.png\">\n",
                "\n",
                "[InAccel Blog Post](https://medium.com/@inaccel/accelerating-spark-ml-over-sql-server-2019-big-data-cluster-instantly-542159267052)\n",
                "\n",
                "<img width=\"707\" alt=\"image\" src=\"https://user-images.githubusercontent.com/22312581/68371038-a5aebf80-00f2-11ea-8cc7-9b4dfdc76c7f.png\">\n",
                ""
            ],
            "metadata": {
                "azdata_cell_guid": "ef0f99e7-0525-4406-9582-cad98bc1e5b1"
            }
        },
        {
            "cell_type": "markdown",
            "source": [
                "## **Package Management in SQL Server**"
            ],
            "metadata": {
                "azdata_cell_guid": "5e61ac19-14ae-46cb-85d1-475ba7e91df5"
            }
        },
        {
            "cell_type": "code",
            "source": [
                "EXEC sp_execute_external_script\n",
                "@language=N'Python',\n",
                "@script=N'import pkg_resources\n",
                "import pandas\n",
                "OutputDataSet = pandas.DataFrame([(d.project_name, d.version) for d in pkg_resources.working_set])\n",
                "'"
            ],
            "metadata": {
                "azdata_cell_guid": "f6961b9b-ca8f-40dc-a0aa-7d531eab4fd9",
                "tags": []
            },
            "outputs": [
                {
                    "output_type": "display_data",
                    "data": {
                        "text/html": "(169 rows affected)"
                    },
                    "metadata": {}
                },
                {
                    "output_type": "display_data",
                    "data": {
                        "text/html": "Total execution time: 00:00:03.692"
                    },
                    "metadata": {}
                },
                {
                    "output_type": "execute_result",
                    "execution_count": 1,
                    "data": {
                        "application/vnd.dataresource+json": {
                            "schema": {
                                "fields": [
                                    {
                                        "name": "(No column name)"
                                    },
                                    {
                                        "name": "(No column name)"
                                    }
                                ]
                            },
                            "data": [
                                {
                                    "0": "glue",
                                    "1": "0.13"
                                },
                                {
                                    "0": "revoscalepy",
                                    "1": "9.4.7"
                                },
                                {
                                    "0": "microsoftml",
                                    "1": "9.4.7"
                                },
                                {
                                    "0": "zipp",
                                    "1": "0.5.2"
                                },
                                {
                                    "0": "zict",
                                    "1": "1.0.0"
                                },
                                {
                                    "0": "xlwt",
                                    "1": "1.3.0"
                                },
                                {
                                    "0": "XlsxWriter",
                                    "1": "1.1.2"
                                },
                                {
                                    "0": "xlrd",
                                    "1": "1.2.0"
                                },
                                {
                                    "0": "wrapt",
                                    "1": "1.11.2"
                                },
                                {
                                    "0": "widgetsnbextension",
                                    "1": "3.4.2"
                                },
                                {
                                    "0": "wheel",
                                    "1": "0.33.4"
                                },
                                {
                                    "0": "Werkzeug",
                                    "1": "0.15.5"
                                },
                                {
                                    "0": "webencodings",
                                    "1": "0.5.1"
                                },
                                {
                                    "0": "wcwidth",
                                    "1": "0.1.7"
                                },
                                {
                                    "0": "urllib3",
                                    "1": "1.24.2"
                                },
                                {
                                    "0": "unicodecsv",
                                    "1": "0.14.1"
                                },
                                {
                                    "0": "traitlets",
                                    "1": "4.3.2"
                                },
                                {
                                    "0": "tornado",
                                    "1": "6.0.3"
                                },
                                {
                                    "0": "toolz",
                                    "1": "0.9.0"
                                },
                                {
                                    "0": "testpath",
                                    "1": "0.4.2"
                                },
                                {
                                    "0": "terminado",
                                    "1": "0.8.2"
                                },
                                {
                                    "0": "tblib",
                                    "1": "1.4.0"
                                },
                                {
                                    "0": "tables",
                                    "1": "3.5.2"
                                },
                                {
                                    "0": "sympy",
                                    "1": "1.3"
                                },
                                {
                                    "0": "statsmodels",
                                    "1": "0.9.0"
                                },
                                {
                                    "0": "sqlparse",
                                    "1": "0.2.4"
                                },
                                {
                                    "0": "SQLAlchemy",
                                    "1": "1.2.15"
                                },
                                {
                                    "0": "sphinxcontrib-websupport",
                                    "1": "1.1.2"
                                },
                                {
                                    "0": "Sphinx",
                                    "1": "1.8.2"
                                },
                                {
                                    "0": "sparkmagic",
                                    "1": "0.12.6"
                                },
                                {
                                    "0": "sortedcontainers",
                                    "1": "2.1.0"
                                },
                                {
                                    "0": "snowballstemmer",
                                    "1": "1.9.0"
                                },
                                {
                                    "0": "six",
                                    "1": "1.12.0"
                                },
                                {
                                    "0": "setuptools",
                                    "1": "41.0.1"
                                },
                                {
                                    "0": "Send2Trash",
                                    "1": "1.5.0"
                                },
                                {
                                    "0": "seaborn",
                                    "1": "0.9.0"
                                },
                                {
                                    "0": "scipy",
                                    "1": "1.1.0"
                                },
                                {
                                    "0": "scikit-learn",
                                    "1": "0.20.2"
                                },
                                {
                                    "0": "scikit-image",
                                    "1": "0.14.1"
                                },
                                {
                                    "0": "ruamel-yaml",
                                    "1": "0.15.46"
                                },
                                {
                                    "0": "retrying",
                                    "1": "1.3.3"
                                },
                                {
                                    "0": "requests",
                                    "1": "2.21.0"
                                },
                                {
                                    "0": "requests-kerberos",
                                    "1": "0.12.0"
                                },
                                {
                                    "0": "qtconsole",
                                    "1": "4.5.3"
                                },
                                {
                                    "0": "pyzmq",
                                    "1": "18.1.0"
                                },
                                {
                                    "0": "PyYAML",
                                    "1": "5.1.2"
                                },
                                {
                                    "0": "PyWavelets",
                                    "1": "1.0.3"
                                },
                                {
                                    "0": "pytz",
                                    "1": "2019.2"
                                },
                                {
                                    "0": "python-dateutil",
                                    "1": "2.8.0"
                                },
                                {
                                    "0": "pytest",
                                    "1": "4.0.2"
                                },
                                {
                                    "0": "PySocks",
                                    "1": "1.7.0"
                                },
                                {
                                    "0": "pyparsing",
                                    "1": "2.4.2"
                                },
                                {
                                    "0": "pyOpenSSL",
                                    "1": "19.0.0"
                                },
                                {
                                    "0": "pyodbc",
                                    "1": "4.0.25"
                                },
                                {
                                    "0": "pykerberos",
                                    "1": "1.2.1"
                                },
                                {
                                    "0": "PyJWT",
                                    "1": "1.7.1"
                                },
                                {
                                    "0": "Pygments",
                                    "1": "2.4.2"
                                },
                                {
                                    "0": "pycurl",
                                    "1": "7.43.0.2"
                                },
                                {
                                    "0": "pycrypto",
                                    "1": "2.6.1"
                                },
                                {
                                    "0": "pycparser",
                                    "1": "2.19"
                                },
                                {
                                    "0": "pycosat",
                                    "1": "0.6.3"
                                },
                                {
                                    "0": "py",
                                    "1": "1.8.0"
                                },
                                {
                                    "0": "ptyprocess",
                                    "1": "0.6.0"
                                },
                                {
                                    "0": "psutil",
                                    "1": "5.4.8"
                                },
                                {
                                    "0": "prompt-toolkit",
                                    "1": "2.0.7"
                                },
                                {
                                    "0": "prometheus-client",
                                    "1": "0.7.1"
                                },
                                {
                                    "0": "pluggy",
                                    "1": "0.12.0"
                                },
                                {
                                    "0": "plotly",
                                    "1": "4.0.0"
                                },
                                {
                                    "0": "pkginfo",
                                    "1": "1.5.0.1"
                                },
                                {
                                    "0": "pip",
                                    "1": "18.1"
                                },
                                {
                                    "0": "Pillow",
                                    "1": "6.1.0"
                                },
                                {
                                    "0": "pickleshare",
                                    "1": "0.7.5"
                                },
                                {
                                    "0": "pexpect",
                                    "1": "4.7.0"
                                },
                                {
                                    "0": "patsy",
                                    "1": "0.5.1"
                                },
                                {
                                    "0": "pathlib2",
                                    "1": "2.3.3"
                                },
                                {
                                    "0": "path.py",
                                    "1": "11.5.0"
                                },
                                {
                                    "0": "partd",
                                    "1": "0.3.9"
                                },
                                {
                                    "0": "parso",
                                    "1": "0.5.1"
                                },
                                {
                                    "0": "pandocfilters",
                                    "1": "1.4.2"
                                },
                                {
                                    "0": "pandasql",
                                    "1": "0.7.3"
                                },
                                {
                                    "0": "pandas",
                                    "1": "0.23.4"
                                },
                                {
                                    "0": "pandas-datareader",
                                    "1": "0.7.0"
                                },
                                {
                                    "0": "packaging",
                                    "1": "19.1"
                                },
                                {
                                    "0": "openpyxl",
                                    "1": "2.5.12"
                                },
                                {
                                    "0": "olefile",
                                    "1": "0.46"
                                },
                                {
                                    "0": "odo",
                                    "1": "0.5.1"
                                },
                                {
                                    "0": "numpydoc",
                                    "1": "0.8.0"
                                },
                                {
                                    "0": "numpy",
                                    "1": "1.15.4"
                                },
                                {
                                    "0": "numexpr",
                                    "1": "2.6.9"
                                },
                                {
                                    "0": "numba",
                                    "1": "0.42.0"
                                },
                                {
                                    "0": "notebook",
                                    "1": "5.7.8"
                                },
                                {
                                    "0": "nltk",
                                    "1": "3.4"
                                },
                                {
                                    "0": "networkx",
                                    "1": "2.2"
                                },
                                {
                                    "0": "nbformat",
                                    "1": "4.4.0"
                                },
                                {
                                    "0": "nbconvert",
                                    "1": "5.5.0"
                                },
                                {
                                    "0": "multipledispatch",
                                    "1": "0.6.0"
                                },
                                {
                                    "0": "msgpack",
                                    "1": "0.6.1"
                                },
                                {
                                    "0": "mpmath",
                                    "1": "1.1.0"
                                },
                                {
                                    "0": "more-itertools",
                                    "1": "7.2.0"
                                },
                                {
                                    "0": "mock",
                                    "1": "3.0.5"
                                },
                                {
                                    "0": "mkl-random",
                                    "1": "1.0.2"
                                },
                                {
                                    "0": "mkl-fft",
                                    "1": "1.0.10"
                                },
                                {
                                    "0": "mistune",
                                    "1": "0.8.4"
                                },
                                {
                                    "0": "matplotlib",
                                    "1": "3.0.2"
                                },
                                {
                                    "0": "MarkupSafe",
                                    "1": "1.1.0"
                                },
                                {
                                    "0": "lxml",
                                    "1": "4.3.0"
                                },
                                {
                                    "0": "locket",
                                    "1": "0.2.0"
                                },
                                {
                                    "0": "llvmlite",
                                    "1": "0.27.0"
                                },
                                {
                                    "0": "liac-arff",
                                    "1": "2.4.0"
                                },
                                {
                                    "0": "kiwisolver",
                                    "1": "1.1.0"
                                },
                                {
                                    "0": "jupyter",
                                    "1": "1.0.0"
                                },
                                {
                                    "0": "jupyter-core",
                                    "1": "4.5.0"
                                },
                                {
                                    "0": "jupyter-console",
                                    "1": "6.0.0"
                                },
                                {
                                    "0": "jupyter-client",
                                    "1": "5.2.4"
                                },
                                {
                                    "0": "jsonschema",
                                    "1": "2.6.0"
                                },
                                {
                                    "0": "Jinja2",
                                    "1": "2.10.1"
                                },
                                {
                                    "0": "jedi",
                                    "1": "0.15.1"
                                },
                                {
                                    "0": "jdcal",
                                    "1": "1.4"
                                },
                                {
                                    "0": "itsdangerous",
                                    "1": "1.1.0"
                                },
                                {
                                    "0": "ipywidgets",
                                    "1": "7.4.2"
                                },
                                {
                                    "0": "ipython",
                                    "1": "7.2.0"
                                },
                                {
                                    "0": "ipython-genutils",
                                    "1": "0.2.0"
                                },
                                {
                                    "0": "ipykernel",
                                    "1": "4.9.0"
                                },
                                {
                                    "0": "importlib-metadata",
                                    "1": "0.19"
                                },
                                {
                                    "0": "imagesize",
                                    "1": "1.1.0"
                                },
                                {
                                    "0": "imageio",
                                    "1": "2.5.0"
                                },
                                {
                                    "0": "idna",
                                    "1": "2.8"
                                },
                                {
                                    "0": "heapdict",
                                    "1": "1.0.0"
                                },
                                {
                                    "0": "hdijupyterutils",
                                    "1": "0.12.9"
                                },
                                {
                                    "0": "h5py",
                                    "1": "2.9.0"
                                },
                                {
                                    "0": "gmpy2",
                                    "1": "2.0.8"
                                },
                                {
                                    "0": "Flask",
                                    "1": "1.1.1"
                                },
                                {
                                    "0": "Flask-Cors",
                                    "1": "3.0.8"
                                },
                                {
                                    "0": "fastcache",
                                    "1": "1.1.0"
                                },
                                {
                                    "0": "et-xmlfile",
                                    "1": "1.0.1"
                                },
                                {
                                    "0": "entrypoints",
                                    "1": "0.3"
                                },
                                {
                                    "0": "docutils",
                                    "1": "0.15.2"
                                },
                                {
                                    "0": "distributed",
                                    "1": "1.28.1"
                                },
                                {
                                    "0": "dill",
                                    "1": "0.2.8.2"
                                },
                                {
                                    "0": "defusedxml",
                                    "1": "0.6.0"
                                },
                                {
                                    "0": "decorator",
                                    "1": "4.4.0"
                                },
                                {
                                    "0": "datashape",
                                    "1": "0.5.4"
                                },
                                {
                                    "0": "dask",
                                    "1": "1.2.2"
                                },
                                {
                                    "0": "cytoolz",
                                    "1": "0.9.0.1"
                                },
                                {
                                    "0": "Cython",
                                    "1": "0.29.2"
                                },
                                {
                                    "0": "cycler",
                                    "1": "0.10.0"
                                },
                                {
                                    "0": "cryptography",
                                    "1": "2.5"
                                },
                                {
                                    "0": "configobj",
                                    "1": "5.0.6"
                                },
                                {
                                    "0": "conda",
                                    "1": "4.5.12"
                                },
                                {
                                    "0": "cloudpickle",
                                    "1": "0.6.1"
                                },
                                {
                                    "0": "Click",
                                    "1": "7.0"
                                },
                                {
                                    "0": "chest",
                                    "1": "0.2.3"
                                },
                                {
                                    "0": "chardet",
                                    "1": "3.0.4"
                                },
                                {
                                    "0": "cffi",
                                    "1": "1.12.3"
                                },
                                {
                                    "0": "certifi",
                                    "1": "2019.6.16"
                                },
                                {
                                    "0": "Bottleneck",
                                    "1": "1.2.1"
                                },
                                {
                                    "0": "bokeh",
                                    "1": "1.0.3"
                                },
                                {
                                    "0": "bleach",
                                    "1": "3.1.0"
                                },
                                {
                                    "0": "blaze",
                                    "1": "0.11.3"
                                },
                                {
                                    "0": "backports.os",
                                    "1": "0.1.1"
                                },
                                {
                                    "0": "backcall",
                                    "1": "0.1.0"
                                },
                                {
                                    "0": "Babel",
                                    "1": "2.7.0"
                                },
                                {
                                    "0": "azureml-model-management-sdk",
                                    "1": "1.0.1b10"
                                },
                                {
                                    "0": "autovizwidget",
                                    "1": "0.12.9"
                                },
                                {
                                    "0": "attrs",
                                    "1": "19.1.0"
                                },
                                {
                                    "0": "atomicwrites",
                                    "1": "1.3.0"
                                },
                                {
                                    "0": "asn1crypto",
                                    "1": "0.24.0"
                                },
                                {
                                    "0": "alabaster",
                                    "1": "0.7.12"
                                },
                                {
                                    "0": "adal",
                                    "1": "1.2.2"
                                }
                            ]
                        },
                        "text/html": "<table><tr><th>(No column name)</th><th>(No column name)</th></tr><tr><td>glue</td><td>0.13</td></tr><tr><td>revoscalepy</td><td>9.4.7</td></tr><tr><td>microsoftml</td><td>9.4.7</td></tr><tr><td>zipp</td><td>0.5.2</td></tr><tr><td>zict</td><td>1.0.0</td></tr><tr><td>xlwt</td><td>1.3.0</td></tr><tr><td>XlsxWriter</td><td>1.1.2</td></tr><tr><td>xlrd</td><td>1.2.0</td></tr><tr><td>wrapt</td><td>1.11.2</td></tr><tr><td>widgetsnbextension</td><td>3.4.2</td></tr><tr><td>wheel</td><td>0.33.4</td></tr><tr><td>Werkzeug</td><td>0.15.5</td></tr><tr><td>webencodings</td><td>0.5.1</td></tr><tr><td>wcwidth</td><td>0.1.7</td></tr><tr><td>urllib3</td><td>1.24.2</td></tr><tr><td>unicodecsv</td><td>0.14.1</td></tr><tr><td>traitlets</td><td>4.3.2</td></tr><tr><td>tornado</td><td>6.0.3</td></tr><tr><td>toolz</td><td>0.9.0</td></tr><tr><td>testpath</td><td>0.4.2</td></tr><tr><td>terminado</td><td>0.8.2</td></tr><tr><td>tblib</td><td>1.4.0</td></tr><tr><td>tables</td><td>3.5.2</td></tr><tr><td>sympy</td><td>1.3</td></tr><tr><td>statsmodels</td><td>0.9.0</td></tr><tr><td>sqlparse</td><td>0.2.4</td></tr><tr><td>SQLAlchemy</td><td>1.2.15</td></tr><tr><td>sphinxcontrib-websupport</td><td>1.1.2</td></tr><tr><td>Sphinx</td><td>1.8.2</td></tr><tr><td>sparkmagic</td><td>0.12.6</td></tr><tr><td>sortedcontainers</td><td>2.1.0</td></tr><tr><td>snowballstemmer</td><td>1.9.0</td></tr><tr><td>six</td><td>1.12.0</td></tr><tr><td>setuptools</td><td>41.0.1</td></tr><tr><td>Send2Trash</td><td>1.5.0</td></tr><tr><td>seaborn</td><td>0.9.0</td></tr><tr><td>scipy</td><td>1.1.0</td></tr><tr><td>scikit-learn</td><td>0.20.2</td></tr><tr><td>scikit-image</td><td>0.14.1</td></tr><tr><td>ruamel-yaml</td><td>0.15.46</td></tr><tr><td>retrying</td><td>1.3.3</td></tr><tr><td>requests</td><td>2.21.0</td></tr><tr><td>requests-kerberos</td><td>0.12.0</td></tr><tr><td>qtconsole</td><td>4.5.3</td></tr><tr><td>pyzmq</td><td>18.1.0</td></tr><tr><td>PyYAML</td><td>5.1.2</td></tr><tr><td>PyWavelets</td><td>1.0.3</td></tr><tr><td>pytz</td><td>2019.2</td></tr><tr><td>python-dateutil</td><td>2.8.0</td></tr><tr><td>pytest</td><td>4.0.2</td></tr><tr><td>PySocks</td><td>1.7.0</td></tr><tr><td>pyparsing</td><td>2.4.2</td></tr><tr><td>pyOpenSSL</td><td>19.0.0</td></tr><tr><td>pyodbc</td><td>4.0.25</td></tr><tr><td>pykerberos</td><td>1.2.1</td></tr><tr><td>PyJWT</td><td>1.7.1</td></tr><tr><td>Pygments</td><td>2.4.2</td></tr><tr><td>pycurl</td><td>7.43.0.2</td></tr><tr><td>pycrypto</td><td>2.6.1</td></tr><tr><td>pycparser</td><td>2.19</td></tr><tr><td>pycosat</td><td>0.6.3</td></tr><tr><td>py</td><td>1.8.0</td></tr><tr><td>ptyprocess</td><td>0.6.0</td></tr><tr><td>psutil</td><td>5.4.8</td></tr><tr><td>prompt-toolkit</td><td>2.0.7</td></tr><tr><td>prometheus-client</td><td>0.7.1</td></tr><tr><td>pluggy</td><td>0.12.0</td></tr><tr><td>plotly</td><td>4.0.0</td></tr><tr><td>pkginfo</td><td>1.5.0.1</td></tr><tr><td>pip</td><td>18.1</td></tr><tr><td>Pillow</td><td>6.1.0</td></tr><tr><td>pickleshare</td><td>0.7.5</td></tr><tr><td>pexpect</td><td>4.7.0</td></tr><tr><td>patsy</td><td>0.5.1</td></tr><tr><td>pathlib2</td><td>2.3.3</td></tr><tr><td>path.py</td><td>11.5.0</td></tr><tr><td>partd</td><td>0.3.9</td></tr><tr><td>parso</td><td>0.5.1</td></tr><tr><td>pandocfilters</td><td>1.4.2</td></tr><tr><td>pandasql</td><td>0.7.3</td></tr><tr><td>pandas</td><td>0.23.4</td></tr><tr><td>pandas-datareader</td><td>0.7.0</td></tr><tr><td>packaging</td><td>19.1</td></tr><tr><td>openpyxl</td><td>2.5.12</td></tr><tr><td>olefile</td><td>0.46</td></tr><tr><td>odo</td><td>0.5.1</td></tr><tr><td>numpydoc</td><td>0.8.0</td></tr><tr><td>numpy</td><td>1.15.4</td></tr><tr><td>numexpr</td><td>2.6.9</td></tr><tr><td>numba</td><td>0.42.0</td></tr><tr><td>notebook</td><td>5.7.8</td></tr><tr><td>nltk</td><td>3.4</td></tr><tr><td>networkx</td><td>2.2</td></tr><tr><td>nbformat</td><td>4.4.0</td></tr><tr><td>nbconvert</td><td>5.5.0</td></tr><tr><td>multipledispatch</td><td>0.6.0</td></tr><tr><td>msgpack</td><td>0.6.1</td></tr><tr><td>mpmath</td><td>1.1.0</td></tr><tr><td>more-itertools</td><td>7.2.0</td></tr><tr><td>mock</td><td>3.0.5</td></tr><tr><td>mkl-random</td><td>1.0.2</td></tr><tr><td>mkl-fft</td><td>1.0.10</td></tr><tr><td>mistune</td><td>0.8.4</td></tr><tr><td>matplotlib</td><td>3.0.2</td></tr><tr><td>MarkupSafe</td><td>1.1.0</td></tr><tr><td>lxml</td><td>4.3.0</td></tr><tr><td>locket</td><td>0.2.0</td></tr><tr><td>llvmlite</td><td>0.27.0</td></tr><tr><td>liac-arff</td><td>2.4.0</td></tr><tr><td>kiwisolver</td><td>1.1.0</td></tr><tr><td>jupyter</td><td>1.0.0</td></tr><tr><td>jupyter-core</td><td>4.5.0</td></tr><tr><td>jupyter-console</td><td>6.0.0</td></tr><tr><td>jupyter-client</td><td>5.2.4</td></tr><tr><td>jsonschema</td><td>2.6.0</td></tr><tr><td>Jinja2</td><td>2.10.1</td></tr><tr><td>jedi</td><td>0.15.1</td></tr><tr><td>jdcal</td><td>1.4</td></tr><tr><td>itsdangerous</td><td>1.1.0</td></tr><tr><td>ipywidgets</td><td>7.4.2</td></tr><tr><td>ipython</td><td>7.2.0</td></tr><tr><td>ipython-genutils</td><td>0.2.0</td></tr><tr><td>ipykernel</td><td>4.9.0</td></tr><tr><td>importlib-metadata</td><td>0.19</td></tr><tr><td>imagesize</td><td>1.1.0</td></tr><tr><td>imageio</td><td>2.5.0</td></tr><tr><td>idna</td><td>2.8</td></tr><tr><td>heapdict</td><td>1.0.0</td></tr><tr><td>hdijupyterutils</td><td>0.12.9</td></tr><tr><td>h5py</td><td>2.9.0</td></tr><tr><td>gmpy2</td><td>2.0.8</td></tr><tr><td>Flask</td><td>1.1.1</td></tr><tr><td>Flask-Cors</td><td>3.0.8</td></tr><tr><td>fastcache</td><td>1.1.0</td></tr><tr><td>et-xmlfile</td><td>1.0.1</td></tr><tr><td>entrypoints</td><td>0.3</td></tr><tr><td>docutils</td><td>0.15.2</td></tr><tr><td>distributed</td><td>1.28.1</td></tr><tr><td>dill</td><td>0.2.8.2</td></tr><tr><td>defusedxml</td><td>0.6.0</td></tr><tr><td>decorator</td><td>4.4.0</td></tr><tr><td>datashape</td><td>0.5.4</td></tr><tr><td>dask</td><td>1.2.2</td></tr><tr><td>cytoolz</td><td>0.9.0.1</td></tr><tr><td>Cython</td><td>0.29.2</td></tr><tr><td>cycler</td><td>0.10.0</td></tr><tr><td>cryptography</td><td>2.5</td></tr><tr><td>configobj</td><td>5.0.6</td></tr><tr><td>conda</td><td>4.5.12</td></tr><tr><td>cloudpickle</td><td>0.6.1</td></tr><tr><td>Click</td><td>7.0</td></tr><tr><td>chest</td><td>0.2.3</td></tr><tr><td>chardet</td><td>3.0.4</td></tr><tr><td>cffi</td><td>1.12.3</td></tr><tr><td>certifi</td><td>2019.6.16</td></tr><tr><td>Bottleneck</td><td>1.2.1</td></tr><tr><td>bokeh</td><td>1.0.3</td></tr><tr><td>bleach</td><td>3.1.0</td></tr><tr><td>blaze</td><td>0.11.3</td></tr><tr><td>backports.os</td><td>0.1.1</td></tr><tr><td>backcall</td><td>0.1.0</td></tr><tr><td>Babel</td><td>2.7.0</td></tr><tr><td>azureml-model-management-sdk</td><td>1.0.1b10</td></tr><tr><td>autovizwidget</td><td>0.12.9</td></tr><tr><td>attrs</td><td>19.1.0</td></tr><tr><td>atomicwrites</td><td>1.3.0</td></tr><tr><td>asn1crypto</td><td>0.24.0</td></tr><tr><td>alabaster</td><td>0.7.12</td></tr><tr><td>adal</td><td>1.2.2</td></tr></table>"
                    },
                    "metadata": {}
                }
            ],
            "execution_count": 1
        },
        {
            "cell_type": "markdown",
            "source": [
                "<p align=\"center\">\n",
                "<img src =\"https://upload.wikimedia.org/wikipedia/commons/thumb/c/c3/Python-logo-notext.svg/1024px-Python-logo-notext.svg.png\" width=\"100\" align=\"center\">\n",
                "</p>\n",
                "\n",
                "<span style=\"color:blue\"><font size=\"3\"> Convert the Kernel to Python 3"
            ],
            "metadata": {
                "azdata_cell_guid": "c1ed7b3b-1190-4203-84c7-e09c5709407f"
            }
        },
        {
            "cell_type": "markdown",
            "source": [
                "Get credentials for each server from credentials.txt."
            ],
            "metadata": {
                "azdata_cell_guid": "5071bf27-ef64-4deb-a569-960627d45185"
            }
        },
        {
            "cell_type": "code",
            "source": [
                "import sqlmlutils\n",
                "\n",
                "# For Linux SQL Server, you must specify the ODBC Driver and the username/password because there is no Trusted_Connection/Implied Authentication support yet.\n",
                "\n",
                "import os\n",
                "credentials_dict = {}\n",
                "cwd = os.getcwd()\n",
                "with open('/Users/submarine/Downloads/IgniteML/MachineLearning/credentials.txt') as f:\n",
                "    for line in f:\n",
                "        login_information = line.split(',')\n",
                "        key = login_information[0]\n",
                "        value = [login_information[1], login_information[2]]\n",
                "        credentials_dict[key] = value\n",
                "\n",
                "servername = \"13.82.197.135:31433\"\n",
                "username = credentials_dict[servername][0]\n",
                "password = credentials_dict[servername][1]\n",
                "server = \"13.82.197.135\"\n",
                "\n",
                "connection = sqlmlutils.ConnectionInfo(driver=\"ODBC Driver 17 for SQL Server\", server=server, port=1433, uid=username, pwd=password, database=\"ADUG\")\n",
                "sqlpy = sqlmlutils.SQLPythonExecutor(connection)\n",
                "pkgmanager = sqlmlutils.SQLPackageManager(connection)\n",
                "pkgmanager.install(\"glue\", upgrade=True)"
            ],
            "metadata": {
                "azdata_cell_guid": "c21c6bd1-563b-408b-97ff-34e5d892f134",
                "tags": []
            },
            "outputs": [],
            "execution_count": 27
        },
        {
            "cell_type": "code",
            "source": [
                "pkgmanager.uninstall(\"jinja2\")"
            ],
            "metadata": {
                "azdata_cell_guid": "800153d1-536a-4371-a8b9-57fcca9c8bba"
            },
            "outputs": [],
            "execution_count": 6
        },
        {
            "cell_type": "markdown",
            "source": [
                "<p align=\"center\">\n",
                "<img src =\"https://raw.githubusercontent.com/microsoft/azuredatastudio/master/src/sql/media/microsoft_logo_gray.svg?sanitize=true\" width=\"250\" align=\"center\">\n",
                "</p>\n",
                "\n",
                "## **Model Management in SQL Server**\n",
                "### <span style=\"color:green\"><font size=\"3\"> Recommended approach for Enterprises."
            ],
            "metadata": {
                "azdata_cell_guid": "5c83318e-d584-42fc-a45b-fa878f4238ac",
                "tags": []
            }
        },
        {
            "cell_type": "markdown",
            "source": [
                "## What is MlFlow?\n",
                "What is MlFlow?\n",
                "MlFlow is an open-source model management system.\n",
                "\n",
                "* Create experiments\n",
                "* Track machine learning models, parameters, and metrics\n",
                "* Visualize the results\n",
                "\n",
                "We have enhanced MlFlow to log machine learning models into SQL Server and exploit SQL Server's data governance, security and model management features."
            ],
            "metadata": {
                "* azdata_cell_guid": "92af76f2-3e0b-4bcb-8ca6-79095cb2746c",
                "azdata_cell_guid": "b7f2f01e-6e39-4b90-9109-f89d387d3d9b",
                "tags": []
            }
        },
        {
            "cell_type": "markdown",
            "source": [
                "<p align=\"center\">\n",
                "<img src =\"https://miro.medium.com/max/1200/1*nPcdyVwgcuEZiEZiRqApug.jpeg\" width=\"200\" align=\"center\">\n",
                "</p>\n",
                "<span style=\"color:blue\"><font size=\"3\"> Convert the Kernel to PySpark"
            ],
            "metadata": {
                "azdata_cell_guid": "763903d7-b4df-42ae-9b9d-f9846797f3fb"
            }
        },
        {
            "cell_type": "markdown",
            "source": [
                "## Import MlFlow"
            ],
            "metadata": {
                "azdata_cell_guid": "c76bf325-d448-4c99-b55e-3584aae77122",
                "tags": []
            }
        },
        {
            "cell_type": "code",
            "source": [
                "import mlflow\n",
                "import mlflow.sklearn\n",
                "import os\n",
                "\n",
                "# Read credentials for server\n",
                "servername = \"13.82.197.135:31433\"\n",
                "df = (spark.read.option(\"inferSchema\", \"true\")\n",
                ".option(\"header\", \"true\")\n",
                ".csv(\"/user/rony/credentials.txt\"))\n",
                "\n",
                "credentials = df.filter(df.servername == servername).collect()\n",
                "username = credentials[0].username\n",
                "password = credentials[0].password\n",
                "\n",
                "mlflow.set_tracking_uri('http://40.85.166.63:5000/')\n",
                "db_uri_artifact = \"mssql+pyodbc://\" + username + \":\" + password + \"@\" + \"server\"+\"/MlFlow?driver=ODBC+Driver+17+for+SQL+Server\"\n",
                "\n",
                "#create new experiment\n",
                "exp_name = \"artifact_test_experiment_04\"\n",
                "\n",
                "mlflow.create_experiment(exp_name, artifact_location=db_uri_artifact)\n",
                "mlflow.set_experiment(exp_name)"
            ],
            "metadata": {
                "azdata_cell_guid": "f18dc3be-ae17-4082-bb00-4146ec467fc6",
                "tags": []
            },
            "outputs": [],
            "execution_count": 9
        },
        {
            "cell_type": "markdown",
            "source": [
                "## Build a Model wrapped with MlFlow"
            ],
            "metadata": {
                "azdata_cell_guid": "72c659f3-3d92-4e7a-bb7c-719f7475e247",
                "tags": []
            }
        },
        {
            "cell_type": "code",
            "source": [
                "import subprocess\n",
                "\n",
                "# Install PyODBC\n",
                "stdout = subprocess.check_output(\n",
                "    \"pip3 install pyodbc\",\n",
                "    stderr=subprocess.STDOUT,\n",
                "    shell=True).decode(\"utf-8\")\n",
                "print(stdout)"
            ],
            "metadata": {
                "azdata_cell_guid": "b0ce99d4-5975-45f7-9e17-126fee7d06db"
            },
            "outputs": [
                {
                    "output_type": "display_data",
                    "data": {
                        "text/plain": "FloatProgress(value=0.0, bar_style='info', description='Progress:', layout=Layout(height='25px', width='50%'),…",
                        "application/vnd.jupyter.widget-view+json": {
                            "version_major": 2,
                            "version_minor": 0,
                            "model_id": "a278f2d03768496f9e7b245e6b12ff78"
                        }
                    },
                    "metadata": {}
                },
                {
                    "output_type": "stream",
                    "name": "stdout",
                    "text": "Collecting pyodbc\n  Downloading https://files.pythonhosted.org/packages/75/29/aa190749bac37ede0f11a68a75e7055254699c11572bd94213f1163dfd8f/pyodbc-4.0.27.tar.gz (242kB)\nBuilding wheels for collected packages: pyodbc\n  Building wheel for pyodbc (setup.py): started\n  Building wheel for pyodbc (setup.py): finished with status 'done'\n  Created wheel for pyodbc: filename=pyodbc-4.0.27-cp35-cp35m-linux_x86_64.whl size=213950 sha256=99e65007db45beda0cbf4efb46eebe04426d37b520b53dddcd4c7c5ecccb163f\n  Stored in directory: /home/.cache/pip/wheels/87/b7/78/0740a2ed98bfe463525ad42d535370e34141c5d36b2d00dcaf\nSuccessfully built pyodbc\nInstalling collected packages: pyodbc\nSuccessfully installed pyodbc-4.0.27\nWARNING: You are using pip version 19.2.3, however version 19.3.1 is available.\nYou should consider upgrading via the 'pip install --upgrade pip' command."
                }
            ],
            "execution_count": 11
        },
        {
            "cell_type": "code",
            "source": [
                "from sklearn.compose import ColumnTransformer\r\n",
                "from sklearn.linear_model import LinearRegression\r\n",
                "from sklearn.pipeline import Pipeline\r\n",
                "from sklearn.preprocessing import RobustScaler\r\n",
                "\r\n",
                "house_df = (spark.read.option(\"inferSchema\", \"true\")\r\n",
                ".option(\"header\", \"true\")\r\n",
                ".csv(\"/BostonData/BostonHousing.csv\"))\r\n",
                "\r\n",
                "# Convert the Spark data frame to pandas\r\n",
                "df = house_df.toPandas()\r\n",
                "\r\n",
                "x_train = df.drop(['medv'], axis = 1)\r\n",
                "y_train = df.iloc[:,-1]\r\n",
                "\r\n",
                "continuous_transformer = Pipeline(steps=[('scaler', RobustScaler())])\r\n",
                "\r\n",
                "# All columns are numeric - normalize them\r\n",
                "preprocessor = ColumnTransformer(\r\n",
                "    transformers=[\r\n",
                "        ('continuous', continuous_transformer, [i for i in range(len(x_train.columns))])])\r\n",
                "\r\n",
                "model = Pipeline(\r\n",
                "    steps=[\r\n",
                "        ('preprocessor', preprocessor),\r\n",
                "        ('regressor', LinearRegression())])\r\n",
                "\r\n",
                "# Train the model\r\n",
                "lr_model = model.fit(x_train, y_train)\r\n",
                "\r\n",
                "with mlflow.start_run(nested=True):\r\n",
                "    name = model.__class__.__name__\r\n",
                "    mlflow.sklearn.log_model(lr_model,name)"
            ],
            "metadata": {
                "azdata_cell_guid": "b4b6ff52-774f-412f-b3cf-a96883c8e6de",
                "tags": []
            },
            "outputs": [],
            "execution_count": 13
        },
        {
            "cell_type": "markdown",
            "source": [
                "<p align=\"center\">\n",
                "<img src =\"https://sezeromer.com/wp-content/uploads/2018/01/sql.png\" width=\"200\" align=\"center\">\n",
                "</p>\n",
                "<span style=\"color:blue\"><font size=\"3\"> Convert the Kernel to SQL"
            ],
            "metadata": {
                "azdata_cell_guid": "2776beef-a3e4-4472-81d4-b14fd58dcf3b",
                "tags": []
            }
        },
        {
            "cell_type": "markdown",
            "source": [
                "\r\n",
                "## Viewing the models in SQL Server as the backend datastore for MlFlow"
            ],
            "metadata": {
                "azdata_cell_guid": "47677b3c-1d83-4ba3-997f-b2a079f8a8a8",
                "tags": []
            }
        },
        {
            "cell_type": "code",
            "source": [
                "SELECT * FROM [MlFlow].[dbo].[artifacts]"
            ],
            "metadata": {
                "azdata_cell_guid": "fa4bf00e-3e50-453d-90eb-7a1b3d4b470d",
                "tags": []
            },
            "outputs": [
                {
                    "output_type": "display_data",
                    "data": {
                        "text/html": "(6 rows affected)"
                    },
                    "metadata": {}
                },
                {
                    "output_type": "display_data",
                    "data": {
                        "text/html": "Total execution time: 00:00:00.037"
                    },
                    "metadata": {}
                },
                {
                    "output_type": "execute_result",
                    "execution_count": 1,
                    "data": {
                        "application/vnd.dataresource+json": {
                            "schema": {
                                "fields": [
                                    {
                                        "name": "artifact_id"
                                    },
                                    {
                                        "name": "artifact_name"
                                    },
                                    {
                                        "name": "group_path"
                                    },
                                    {
                                        "name": "artifact_content"
                                    },
                                    {
                                        "name": "artifact_initial_size"
                                    }
                                ]
                            },
                            "data": [
                                {
                                    "0": "1",
                                    "1": "MLmodel",
                                    "2": "c3e17c05ece14749bb6ae355f1060a21/artifacts/Pipeline",
                                    "3": "0x61727469666163745F706174683A20506970656C696E650A666C61766F72733A0A2020707974686F6E5F66756E6374696F6E3A0A20202020646174613A206D6F64656C2E706B6C0A20202020656E763A20636F6E64612E79616D6C0A202020206C6F616465725F6D6F64756C653A206D6C666C6F772E736B6C6561726E0A20202020707974686F6E5F76657273696F6E3A20332E352E320A2020736B6C6561726E3A0A202020207069636B6C65645F6D6F64656C3A206D6F64656C2E706B6C0A2020202073657269616C697A6174696F6E5F666F726D61743A20636C6F75647069636B6C650A20202020736B6C6561726E5F76657273696F6E3A20302E32312E330A72756E5F69643A2063336531376330356563653134373439626236616533353566313036306132310A7574635F74696D655F637265617465643A2027323031392D31312D30352031393A34313A31332E383533313439270A",
                                    "4": "346"
                                },
                                {
                                    "0": "2",
                                    "1": "conda.yaml",
                                    "2": "c3e17c05ece14749bb6ae355f1060a21/artifacts/Pipeline",
                                    "3": "0x6368616E6E656C733A0A2D2064656661756C74730A646570656E64656E636965733A0A2D20707974686F6E3D332E352E320A2D207363696B69742D6C6561726E3D302E32312E330A2D207069703A0A20202D206D6C666C6F770A20202D20636C6F75647069636B6C653D3D312E322E310A6E616D653A206D6C666C6F772D656E760A",
                                    "4": "130"
                                },
                                {
                                    "0": "3",
                                    "1": "model.pkl",
                                    "2": "c3e17c05ece14749bb6ae355f1060a21/artifacts/Pipeline",
                                    "3": "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
                                    "4": "1580"
                                },
                                {
                                    "0": "4",
                                    "1": "MLmodel",
                                    "2": "f7f8bd50c1004ff1a05d578e1595f6ea/artifacts/Pipeline",
                                    "3": "0x61727469666163745F706174683A20506970656C696E650A666C61766F72733A0A2020707974686F6E5F66756E6374696F6E3A0A20202020646174613A206D6F64656C2E706B6C0A20202020656E763A20636F6E64612E79616D6C0A202020206C6F616465725F6D6F64756C653A206D6C666C6F772E736B6C6561726E0A20202020707974686F6E5F76657273696F6E3A20332E352E320A2020736B6C6561726E3A0A202020207069636B6C65645F6D6F64656C3A206D6F64656C2E706B6C0A2020202073657269616C697A6174696F6E5F666F726D61743A20636C6F75647069636B6C650A20202020736B6C6561726E5F76657273696F6E3A20302E32312E330A72756E5F69643A2066376638626435306331303034666631613035643537386531353935663665610A7574635F74696D655F637265617465643A2027323031392D31312D30362030303A35313A34332E383530303139270A",
                                    "4": "346"
                                },
                                {
                                    "0": "5",
                                    "1": "conda.yaml",
                                    "2": "f7f8bd50c1004ff1a05d578e1595f6ea/artifacts/Pipeline",
                                    "3": "0x6368616E6E656C733A0A2D2064656661756C74730A646570656E64656E636965733A0A2D20707974686F6E3D332E352E320A2D207363696B69742D6C6561726E3D302E32312E330A2D207069703A0A20202D206D6C666C6F770A20202D20636C6F75647069636B6C653D3D312E322E310A6E616D653A206D6C666C6F772D656E760A",
                                    "4": "130"
                                },
                                {
                                    "0": "6",
                                    "1": "model.pkl",
                                    "2": "f7f8bd50c1004ff1a05d578e1595f6ea/artifacts/Pipeline",
                                    "3": "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
                                    "4": "1580"
                                }
                            ]
                        },
                        "text/html": "<table><tr><th>artifact_id</th><th>artifact_name</th><th>group_path</th><th>artifact_content</th><th>artifact_initial_size</th></tr><tr><td>1</td><td>MLmodel</td><td>c3e17c05ece14749bb6ae355f1060a21/artifacts/Pipeline</td><td>0x61727469666163745F706174683A20506970656C696E650A666C61766F72733A0A2020707974686F6E5F66756E6374696F6E3A0A20202020646174613A206D6F64656C2E706B6C0A20202020656E763A20636F6E64612E79616D6C0A202020206C6F616465725F6D6F64756C653A206D6C666C6F772E736B6C6561726E0A20202020707974686F6E5F76657273696F6E3A20332E352E320A2020736B6C6561726E3A0A202020207069636B6C65645F6D6F64656C3A206D6F64656C2E706B6C0A2020202073657269616C697A6174696F6E5F666F726D61743A20636C6F75647069636B6C650A20202020736B6C6561726E5F76657273696F6E3A20302E32312E330A72756E5F69643A2063336531376330356563653134373439626236616533353566313036306132310A7574635F74696D655F637265617465643A2027323031392D31312D30352031393A34313A31332E383533313439270A</td><td>346</td></tr><tr><td>2</td><td>conda.yaml</td><td>c3e17c05ece14749bb6ae355f1060a21/artifacts/Pipeline</td><td>0x6368616E6E656C733A0A2D2064656661756C74730A646570656E64656E636965733A0A2D20707974686F6E3D332E352E320A2D207363696B69742D6C6561726E3D302E32312E330A2D207069703A0A20202D206D6C666C6F770A20202D20636C6F75647069636B6C653D3D312E322E310A6E616D653A206D6C666C6F772D656E760A</td><td>130</td></tr><tr><td>3</td><td>model.pkl</td><td>c3e17c05ece14749bb6ae355f1060a21/artifacts/Pipeline</td><td>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td><td>1580</td></tr><tr><td>4</td><td>MLmodel</td><td>f7f8bd50c1004ff1a05d578e1595f6ea/artifacts/Pipeline</td><td>0x61727469666163745F706174683A20506970656C696E650A666C61766F72733A0A2020707974686F6E5F66756E6374696F6E3A0A20202020646174613A206D6F64656C2E706B6C0A20202020656E763A20636F6E64612E79616D6C0A202020206C6F616465725F6D6F64756C653A206D6C666C6F772E736B6C6561726E0A20202020707974686F6E5F76657273696F6E3A20332E352E320A2020736B6C6561726E3A0A202020207069636B6C65645F6D6F64656C3A206D6F64656C2E706B6C0A2020202073657269616C697A6174696F6E5F666F726D61743A20636C6F75647069636B6C650A20202020736B6C6561726E5F76657273696F6E3A20302E32312E330A72756E5F69643A2066376638626435306331303034666631613035643537386531353935663665610A7574635F74696D655F637265617465643A2027323031392D31312D30362030303A35313A34332E383530303139270A</td><td>346</td></tr><tr><td>5</td><td>conda.yaml</td><td>f7f8bd50c1004ff1a05d578e1595f6ea/artifacts/Pipeline</td><td>0x6368616E6E656C733A0A2D2064656661756C74730A646570656E64656E636965733A0A2D20707974686F6E3D332E352E320A2D207363696B69742D6C6561726E3D302E32312E330A2D207069703A0A20202D206D6C666C6F770A20202D20636C6F75647069636B6C653D3D312E322E310A6E616D653A206D6C666C6F772D656E760A</td><td>130</td></tr><tr><td>6</td><td>model.pkl</td><td>f7f8bd50c1004ff1a05d578e1595f6ea/artifacts/Pipeline</td><td>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td><td>1580</td></tr></table>"
                    },
                    "metadata": {}
                }
            ],
            "execution_count": 1
        },
        {
            "cell_type": "markdown",
            "source": [
                "## **Deploy the models to SQL Server using MlFlow**"
            ],
            "metadata": {
                "azdata_cell_guid": "6945392a-e70e-4519-9b1c-cd5c26701e91"
            }
        },
        {
            "cell_type": "code",
            "source": [
                "import mlflow.database\n",
                "db_uri_deployment = \"mssql+pyodbc://igniteuser@10.193.17.192:1433/modelstore?driver=ODBC+Driver+17+for+SQL+Server\"\n",
                "mlflow.database.deploy(model_uri=model_uri, db_uri=db_uri_deployment, flavor='onnx', table_name=None, column_name=None)\n",
                "print(\"Deployed the model to Azure SQL Database.\")"
            ],
            "metadata": {
                "azdata_cell_guid": "a59fbf9d-9812-452b-b205-26ced5a5680c"
            },
            "outputs": [],
            "execution_count": 0
        },
        {
            "cell_type": "markdown",
            "source": [
                "<p align=\"center\">\r\n",
                "<img src =\"https://raw.githubusercontent.com/microsoft/azuredatastudio/master/src/sql/media/microsoft_logo_gray.svg?sanitize=true\" width=\"250\" align=\"center\">\r\n",
                "</p>\r\n",
                "\r\n",
                "## **Scoring the models in SQL Server**\r\n",
                "### <span style=\"color:green\"><font size=\"3\"> Recommended approach for Enterprises."
            ],
            "metadata": {
                "azdata_cell_guid": "fb1777b5-16e6-4edd-972b-ff068905e68c",
                "tags": []
            }
        },
        {
            "cell_type": "markdown",
            "source": [
                "## **In Azure SQL Database using R**"
            ],
            "metadata": {
                "azdata_cell_guid": "d42421b0-d3fe-4e73-b275-89ff7f3230a4",
                "tags": []
            }
        },
        {
            "cell_type": "code",
            "source": [
                "select len(data), description from models"
            ],
            "metadata": {
                "azdata_cell_guid": "4469e904-0d18-4877-b1e8-66336f0dcb45",
                "tags": []
            },
            "outputs": [
                {
                    "output_type": "display_data",
                    "data": {
                        "text/html": "(1 row affected)"
                    },
                    "metadata": {}
                },
                {
                    "output_type": "display_data",
                    "data": {
                        "text/html": "Total execution time: 00:00:00.038"
                    },
                    "metadata": {}
                },
                {
                    "output_type": "execute_result",
                    "execution_count": 1,
                    "data": {
                        "application/vnd.dataresource+json": {
                            "schema": {
                                "fields": [
                                    {
                                        "name": "(No column name)"
                                    },
                                    {
                                        "name": "description"
                                    }
                                ]
                            },
                            "data": [
                                {
                                    "0": "76402",
                                    "1": "R Model"
                                }
                            ]
                        },
                        "text/html": "<table><tr><th>(No column name)</th><th>description</th></tr><tr><td>76402</td><td>R Model</td></tr></table>"
                    },
                    "metadata": {}
                }
            ],
            "execution_count": 1
        },
        {
            "cell_type": "code",
            "source": [
                "declare @model varbinary(max) = (select [data] from models where description = 'R Model')\r\n",
                "exec sp_execute_external_script\r\n",
                "    @language = N'R',\r\n",
                "    @script = N'\r\n",
                "        rmodel <- unserialize(model);\r\n",
                "        OutputDataset <- data.frame(MEDV=predict(rmodel, InputDataset))\r\n",
                "    ',\r\n",
                "    @input_data_1 = N'select top(10)* from features',\r\n",
                "\t@input_data_1_name = N'InputDataset',\r\n",
                "    @output_data_1_name = N'OutputDataset',\r\n",
                "    @params = N'@model varbinary(max)',  \r\n",
                "    @model = @model\r\n",
                "    WITH RESULT SETS ((MEDV float)); "
            ],
            "metadata": {
                "azdata_cell_guid": "3acbc5b6-a8a5-437f-9dc2-7d4c5f55704c",
                "tags": []
            },
            "outputs": [
                {
                    "output_type": "display_data",
                    "data": {
                        "text/html": "STDOUT message(s) from external script: \nMKL_VERBOSE Intel(R) MKL 2017.0 Product build 20160801 for Intel(R) 64 architecture Intel(R) Advanced Vector Extensions 2 (Intel(R) AVX2) enabled processors, Win 2.30GHz cdecl intel_thread NMICDev:0\r\nMKL_VERBOSE DGEMV(N,28,4,0000000704225A70,0000000712CF26E8,28,0000000712836998,1,0000000704225A80,00000007122016C0,1) 146.25us CNR:AUTO Dyn:1 FastMM:1 TID:0  NThr:4 WDiv:HOST:+0.000\r\nMKL_VERBOSE DGEMV(N,27,4,0000000704225A70,0000000712A68580,27,0000000712DDFE18,1,0000000704225A80,00000007127BBD28,1) 16.76us CNR:AUTO Dyn:1 FastMM:1 TID:0  NThr:4 WDiv:HOST:+0.000\r\nNULL\r\nMKL_VERBOSE DGEMV(N,10,5,0000000704231270,00000007169D76E0,10,0000000716A14FD0,1,0000000704231280,00000007169E7AC8,1) 3.03us CNR:AUTO Dyn:1 FastMM:1 TID:0  NThr:4 WDiv:HOST:+0.000\r"
                    },
                    "metadata": {}
                },
                {
                    "output_type": "display_data",
                    "data": {
                        "text/html": "(10 rows affected)"
                    },
                    "metadata": {}
                },
                {
                    "output_type": "display_data",
                    "data": {
                        "text/html": "Total execution time: 00:00:06.778"
                    },
                    "metadata": {}
                },
                {
                    "output_type": "execute_result",
                    "execution_count": 2,
                    "data": {
                        "application/vnd.dataresource+json": {
                            "schema": {
                                "fields": [
                                    {
                                        "name": "MEDV"
                                    }
                                ]
                            },
                            "data": [
                                {
                                    "0": "28.9460682828789"
                                },
                                {
                                    "0": "26.1825571200056"
                                },
                                {
                                    "0": "32.9255884539791"
                                },
                                {
                                    "0": "32.6271050128186"
                                },
                                {
                                    "0": "32.128649669109"
                                },
                                {
                                    "0": "28.4319111254368"
                                },
                                {
                                    "0": "21.9261917675329"
                                },
                                {
                                    "0": "19.1684304710369"
                                },
                                {
                                    "0": "10.5592430953262"
                                },
                                {
                                    "0": "19.3814877930924"
                                }
                            ]
                        },
                        "text/html": "<table><tr><th>MEDV</th></tr><tr><td>28.9460682828789</td></tr><tr><td>26.1825571200056</td></tr><tr><td>32.9255884539791</td></tr><tr><td>32.6271050128186</td></tr><tr><td>32.128649669109</td></tr><tr><td>28.4319111254368</td></tr><tr><td>21.9261917675329</td></tr><tr><td>19.1684304710369</td></tr><tr><td>10.5592430953262</td></tr><tr><td>19.3814877930924</td></tr></table>"
                    },
                    "metadata": {}
                }
            ],
            "execution_count": 2
        },
        {
            "cell_type": "markdown",
            "source": [
                "## **In SQL Server Big Data Cluster using Python**"
            ],
            "metadata": {
                "azdata_cell_guid": "7fdd860b-9ecc-43a5-a856-0aad45722de7",
                "tags": []
            }
        },
        {
            "cell_type": "code",
            "source": [
                "select * from [MlFlow].dbo.artifacts where artifact_id = 3"
            ],
            "metadata": {
                "azdata_cell_guid": "4748cf5b-4e7d-4ceb-9b6a-27cc77266a41",
                "tags": []
            },
            "outputs": [
                {
                    "output_type": "display_data",
                    "data": {
                        "text/html": "(1 row affected)"
                    },
                    "metadata": {}
                },
                {
                    "output_type": "display_data",
                    "data": {
                        "text/html": "Total execution time: 00:00:00.039"
                    },
                    "metadata": {}
                },
                {
                    "output_type": "execute_result",
                    "execution_count": 1,
                    "data": {
                        "application/vnd.dataresource+json": {
                            "schema": {
                                "fields": [
                                    {
                                        "name": "artifact_id"
                                    },
                                    {
                                        "name": "artifact_name"
                                    },
                                    {
                                        "name": "group_path"
                                    },
                                    {
                                        "name": "artifact_content"
                                    },
                                    {
                                        "name": "artifact_initial_size"
                                    }
                                ]
                            },
                            "data": [
                                {
                                    "0": "3",
                                    "1": "model.pkl",
                                    "2": "c3e17c05ece14749bb6ae355f1060a21/artifacts/Pipeline",
                                    "3": "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
                                    "4": "1580"
                                }
                            ]
                        },
                        "text/html": "<table><tr><th>artifact_id</th><th>artifact_name</th><th>group_path</th><th>artifact_content</th><th>artifact_initial_size</th></tr><tr><td>3</td><td>model.pkl</td><td>c3e17c05ece14749bb6ae355f1060a21/artifacts/Pipeline</td><td>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td><td>1580</td></tr></table>"
                    },
                    "metadata": {}
                }
            ],
            "execution_count": 1
        },
        {
            "cell_type": "code",
            "source": [
                "declare @model varbinary(max) = (select artifact_content from [MlFlow].dbo.artifacts where artifact_id = 3)\r\n",
                "exec sp_execute_external_script\r\n",
                "    @language = N'Python',\r\n",
                "    @script = N'\r\n",
                "import pandas\r\n",
                "import pickle\r\n",
                "import sklearn\r\n",
                "\r\n",
                "scikit_model = pickle.loads(model)\r\n",
                "output_dataset = pandas.DataFrame(data=scikit_model.predict(input_dataset), columns=[\"MEDV\"])\r\n",
                "    ',\r\n",
                "    @input_data_1 = N'select top(10)* from [BostonData].dbo.Boston',\r\n",
                "\t@input_data_1_name = N'input_dataset',\r\n",
                "    @output_data_1_name = N'output_dataset',\r\n",
                "    @params = N'@model varbinary(max)',  \r\n",
                "    @model = @model\r\n",
                "    WITH RESULT SETS ((MEDV float)); "
            ],
            "metadata": {
                "azdata_cell_guid": "873c44dc-368c-4037-986f-817fe672b2ce",
                "tags": []
            },
            "outputs": [
                {
                    "output_type": "display_data",
                    "data": {
                        "text/html": "STDERR message(s) from external script: \n/opt/mssql/mlservices/runtime/python/lib/python3.7/site-packages/sklearn/base.py:251: UserWarning: Trying to unpickle estimator RobustScaler from version 0.21.3 when using version 0.20.2. This might lead to breaking code or invalid results. Use at your own risk.\n  UserWarning)\n/opt/mssql/mlservices/runtime/python/lib/python3.7/site-packages/sklearn/base.py:251: UserWarning: Trying to unpickle estimator Pipeline from version 0.21.3 when using version 0.20.2. This might lead to breaking code or invalid results. Use at your own risk.\n  UserWarning)\n/opt/mssql/mlservices/runtime/python/lib/python3.7/site-packages/sklearn/base.py:251: UserWarning: Trying to unpickle estimator ColumnTransformer from version 0.21.3 when using version 0.20.2. This might lead to breaking code or invalid results. Use at your own risk.\n  UserWarning)"
                    },
                    "metadata": {}
                },
                {
                    "output_type": "display_data",
                    "data": {
                        "text/html": "STDERR message(s) from external script: \n/opt/mssql/mlservices/runtime/python/lib/python3.7/site-packages/sklearn/base.py:251: UserWarning: Trying to unpickle estimator LinearRegression from version 0.21.3 when using version 0.20.2. This might lead to breaking code or invalid results. Use at your own risk.\n  UserWarning)"
                    },
                    "metadata": {}
                },
                {
                    "output_type": "display_data",
                    "data": {
                        "text/html": "(10 rows affected)"
                    },
                    "metadata": {}
                },
                {
                    "output_type": "display_data",
                    "data": {
                        "text/html": "Total execution time: 00:00:06.914"
                    },
                    "metadata": {}
                },
                {
                    "output_type": "execute_result",
                    "execution_count": 2,
                    "data": {
                        "application/vnd.dataresource+json": {
                            "schema": {
                                "fields": [
                                    {
                                        "name": "MEDV"
                                    }
                                ]
                            },
                            "data": [
                                {
                                    "0": "30.0038433770168"
                                },
                                {
                                    "0": "25.0255623790531"
                                },
                                {
                                    "0": "30.5675967186016"
                                },
                                {
                                    "0": "28.6070364887281"
                                },
                                {
                                    "0": "27.943524232873"
                                },
                                {
                                    "0": "25.2562844615411"
                                },
                                {
                                    "0": "23.0018082684854"
                                },
                                {
                                    "0": "19.5359884287561"
                                },
                                {
                                    "0": "11.5236368531304"
                                },
                                {
                                    "0": "18.920262107076"
                                }
                            ]
                        },
                        "text/html": "<table><tr><th>MEDV</th></tr><tr><td>30.0038433770168</td></tr><tr><td>25.0255623790531</td></tr><tr><td>30.5675967186016</td></tr><tr><td>28.6070364887281</td></tr><tr><td>27.943524232873</td></tr><tr><td>25.2562844615411</td></tr><tr><td>23.0018082684854</td></tr><tr><td>19.5359884287561</td></tr><tr><td>11.5236368531304</td></tr><tr><td>18.920262107076</td></tr></table>"
                    },
                    "metadata": {}
                }
            ],
            "execution_count": 2
        },
        {
            "cell_type": "markdown",
            "source": [
                "<p align=\"center\">\n",
                "<img src =\"https://raw.githubusercontent.com/microsoft/azuredatastudio/master/src/sql/media/microsoft_logo_gray.svg?sanitize=true\" width=\"250\" align=\"center\">\n",
                "</p>\n",
                "\n",
                "## **Azure SQL Database Edge**\n",
                "### <span style=\"color:green\"><font size=\"3\"> Recommended approach for Enterprises."
            ],
            "metadata": {
                "azdata_cell_guid": "5caf113b-2ab7-4a0a-9b09-5853e9b45c7c",
                "tags": []
            }
        },
        {
            "cell_type": "code",
            "source": [
                "import numpy as np\n",
                "import onnxmltools\n",
                "import onnxruntime as rt\n",
                "import pandas as pd\n",
                "import skl2onnx\n",
                "import sklearn\n",
                "import sklearn.datasets\n",
                "\n",
                "from sklearn.datasets import load_boston\n",
                "boston = load_boston()\n",
                "\n",
                "df = pd.DataFrame(data=np.c_[boston['data'], boston['target']], columns=boston['feature_names'].tolist() + ['MEDV'])\n",
                "\n",
                "# x contains all predictors (features). in this version a single column is used (NOX)\n",
                "x_train = pd.DataFrame(df.iloc[:,df.columns.tolist().index('NOX')])\n",
                "\n",
                "# y is what we are trying to predict - the median value\n",
                "y_train = pd.DataFrame(df.iloc[:,-1])\n",
                "\n",
                "print(\"\\n*** Training data set x\\n\")\n",
                "print(x_train.head())\n",
                "\n",
                "print(\"\\n*** Training data set y\\n\")\n",
                "print(y_train.head())"
            ],
            "metadata": {
                "azdata_cell_guid": "e9558d1f-f4b8-483d-bccd-d20d870f5657",
                "tags": []
            },
            "outputs": [
                {
                    "output_type": "stream",
                    "name": "stdout",
                    "text": "\n*** Training data set x\n\n     NOX\n0  0.538\n1  0.469\n2  0.469\n3  0.458\n4  0.458\n\n*** Training data set y\n\n   MEDV\n0  24.0\n1  21.6\n2  34.7\n3  33.4\n4  36.2\n"
                }
            ],
            "execution_count": 3
        },
        {
            "cell_type": "code",
            "source": [
                "from sklearn.compose import ColumnTransformer\n",
                "from sklearn.linear_model import LinearRegression\n",
                "from sklearn.pipeline import Pipeline\n",
                "from sklearn.preprocessing import RobustScaler\n",
                "\n",
                "continuous_transformer = Pipeline(steps=[('scaler', RobustScaler())])\n",
                "\n",
                "# All columns are numeric - normalize them\n",
                "preprocessor = ColumnTransformer(\n",
                "    transformers=[\n",
                "        ('continuous', continuous_transformer, [i for i in range(len(x_train.columns))])])\n",
                "\n",
                "noxmodel = Pipeline(\n",
                "    steps=[\n",
                "        ('preprocessor', preprocessor),\n",
                "        ('regressor', LinearRegression())])\n",
                "\n",
                "# Train the model\n",
                "noxmodel.fit(x_train, y_train)\n",
                "\n",
                "preds = []\n",
                "for i in range(5):\n",
                "    pdata = x_train.iloc[i:(i+1),:]\n",
                "    p = noxmodel.predict(pdata)\n",
                "    print(\"tuples\")\n",
                "    print(pdata)\n",
                "    print(\"predicted:\",p)\n",
                "    preds.append(p)\n",
                "\n",
                "print(preds)"
            ],
            "metadata": {
                "azdata_cell_guid": "1e3ce21f-9600-4ba7-8f4f-9eb86adb07bb",
                "tags": []
            },
            "outputs": [
                {
                    "output_type": "stream",
                    "name": "stdout",
                    "text": "tuples\n      CRIM    ZN  INDUS  CHAS    NOX     RM   AGE   DIS  RAD    TAX  PTRATIO  \\\n0  0.00632  18.0   2.31   0.0  0.538  6.575  65.2  4.09  1.0  296.0     15.3   \n\n       B  LSTAT  \n0  396.9   4.98  \npredicted: [30.00384338]\ntuples\n      CRIM   ZN  INDUS  CHAS    NOX     RM   AGE     DIS  RAD    TAX  PTRATIO  \\\n1  0.02731  0.0   7.07   0.0  0.469  6.421  78.9  4.9671  2.0  242.0     17.8   \n\n       B  LSTAT  \n1  396.9   9.14  \npredicted: [25.02556238]\ntuples\n      CRIM   ZN  INDUS  CHAS    NOX     RM   AGE     DIS  RAD    TAX  PTRATIO  \\\n2  0.02729  0.0   7.07   0.0  0.469  7.185  61.1  4.9671  2.0  242.0     17.8   \n\n        B  LSTAT  \n2  392.83   4.03  \npredicted: [30.56759672]\ntuples\n      CRIM   ZN  INDUS  CHAS    NOX     RM   AGE     DIS  RAD    TAX  PTRATIO  \\\n3  0.03237  0.0   2.18   0.0  0.458  6.998  45.8  6.0622  3.0  222.0     18.7   \n\n        B  LSTAT  \n3  394.63   2.94  \npredicted: [28.60703649]\ntuples\n      CRIM   ZN  INDUS  CHAS    NOX     RM   AGE     DIS  RAD    TAX  PTRATIO  \\\n4  0.06905  0.0   2.18   0.0  0.458  7.147  54.2  6.0622  3.0  222.0     18.7   \n\n       B  LSTAT  \n4  396.9   5.33  \npredicted: [27.94352423]\n[array([30.00384338]), array([25.02556238]), array([30.56759672]), array([28.60703649]), array([27.94352423])]\n"
                }
            ],
            "execution_count": 28
        },
        {
            "cell_type": "markdown",
            "source": [
                "## **What is ONNX ?**\n",
                "Using skl2onnx, we will convert our LinearRegression model to the ONNX format and save it locally."
            ],
            "metadata": {
                "azdata_cell_guid": "4e02ff1e-bf63-45e3-aaf4-bd1da0fc3e04",
                "tags": []
            }
        },
        {
            "cell_type": "code",
            "source": [
                "from skl2onnx.common.data_types import FloatTensorType, Int64TensorType, DoubleTensorType\r\n",
                "\r\n",
                "def convert_dataframe_schema(df, drop=None, batch_axis=False):\r\n",
                "    inputs = []\r\n",
                "    nrows = None if batch_axis else 1\r\n",
                "    for k, v in zip(df.columns, df.dtypes):\r\n",
                "        if drop is not None and k in drop:\r\n",
                "            continue\r\n",
                "        if v == 'int64':\r\n",
                "            t = Int64TensorType([nrows, 1])\r\n",
                "        elif v == 'float32':\r\n",
                "            t = FloatTensorType([nrows, 1])\r\n",
                "        elif v == 'float64':\r\n",
                "            t = DoubleTensorType([nrows, 1])\r\n",
                "        else:\r\n",
                "            raise Exception(\"Bad type\")\r\n",
                "        inputs.append((k, t))\r\n",
                "    return inputs"
            ],
            "metadata": {
                "azdata_cell_guid": "00e8bb63-66d0-4373-a605-b3fac050fad1",
                "tags": []
            },
            "outputs": [],
            "execution_count": 5
        },
        {
            "cell_type": "code",
            "source": [
                "# Convert the scikit model to onnx format\n",
                "onnx_model = skl2onnx.convert_sklearn(noxmodel, 'Boston NOX Data', convert_dataframe_schema(x_train))\n",
                "# Save the onnx model locally\n",
                "# onnx_model_path = 'boston1.model.onnx'\n",
                "# onnxmltools.utils.save_model(onnx_model, onnx_model_path)"
            ],
            "metadata": {
                "azdata_cell_guid": "511bb29e-ea93-4fa0-807c-fd399ca7edab",
                "tags": []
            },
            "outputs": [],
            "execution_count": 6
        },
        {
            "cell_type": "markdown",
            "source": [
                "## **Test the ONNX model**\n",
                "After converting the model to ONNX format, we score the model to show little to no degradation in performance.\n",
                "\n",
                "*ONNX Runtime uses floats instead of doubles which explains small potential discrepencies.*"
            ],
            "metadata": {
                "azdata_cell_guid": "caad1282-3dc2-44c3-ae12-13457c8f6a46",
                "tags": []
            }
        },
        {
            "cell_type": "code",
            "source": [
                "import onnxruntime as rt\n",
                "sess = rt.InferenceSession(onnx_model.SerializeToString())\n",
                "\n",
                "y_pred = np.full(shape=(len(x_train)), fill_value=np.nan)\n",
                "\n",
                "for i in range(len(x_train)):\n",
                "    inputs = {}\n",
                "    for j in range(len(x_train.columns)):\n",
                "        inputs[x_train.columns[j]] = np.full(shape=(1,1), fill_value=x_train.iloc[i,j])\n",
                "\n",
                "    sess_pred = sess.run(None, inputs)\n",
                "    y_pred[i] = sess_pred[0][0][0]\n",
                "\n",
                "onnx_r2_score = sklearn.metrics.r2_score(y_train, y_pred)\n",
                "onnx_mse = sklearn.metrics.mean_squared_error(y_train, y_pred)\n",
                "\n",
                "print()\n",
                "print('*** Onnx r2 score: {}'.format(onnx_r2_score))\n",
                "print('*** Onnx MSE: {}\\n'.format(onnx_mse))\n",
                "print()\n",
                ""
            ],
            "metadata": {
                "azdata_cell_guid": "98dea52e-7b56-4a07-9a42-3f3d81c2c7ae",
                "tags": []
            },
            "outputs": [
                {
                    "output_type": "stream",
                    "name": "stdout",
                    "text": "\n*** Onnx r2 score: 0.18260303162826075\n*** Onnx MSE: 69.00428927333752\n\n\n"
                }
            ],
            "execution_count": 7
        },
        {
            "cell_type": "markdown",
            "source": [
                "## **Insert the ONNX model into Azure SQL Database Edge**\n",
                "Now, we will store the model in SQL Server. We will create a database ```onnx``` with a ```models``` table to store the ONNX model. In the connection string, you will need to specify the **server address, username, and password**. You will need to also import the *pyodbc* package."
            ],
            "metadata": {
                "azdata_cell_guid": "48bc6127-0e1e-4855-b5c8-c79e607cc670",
                "tags": []
            }
        },
        {
            "cell_type": "code",
            "source": [
                "import pyodbc\r\n",
                "\r\n",
                "import os\r\n",
                "credentials_dict = {}\r\n",
                "\r\n",
                "with open('/Users/submarine/Downloads/IgniteML/MachineLearning/credentials.txt') as f:\r\n",
                "    for line in f:\r\n",
                "        login_information = line.split(',')\r\n",
                "        key = login_information[0]\r\n",
                "        value = [login_information[1], login_information[2]]\r\n",
                "        credentials_dict[key] = value\r\n",
                "\r\n",
                "server = \"10.193.17.192\" # SQL Server DB Edge IP address\r\n",
                "username = credentials_dict[server][0] # SQL Server username\r\n",
                "password = credentials_dict[server][1] # SQL Server password\r\n",
                "\r\n",
                "# Connect to the master DB to create the new onnx database\r\n",
                "connection_string = \"Driver={ODBC Driver 17 for SQL Server};Server=\" + server + \";Database=master;UID=\" + username + \";PWD=\" + password + \";\"\r\n",
                "\r\n",
                "conn = pyodbc.connect(connection_string, autocommit=True)\r\n",
                "cursor = conn.cursor()\r\n",
                "\r\n",
                "database = 'edgeonnxdb'\r\n",
                "query = 'DROP DATABASE IF EXISTS ' + database\r\n",
                "cursor.execute(query)\r\n",
                "conn.commit()\r\n",
                "\r\n",
                "# Create onnx database\r\n",
                "query = 'CREATE DATABASE ' + database\r\n",
                "cursor.execute(query)\r\n",
                "conn.commit()\r\n",
                "\r\n",
                "# Connect to onnx database\r\n",
                "\r\n",
                "db_connection_string = \"Driver={ODBC Driver 17 for SQL Server};Server=\" + server + \";Database=\" + database + \";UID=\" + username + \";PWD=\" + password + \";\"\r\n",
                "\r\n",
                "conn = pyodbc.connect(db_connection_string, autocommit=True)\r\n",
                "cursor = conn.cursor()\r\n",
                "\r\n",
                "table_name = 'models'\r\n",
                "\r\n",
                "# Drop the table if it exists\r\n",
                "query = f'drop table if exists {table_name}'\r\n",
                "cursor.execute(query)\r\n",
                "conn.commit()\r\n",
                "\r\n",
                "# Create the model table\r\n",
                "query = f'create table {table_name} ( ' \\\r\n",
                "    f'[id] [int] IDENTITY(1,1) NOT NULL, ' \\\r\n",
                "    f'[data] [varbinary](max) NULL, ' \\\r\n",
                "    f'[description] varchar(1000))'\r\n",
                "cursor.execute(query)\r\n",
                "conn.commit()\r\n",
                "\r\n",
                "# Insert the ONNX model into the models table\r\n",
                "query = f\"insert into {table_name} ([description], [data]) values ('Onnx Model',?)\"\r\n",
                "\r\n",
                "model_bits = onnx_model.SerializeToString()\r\n",
                "\r\n",
                "insert_params  = (pyodbc.Binary(model_bits))\r\n",
                "cursor.execute(query, insert_params)\r\n",
                "conn.commit()"
            ],
            "metadata": {
                "azdata_cell_guid": "0588ddb3-fd3e-4e3f-8b06-c14b6d6db2ed",
                "tags": []
            },
            "outputs": [],
            "execution_count": 19
        },
        {
            "cell_type": "markdown",
            "source": [
                "## **Load the data into SQL Server**\n",
                "\n",
                "We will create two tables, **features** and **target**, to store subsets of the boston housing dataset. \n",
                "* Features will contain all data being used to predict the target, median value. \n",
                "* Target contains the median value for each record in the dataset. \n",
                "\n",
                "You will need to import the *sqlalchemy* package."
            ],
            "metadata": {
                "azdata_cell_guid": "626e6c25-a915-4311-a66f-29ac628edbc9",
                "tags": []
            }
        },
        {
            "cell_type": "code",
            "source": [
                "import sqlalchemy\r\n",
                "from sqlalchemy import create_engine\r\n",
                "import urllib\r\n",
                "\r\n",
                "db_connection_string = \"Driver={ODBC Driver 17 for SQL Server};Server=\" + server + \";Database=\" + database + \";UID=\" + username + \";PWD=\" + password + \";\"\r\n",
                "\r\n",
                "conn = pyodbc.connect(db_connection_string)\r\n",
                "cursor = conn.cursor()\r\n",
                "\r\n",
                "features_table_name = 'features'\r\n",
                "\r\n",
                "# Drop the table if it exists\r\n",
                "query = f'drop table if exists {features_table_name}'\r\n",
                "cursor.execute(query)\r\n",
                "conn.commit()\r\n",
                "\r\n",
                "# Create the features table\r\n",
                "query = \\\r\n",
                "    f'create table {features_table_name} ( ' \\\r\n",
                "    f'    [CRIM] float, ' \\\r\n",
                "    f'    [ZN] float, ' \\\r\n",
                "    f'    [INDUS] float, ' \\\r\n",
                "    f'    [CHAS] float, ' \\\r\n",
                "    f'    [NOX] float, ' \\\r\n",
                "    f'    [RM] float, ' \\\r\n",
                "    f'    [AGE] float, ' \\\r\n",
                "    f'    [DIS] float, ' \\\r\n",
                "    f'    [RAD] float, ' \\\r\n",
                "    f'    [TAX] float, ' \\\r\n",
                "    f'    [PTRATIO] float, ' \\\r\n",
                "    f'    [B] float, ' \\\r\n",
                "    f'    [LSTAT] float, ' \\\r\n",
                "    f'    [id] int)'\r\n",
                "\r\n",
                "cursor.execute(query)\r\n",
                "conn.commit()\r\n",
                "\r\n",
                "target_table_name = 'target'\r\n",
                "\r\n",
                "# Create the target table\r\n",
                "query = \\\r\n",
                "    f'create table {target_table_name} ( ' \\\r\n",
                "    f'    [MEDV] float, ' \\\r\n",
                "    f'    [id] int)'\r\n",
                "\r\n",
                "x_train['id'] = range(1, len(x_train)+1)\r\n",
                "y_train['id'] = range(1, len(y_train)+1)\r\n",
                "\r\n",
                "print(x_train.head())\r\n",
                "print(y_train.head())"
            ],
            "metadata": {
                "azdata_cell_guid": "bc3c4b55-5f65-4aab-8d05-566be0137e2f",
                "tags": []
            },
            "outputs": [
                {
                    "output_type": "stream",
                    "name": "stdout",
                    "text": "     NOX  id\n0  0.538   1\n1  0.469   2\n2  0.469   3\n3  0.458   4\n4  0.458   5\n   MEDV  id\n0  24.0   1\n1  21.6   2\n2  34.7   3\n3  33.4   4\n4  36.2   5\n"
                }
            ],
            "execution_count": 20
        },
        {
            "cell_type": "markdown",
            "source": [
                "Finally, using sqlalchemy, we insert the `x_train` and `y_train` pandas dataframes into tables `features` and `target`, respectively. "
            ],
            "metadata": {
                "azdata_cell_guid": "bb6f4278-13c1-4673-bc00-74b41b08de66",
                "tags": []
            }
        },
        {
            "cell_type": "code",
            "source": [
                "db_connection_string = 'mssql+pyodbc://' + username + ':' + password + '@' + server + '/' + database + '?driver=ODBC+Driver+17+for+SQL+Server'\r\n",
                "sql_engine = sqlalchemy.create_engine(db_connection_string)\r\n",
                "x_train.to_sql(features_table_name, sql_engine, if_exists='append', index=False)\r\n",
                "y_train.to_sql(target_table_name, sql_engine, if_exists='append', index=False)"
            ],
            "metadata": {
                "azdata_cell_guid": "5dd6a118-9f47-4e30-9f90-5a4dd5568171",
                "tags": []
            },
            "outputs": [],
            "execution_count": 14
        },
        {
            "cell_type": "markdown",
            "source": [
                "You will now be able to view the data in SQL."
            ],
            "metadata": {
                "azdata_cell_guid": "7aa87c74-a224-4b8a-8caa-cef828468a3c",
                "tags": []
            }
        },
        {
            "cell_type": "markdown",
            "source": [
                "<p align=\"center\">\n",
                "<img src =\"https://sezeromer.com/wp-content/uploads/2018/01/sql.png\" width=\"200\" align=\"center\">\n",
                "</p>\n",
                "\n",
                "<span style=\"color:blue\"><font size=\"3\"> Convert the Kernel to SQL"
            ],
            "metadata": {
                "azdata_cell_guid": "abae7de6-2e83-4c17-9b82-0ec9ff21651c",
                "tags": []
            }
        },
        {
            "cell_type": "markdown",
            "source": [
                "<p align=\"center\">\n",
                "<img src =\"https://raw.githubusercontent.com/microsoft/azuredatastudio/master/src/sql/media/microsoft_logo_gray.svg?sanitize=true\" width=\"250\" align=\"center\">\n",
                "</p>\n",
                "\n",
                "## **Native PREDICT on Azure SQL Database Edge**"
            ],
            "metadata": {
                "azdata_cell_guid": "78b79574-854a-4c3b-8207-0576d2b5f775",
                "tags": []
            }
        },
        {
            "cell_type": "markdown",
            "source": [
                "Below, using the stored ONNX model, we predict the median value of a house based on other features from the boston housing dataset. "
            ],
            "metadata": {
                "azdata_cell_guid": "460b6c90-f44c-4e6d-8619-1b5cd8600c8c",
                "tags": []
            }
        },
        {
            "cell_type": "code",
            "source": [
                "USE onnx\n",
                "\n",
                "DECLARE @model varbinary(max) = (SELECT DATA FROM dbo.models WHERE id = 1);\n",
                "WITH predict_input as (SELECT TOP (1000) [id]\n",
                "      ,CRIM\n",
                "      ,ZN\n",
                "      ,INDUS\n",
                "      ,CHAS\n",
                "      ,NOX\n",
                "      ,RM\n",
                "      ,AGE\n",
                "      ,DIS\n",
                "      ,RAD\n",
                "      ,TAX\n",
                "      ,PTRATIO\n",
                "      ,B\n",
                "      ,LSTAT\n",
                "  FROM [onnx].[dbo].[features])\n",
                "\n",
                "SELECT predict_input.id, p.variable1 AS MEDV FROM PREDICT (MODEL =  @model, DATA = predict_input) WITH (variable1 float) AS p"
            ],
            "metadata": {
                "azdata_cell_guid": "3795dba5-1b06-4e9c-b728-d0bff5d8c7b1",
                "tags": []
            },
            "outputs": [
                {
                    "output_type": "display_data",
                    "data": {
                        "text/html": "(506 rows affected)"
                    },
                    "metadata": {}
                },
                {
                    "output_type": "display_data",
                    "data": {
                        "text/html": "Total execution time: 00:00:00.146"
                    },
                    "metadata": {}
                },
                {
                    "output_type": "execute_result",
                    "execution_count": 1,
                    "data": {
                        "application/vnd.dataresource+json": {
                            "schema": {
                                "fields": [
                                    {
                                        "name": "id"
                                    },
                                    {
                                        "name": "MEDV"
                                    }
                                ]
                            },
                            "data": [
                                {
                                    "0": "1",
                                    "1": "23.0990371704102"
                                },
                                {
                                    "0": "2",
                                    "1": "25.439245223999"
                                },
                                {
                                    "0": "3",
                                    "1": "25.439245223999"
                                },
                                {
                                    "0": "4",
                                    "1": "25.8123207092285"
                                },
                                {
                                    "0": "5",
                                    "1": "25.8123207092285"
                                },
                                {
                                    "0": "6",
                                    "1": "25.8123207092285"
                                },
                                {
                                    "0": "7",
                                    "1": "23.5738620758057"
                                },
                                {
                                    "0": "8",
                                    "1": "23.5738620758057"
                                },
                                {
                                    "0": "9",
                                    "1": "23.5738620758057"
                                },
                                {
                                    "0": "10",
                                    "1": "23.5738620758057"
                                },
                                {
                                    "0": "11",
                                    "1": "23.5738620758057"
                                },
                                {
                                    "0": "12",
                                    "1": "23.5738620758057"
                                },
                                {
                                    "0": "13",
                                    "1": "23.5738620758057"
                                },
                                {
                                    "0": "14",
                                    "1": "23.0990371704102"
                                },
                                {
                                    "0": "15",
                                    "1": "23.0990371704102"
                                },
                                {
                                    "0": "16",
                                    "1": "23.0990371704102"
                                },
                                {
                                    "0": "17",
                                    "1": "23.0990371704102"
                                },
                                {
                                    "0": "18",
                                    "1": "23.0990371704102"
                                },
                                {
                                    "0": "19",
                                    "1": "23.0990371704102"
                                },
                                {
                                    "0": "20",
                                    "1": "23.0990371704102"
                                },
                                {
                                    "0": "21",
                                    "1": "23.0990371704102"
                                },
                                {
                                    "0": "22",
                                    "1": "23.0990371704102"
                                },
                                {
                                    "0": "23",
                                    "1": "23.0990371704102"
                                },
                                {
                                    "0": "24",
                                    "1": "23.0990371704102"
                                },
                                {
                                    "0": "25",
                                    "1": "23.0990371704102"
                                },
                                {
                                    "0": "26",
                                    "1": "23.0990371704102"
                                },
                                {
                                    "0": "27",
                                    "1": "23.0990371704102"
                                },
                                {
                                    "0": "28",
                                    "1": "23.0990371704102"
                                },
                                {
                                    "0": "29",
                                    "1": "23.0990371704102"
                                },
                                {
                                    "0": "30",
                                    "1": "23.0990371704102"
                                },
                                {
                                    "0": "31",
                                    "1": "23.0990371704102"
                                },
                                {
                                    "0": "32",
                                    "1": "23.0990371704102"
                                },
                                {
                                    "0": "33",
                                    "1": "23.0990371704102"
                                },
                                {
                                    "0": "34",
                                    "1": "23.0990371704102"
                                },
                                {
                                    "0": "35",
                                    "1": "23.0990371704102"
                                },
                                {
                                    "0": "36",
                                    "1": "24.4217624664307"
                                },
                                {
                                    "0": "37",
                                    "1": "24.4217624664307"
                                },
                                {
                                    "0": "38",
                                    "1": "24.4217624664307"
                                },
                                {
                                    "0": "39",
                                    "1": "24.4217624664307"
                                },
                                {
                                    "0": "40",
                                    "1": "26.8298034667969"
                                },
                                {
                                    "0": "41",
                                    "1": "26.8298034667969"
                                },
                                {
                                    "0": "42",
                                    "1": "26.151481628418"
                                },
                                {
                                    "0": "43",
                                    "1": "26.151481628418"
                                },
                                {
                                    "0": "44",
                                    "1": "26.151481628418"
                                },
                                {
                                    "0": "45",
                                    "1": "26.151481628418"
                                },
                                {
                                    "0": "46",
                                    "1": "26.151481628418"
                                },
                                {
                                    "0": "47",
                                    "1": "26.151481628418"
                                },
                                {
                                    "0": "48",
                                    "1": "26.151481628418"
                                },
                                {
                                    "0": "49",
                                    "1": "26.151481628418"
                                },
                                {
                                    "0": "50",
                                    "1": "26.151481628418"
                                },
                                {
                                    "0": "51",
                                    "1": "26.4567260742188"
                                },
                                {
                                    "0": "52",
                                    "1": "26.4567260742188"
                                },
                                {
                                    "0": "53",
                                    "1": "26.4567260742188"
                                },
                                {
                                    "0": "54",
                                    "1": "26.4567260742188"
                                },
                                {
                                    "0": "55",
                                    "1": "27.4402923583984"
                                },
                                {
                                    "0": "56",
                                    "1": "27.6777038574219"
                                },
                                {
                                    "0": "57",
                                    "1": "27.4402923583984"
                                },
                                {
                                    "0": "58",
                                    "1": "27.4063758850098"
                                },
                                {
                                    "0": "59",
                                    "1": "25.9819011688232"
                                },
                                {
                                    "0": "60",
                                    "1": "25.9819011688232"
                                },
                                {
                                    "0": "61",
                                    "1": "25.9819011688232"
                                },
                                {
                                    "0": "62",
                                    "1": "25.9819011688232"
                                },
                                {
                                    "0": "63",
                                    "1": "25.9819011688232"
                                },
                                {
                                    "0": "64",
                                    "1": "25.9819011688232"
                                },
                                {
                                    "0": "65",
                                    "1": "27.2334041595459"
                                },
                                {
                                    "0": "66",
                                    "1": "27.8472843170166"
                                },
                                {
                                    "0": "67",
                                    "1": "27.8472843170166"
                                },
                                {
                                    "0": "68",
                                    "1": "27.4742088317871"
                                },
                                {
                                    "0": "69",
                                    "1": "27.4742088317871"
                                },
                                {
                                    "0": "70",
                                    "1": "27.4742088317871"
                                },
                                {
                                    "0": "71",
                                    "1": "27.3385429382324"
                                },
                                {
                                    "0": "72",
                                    "1": "27.3385429382324"
                                },
                                {
                                    "0": "73",
                                    "1": "27.3385429382324"
                                },
                                {
                                    "0": "74",
                                    "1": "27.3385429382324"
                                },
                                {
                                    "0": "75",
                                    "1": "26.5245590209961"
                                },
                                {
                                    "0": "76",
                                    "1": "26.5245590209961"
                                },
                                {
                                    "0": "77",
                                    "1": "26.5245590209961"
                                },
                                {
                                    "0": "78",
                                    "1": "26.5245590209961"
                                },
                                {
                                    "0": "79",
                                    "1": "26.5245590209961"
                                },
                                {
                                    "0": "80",
                                    "1": "26.5245590209961"
                                },
                                {
                                    "0": "81",
                                    "1": "26.8976345062256"
                                },
                                {
                                    "0": "82",
                                    "1": "26.8976345062256"
                                },
                                {
                                    "0": "83",
                                    "1": "26.8976345062256"
                                },
                                {
                                    "0": "84",
                                    "1": "26.8976345062256"
                                },
                                {
                                    "0": "85",
                                    "1": "26.1175651550293"
                                },
                                {
                                    "0": "86",
                                    "1": "26.1175651550293"
                                },
                                {
                                    "0": "87",
                                    "1": "26.1175651550293"
                                },
                                {
                                    "0": "88",
                                    "1": "26.1175651550293"
                                },
                                {
                                    "0": "89",
                                    "1": "24.7609233856201"
                                },
                                {
                                    "0": "90",
                                    "1": "24.7609233856201"
                                },
                                {
                                    "0": "91",
                                    "1": "24.7609233856201"
                                },
                                {
                                    "0": "92",
                                    "1": "24.7609233856201"
                                },
                                {
                                    "0": "93",
                                    "1": "25.6088256835938"
                                },
                                {
                                    "0": "94",
                                    "1": "25.6088256835938"
                                },
                                {
                                    "0": "95",
                                    "1": "25.6088256835938"
                                },
                                {
                                    "0": "96",
                                    "1": "26.2532291412354"
                                },
                                {
                                    "0": "97",
                                    "1": "26.2532291412354"
                                },
                                {
                                    "0": "98",
                                    "1": "26.2532291412354"
                                },
                                {
                                    "0": "99",
                                    "1": "26.2532291412354"
                                },
                                {
                                    "0": "100",
                                    "1": "26.2532291412354"
                                },
                                {
                                    "0": "101",
                                    "1": "23.7095260620117"
                                },
                                {
                                    "0": "102",
                                    "1": "23.7095260620117"
                                },
                                {
                                    "0": "103",
                                    "1": "23.7095260620117"
                                },
                                {
                                    "0": "104",
                                    "1": "23.7095260620117"
                                },
                                {
                                    "0": "105",
                                    "1": "23.7095260620117"
                                },
                                {
                                    "0": "106",
                                    "1": "23.7095260620117"
                                },
                                {
                                    "0": "107",
                                    "1": "23.7095260620117"
                                },
                                {
                                    "0": "108",
                                    "1": "23.7095260620117"
                                },
                                {
                                    "0": "109",
                                    "1": "23.7095260620117"
                                },
                                {
                                    "0": "110",
                                    "1": "23.7095260620117"
                                },
                                {
                                    "0": "111",
                                    "1": "23.7095260620117"
                                },
                                {
                                    "0": "112",
                                    "1": "22.7937927246094"
                                },
                                {
                                    "0": "113",
                                    "1": "22.7937927246094"
                                },
                                {
                                    "0": "114",
                                    "1": "22.7937927246094"
                                },
                                {
                                    "0": "115",
                                    "1": "22.7937927246094"
                                },
                                {
                                    "0": "116",
                                    "1": "22.7937927246094"
                                },
                                {
                                    "0": "117",
                                    "1": "22.7937927246094"
                                },
                                {
                                    "0": "118",
                                    "1": "22.7937927246094"
                                },
                                {
                                    "0": "119",
                                    "1": "22.7937927246094"
                                },
                                {
                                    "0": "120",
                                    "1": "22.7937927246094"
                                },
                                {
                                    "0": "121",
                                    "1": "21.640645980835"
                                },
                                {
                                    "0": "122",
                                    "1": "21.640645980835"
                                },
                                {
                                    "0": "123",
                                    "1": "21.640645980835"
                                },
                                {
                                    "0": "124",
                                    "1": "21.640645980835"
                                },
                                {
                                    "0": "125",
                                    "1": "21.640645980835"
                                },
                                {
                                    "0": "126",
                                    "1": "21.640645980835"
                                },
                                {
                                    "0": "127",
                                    "1": "21.640645980835"
                                },
                                {
                                    "0": "128",
                                    "1": "20.1822566986084"
                                },
                                {
                                    "0": "129",
                                    "1": "20.1822566986084"
                                },
                                {
                                    "0": "130",
                                    "1": "20.1822566986084"
                                },
                                {
                                    "0": "131",
                                    "1": "20.1822566986084"
                                },
                                {
                                    "0": "132",
                                    "1": "20.1822566986084"
                                },
                                {
                                    "0": "133",
                                    "1": "20.1822566986084"
                                },
                                {
                                    "0": "134",
                                    "1": "20.1822566986084"
                                },
                                {
                                    "0": "135",
                                    "1": "20.1822566986084"
                                },
                                {
                                    "0": "136",
                                    "1": "20.1822566986084"
                                },
                                {
                                    "0": "137",
                                    "1": "20.1822566986084"
                                },
                                {
                                    "0": "138",
                                    "1": "20.1822566986084"
                                },
                                {
                                    "0": "139",
                                    "1": "20.1822566986084"
                                },
                                {
                                    "0": "140",
                                    "1": "20.1822566986084"
                                },
                                {
                                    "0": "141",
                                    "1": "20.1822566986084"
                                },
                                {
                                    "0": "142",
                                    "1": "20.1822566986084"
                                },
                                {
                                    "0": "143",
                                    "1": "11.8049907684326"
                                },
                                {
                                    "0": "144",
                                    "1": "11.8049907684326"
                                },
                                {
                                    "0": "145",
                                    "1": "11.8049907684326"
                                },
                                {
                                    "0": "146",
                                    "1": "11.8049907684326"
                                },
                                {
                                    "0": "147",
                                    "1": "11.8049907684326"
                                },
                                {
                                    "0": "148",
                                    "1": "11.8049907684326"
                                },
                                {
                                    "0": "149",
                                    "1": "11.8049907684326"
                                },
                                {
                                    "0": "150",
                                    "1": "11.8049907684326"
                                },
                                {
                                    "0": "151",
                                    "1": "11.8049907684326"
                                },
                                {
                                    "0": "152",
                                    "1": "11.8049907684326"
                                },
                                {
                                    "0": "153",
                                    "1": "11.8049907684326"
                                },
                                {
                                    "0": "154",
                                    "1": "11.8049907684326"
                                },
                                {
                                    "0": "155",
                                    "1": "11.8049907684326"
                                },
                                {
                                    "0": "156",
                                    "1": "11.8049907684326"
                                },
                                {
                                    "0": "157",
                                    "1": "11.8049907684326"
                                },
                                {
                                    "0": "158",
                                    "1": "20.82666015625"
                                },
                                {
                                    "0": "159",
                                    "1": "20.82666015625"
                                },
                                {
                                    "0": "160",
                                    "1": "11.8049907684326"
                                },
                                {
                                    "0": "161",
                                    "1": "20.82666015625"
                                },
                                {
                                    "0": "162",
                                    "1": "20.82666015625"
                                },
                                {
                                    "0": "163",
                                    "1": "20.82666015625"
                                },
                                {
                                    "0": "164",
                                    "1": "20.82666015625"
                                },
                                {
                                    "0": "165",
                                    "1": "20.82666015625"
                                },
                                {
                                    "0": "166",
                                    "1": "20.82666015625"
                                },
                                {
                                    "0": "167",
                                    "1": "20.82666015625"
                                },
                                {
                                    "0": "168",
                                    "1": "20.82666015625"
                                },
                                {
                                    "0": "169",
                                    "1": "20.82666015625"
                                },
                                {
                                    "0": "170",
                                    "1": "20.82666015625"
                                },
                                {
                                    "0": "171",
                                    "1": "20.82666015625"
                                },
                                {
                                    "0": "172",
                                    "1": "20.82666015625"
                                },
                                {
                                    "0": "173",
                                    "1": "24.0486869812012"
                                },
                                {
                                    "0": "174",
                                    "1": "24.0486869812012"
                                },
                                {
                                    "0": "175",
                                    "1": "24.0486869812012"
                                },
                                {
                                    "0": "176",
                                    "1": "24.0486869812012"
                                },
                                {
                                    "0": "177",
                                    "1": "24.0486869812012"
                                },
                                {
                                    "0": "178",
                                    "1": "24.0486869812012"
                                },
                                {
                                    "0": "179",
                                    "1": "24.0486869812012"
                                },
                                {
                                    "0": "180",
                                    "1": "24.7948398590088"
                                },
                                {
                                    "0": "181",
                                    "1": "24.7948398590088"
                                },
                                {
                                    "0": "182",
                                    "1": "24.7948398590088"
                                },
                                {
                                    "0": "183",
                                    "1": "24.7948398590088"
                                },
                                {
                                    "0": "184",
                                    "1": "24.7948398590088"
                                },
                                {
                                    "0": "185",
                                    "1": "24.7948398590088"
                                },
                                {
                                    "0": "186",
                                    "1": "24.7948398590088"
                                },
                                {
                                    "0": "187",
                                    "1": "24.7948398590088"
                                },
                                {
                                    "0": "188",
                                    "1": "26.5245590209961"
                                },
                                {
                                    "0": "189",
                                    "1": "26.5245590209961"
                                },
                                {
                                    "0": "190",
                                    "1": "26.5245590209961"
                                },
                                {
                                    "0": "191",
                                    "1": "26.5245590209961"
                                },
                                {
                                    "0": "192",
                                    "1": "26.5245590209961"
                                },
                                {
                                    "0": "193",
                                    "1": "26.5245590209961"
                                },
                                {
                                    "0": "194",
                                    "1": "27.7455368041992"
                                },
                                {
                                    "0": "195",
                                    "1": "27.7455368041992"
                                },
                                {
                                    "0": "196",
                                    "1": "27.0332984924316"
                                },
                                {
                                    "0": "197",
                                    "1": "27.6437873840332"
                                },
                                {
                                    "0": "198",
                                    "1": "27.6437873840332"
                                },
                                {
                                    "0": "199",
                                    "1": "27.6437873840332"
                                },
                                {
                                    "0": "200",
                                    "1": "27.6777038574219"
                                },
                                {
                                    "0": "201",
                                    "1": "27.6777038574219"
                                },
                                {
                                    "0": "202",
                                    "1": "27.2707118988037"
                                },
                                {
                                    "0": "203",
                                    "1": "27.2707118988037"
                                },
                                {
                                    "0": "204",
                                    "1": "27.2334041595459"
                                },
                                {
                                    "0": "205",
                                    "1": "27.2334041595459"
                                },
                                {
                                    "0": "206",
                                    "1": "24.7609233856201"
                                },
                                {
                                    "0": "207",
                                    "1": "24.7609233856201"
                                },
                                {
                                    "0": "208",
                                    "1": "24.7609233856201"
                                },
                                {
                                    "0": "209",
                                    "1": "24.7609233856201"
                                },
                                {
                                    "0": "210",
                                    "1": "24.7609233856201"
                                },
                                {
                                    "0": "211",
                                    "1": "24.7609233856201"
                                },
                                {
                                    "0": "212",
                                    "1": "24.7609233856201"
                                },
                                {
                                    "0": "213",
                                    "1": "24.7609233856201"
                                },
                                {
                                    "0": "214",
                                    "1": "24.7609233856201"
                                },
                                {
                                    "0": "215",
                                    "1": "24.7609233856201"
                                },
                                {
                                    "0": "216",
                                    "1": "24.7609233856201"
                                },
                                {
                                    "0": "217",
                                    "1": "22.6920433044434"
                                },
                                {
                                    "0": "218",
                                    "1": "22.6920433044434"
                                },
                                {
                                    "0": "219",
                                    "1": "22.6920433044434"
                                },
                                {
                                    "0": "220",
                                    "1": "22.6920433044434"
                                },
                                {
                                    "0": "221",
                                    "1": "24.1504344940186"
                                },
                                {
                                    "0": "222",
                                    "1": "24.1504344940186"
                                },
                                {
                                    "0": "223",
                                    "1": "24.1504344940186"
                                },
                                {
                                    "0": "224",
                                    "1": "24.1504344940186"
                                },
                                {
                                    "0": "225",
                                    "1": "24.2521820068359"
                                },
                                {
                                    "0": "226",
                                    "1": "24.2521820068359"
                                },
                                {
                                    "0": "227",
                                    "1": "24.2521820068359"
                                },
                                {
                                    "0": "228",
                                    "1": "24.2521820068359"
                                },
                                {
                                    "0": "229",
                                    "1": "24.2521820068359"
                                },
                                {
                                    "0": "230",
                                    "1": "24.2521820068359"
                                },
                                {
                                    "0": "231",
                                    "1": "24.2521820068359"
                                },
                                {
                                    "0": "232",
                                    "1": "24.2521820068359"
                                },
                                {
                                    "0": "233",
                                    "1": "24.1504344940186"
                                },
                                {
                                    "0": "234",
                                    "1": "24.1504344940186"
                                },
                                {
                                    "0": "235",
                                    "1": "24.1504344940186"
                                },
                                {
                                    "0": "236",
                                    "1": "24.1504344940186"
                                },
                                {
                                    "0": "237",
                                    "1": "24.1504344940186"
                                },
                                {
                                    "0": "238",
                                    "1": "24.1504344940186"
                                },
                                {
                                    "0": "239",
                                    "1": "26.8298034667969"
                                },
                                {
                                    "0": "240",
                                    "1": "26.8298034667969"
                                },
                                {
                                    "0": "241",
                                    "1": "26.8298034667969"
                                },
                                {
                                    "0": "242",
                                    "1": "26.8298034667969"
                                },
                                {
                                    "0": "243",
                                    "1": "26.8298034667969"
                                },
                                {
                                    "0": "244",
                                    "1": "26.8298034667969"
                                },
                                {
                                    "0": "245",
                                    "1": "26.7280540466309"
                                },
                                {
                                    "0": "246",
                                    "1": "26.7280540466309"
                                },
                                {
                                    "0": "247",
                                    "1": "26.7280540466309"
                                },
                                {
                                    "0": "248",
                                    "1": "26.7280540466309"
                                },
                                {
                                    "0": "249",
                                    "1": "26.7280540466309"
                                },
                                {
                                    "0": "250",
                                    "1": "26.7280540466309"
                                },
                                {
                                    "0": "251",
                                    "1": "26.7280540466309"
                                },
                                {
                                    "0": "252",
                                    "1": "26.7280540466309"
                                },
                                {
                                    "0": "253",
                                    "1": "26.7280540466309"
                                },
                                {
                                    "0": "254",
                                    "1": "26.7280540466309"
                                },
                                {
                                    "0": "255",
                                    "1": "28.05078125"
                                },
                                {
                                    "0": "256",
                                    "1": "28.05078125"
                                },
                                {
                                    "0": "257",
                                    "1": "27.9829483032227"
                                },
                                {
                                    "0": "258",
                                    "1": "19.4021873474121"
                                },
                                {
                                    "0": "259",
                                    "1": "19.4021873474121"
                                },
                                {
                                    "0": "260",
                                    "1": "19.4021873474121"
                                },
                                {
                                    "0": "261",
                                    "1": "19.4021873474121"
                                },
                                {
                                    "0": "262",
                                    "1": "19.4021873474121"
                                },
                                {
                                    "0": "263",
                                    "1": "19.4021873474121"
                                },
                                {
                                    "0": "264",
                                    "1": "19.4021873474121"
                                },
                                {
                                    "0": "265",
                                    "1": "19.4021873474121"
                                },
                                {
                                    "0": "266",
                                    "1": "19.4021873474121"
                                },
                                {
                                    "0": "267",
                                    "1": "19.4021873474121"
                                },
                                {
                                    "0": "268",
                                    "1": "21.8441429138184"
                                },
                                {
                                    "0": "269",
                                    "1": "21.8441429138184"
                                },
                                {
                                    "0": "270",
                                    "1": "25.6088256835938"
                                },
                                {
                                    "0": "271",
                                    "1": "25.6088256835938"
                                },
                                {
                                    "0": "272",
                                    "1": "25.6088256835938"
                                },
                                {
                                    "0": "273",
                                    "1": "25.6088256835938"
                                },
                                {
                                    "0": "274",
                                    "1": "25.6088256835938"
                                },
                                {
                                    "0": "275",
                                    "1": "26.1853981018066"
                                },
                                {
                                    "0": "276",
                                    "1": "26.1853981018066"
                                },
                                {
                                    "0": "277",
                                    "1": "26.1853981018066"
                                },
                                {
                                    "0": "278",
                                    "1": "26.1853981018066"
                                },
                                {
                                    "0": "279",
                                    "1": "26.1853981018066"
                                },
                                {
                                    "0": "280",
                                    "1": "26.3244533538818"
                                },
                                {
                                    "0": "281",
                                    "1": "26.3244533538818"
                                },
                                {
                                    "0": "282",
                                    "1": "26.3244533538818"
                                },
                                {
                                    "0": "283",
                                    "1": "26.3244533538818"
                                },
                                {
                                    "0": "284",
                                    "1": "27.7455368041992"
                                },
                                {
                                    "0": "285",
                                    "1": "27.7794532775879"
                                },
                                {
                                    "0": "286",
                                    "1": "28.1525287628174"
                                },
                                {
                                    "0": "287",
                                    "1": "28.2881927490234"
                                },
                                {
                                    "0": "288",
                                    "1": "27.6098709106445"
                                },
                                {
                                    "0": "289",
                                    "1": "27.6098709106445"
                                },
                                {
                                    "0": "290",
                                    "1": "27.6098709106445"
                                },
                                {
                                    "0": "291",
                                    "1": "27.4063758850098"
                                },
                                {
                                    "0": "292",
                                    "1": "27.4063758850098"
                                },
                                {
                                    "0": "293",
                                    "1": "27.4063758850098"
                                },
                                {
                                    "0": "294",
                                    "1": "26.5245590209961"
                                },
                                {
                                    "0": "295",
                                    "1": "26.5245590209961"
                                },
                                {
                                    "0": "296",
                                    "1": "26.5245590209961"
                                },
                                {
                                    "0": "297",
                                    "1": "26.5245590209961"
                                },
                                {
                                    "0": "298",
                                    "1": "26.5245590209961"
                                },
                                {
                                    "0": "299",
                                    "1": "27.7794532775879"
                                },
                                {
                                    "0": "300",
                                    "1": "27.7794532775879"
                                },
                                {
                                    "0": "301",
                                    "1": "27.7794532775879"
                                },
                                {
                                    "0": "302",
                                    "1": "26.6602230072021"
                                },
                                {
                                    "0": "303",
                                    "1": "26.6602230072021"
                                },
                                {
                                    "0": "304",
                                    "1": "26.6602230072021"
                                },
                                {
                                    "0": "305",
                                    "1": "25.337495803833"
                                },
                                {
                                    "0": "306",
                                    "1": "25.337495803833"
                                },
                                {
                                    "0": "307",
                                    "1": "25.337495803833"
                                },
                                {
                                    "0": "308",
                                    "1": "25.337495803833"
                                },
                                {
                                    "0": "309",
                                    "1": "22.8955402374268"
                                },
                                {
                                    "0": "310",
                                    "1": "22.8955402374268"
                                },
                                {
                                    "0": "311",
                                    "1": "22.8955402374268"
                                },
                                {
                                    "0": "312",
                                    "1": "22.8955402374268"
                                },
                                {
                                    "0": "313",
                                    "1": "22.8955402374268"
                                },
                                {
                                    "0": "314",
                                    "1": "22.8955402374268"
                                },
                                {
                                    "0": "315",
                                    "1": "22.8955402374268"
                                },
                                {
                                    "0": "316",
                                    "1": "22.8955402374268"
                                },
                                {
                                    "0": "317",
                                    "1": "22.8955402374268"
                                },
                                {
                                    "0": "318",
                                    "1": "22.8955402374268"
                                },
                                {
                                    "0": "319",
                                    "1": "22.8955402374268"
                                },
                                {
                                    "0": "320",
                                    "1": "22.8955402374268"
                                },
                                {
                                    "0": "321",
                                    "1": "24.6252593994141"
                                },
                                {
                                    "0": "322",
                                    "1": "24.6252593994141"
                                },
                                {
                                    "0": "323",
                                    "1": "24.6252593994141"
                                },
                                {
                                    "0": "324",
                                    "1": "24.6252593994141"
                                },
                                {
                                    "0": "325",
                                    "1": "24.6252593994141"
                                },
                                {
                                    "0": "326",
                                    "1": "24.6252593994141"
                                },
                                {
                                    "0": "327",
                                    "1": "24.6252593994141"
                                },
                                {
                                    "0": "328",
                                    "1": "24.6252593994141"
                                },
                                {
                                    "0": "329",
                                    "1": "25.7444896697998"
                                },
                                {
                                    "0": "330",
                                    "1": "25.7444896697998"
                                },
                                {
                                    "0": "331",
                                    "1": "25.7444896697998"
                                },
                                {
                                    "0": "332",
                                    "1": "26.4940338134766"
                                },
                                {
                                    "0": "333",
                                    "1": "26.4940338134766"
                                },
                                {
                                    "0": "334",
                                    "1": "23.8791065216064"
                                },
                                {
                                    "0": "335",
                                    "1": "23.8791065216064"
                                },
                                {
                                    "0": "336",
                                    "1": "23.8791065216064"
                                },
                                {
                                    "0": "337",
                                    "1": "23.8791065216064"
                                },
                                {
                                    "0": "338",
                                    "1": "23.8791065216064"
                                },
                                {
                                    "0": "339",
                                    "1": "23.8791065216064"
                                },
                                {
                                    "0": "340",
                                    "1": "23.8791065216064"
                                },
                                {
                                    "0": "341",
                                    "1": "23.8791065216064"
                                },
                                {
                                    "0": "342",
                                    "1": "26.3549785614014"
                                },
                                {
                                    "0": "343",
                                    "1": "23.7773571014404"
                                },
                                {
                                    "0": "344",
                                    "1": "24.9305038452148"
                                },
                                {
                                    "0": "345",
                                    "1": "24.9305038452148"
                                },
                                {
                                    "0": "346",
                                    "1": "26.3549785614014"
                                },
                                {
                                    "0": "347",
                                    "1": "26.3549785614014"
                                },
                                {
                                    "0": "348",
                                    "1": "26.7958869934082"
                                },
                                {
                                    "0": "349",
                                    "1": "26.5923900604248"
                                },
                                {
                                    "0": "350",
                                    "1": "26.7958869934082"
                                },
                                {
                                    "0": "351",
                                    "1": "26.7958869934082"
                                },
                                {
                                    "0": "352",
                                    "1": "27.4063758850098"
                                },
                                {
                                    "0": "353",
                                    "1": "27.4063758850098"
                                },
                                {
                                    "0": "354",
                                    "1": "27.4402923583984"
                                },
                                {
                                    "0": "355",
                                    "1": "27.3385429382324"
                                },
                                {
                                    "0": "356",
                                    "1": "27.3385429382324"
                                },
                                {
                                    "0": "357",
                                    "1": "15.2305126190186"
                                },
                                {
                                    "0": "358",
                                    "1": "15.2305126190186"
                                },
                                {
                                    "0": "359",
                                    "1": "15.2305126190186"
                                },
                                {
                                    "0": "360",
                                    "1": "15.2305126190186"
                                },
                                {
                                    "0": "361",
                                    "1": "15.2305126190186"
                                },
                                {
                                    "0": "362",
                                    "1": "15.2305126190186"
                                },
                                {
                                    "0": "363",
                                    "1": "15.2305126190186"
                                },
                                {
                                    "0": "364",
                                    "1": "15.2305126190186"
                                },
                                {
                                    "0": "365",
                                    "1": "16.9941482543945"
                                },
                                {
                                    "0": "366",
                                    "1": "16.9941482543945"
                                },
                                {
                                    "0": "367",
                                    "1": "16.9941482543945"
                                },
                                {
                                    "0": "368",
                                    "1": "19.9448432922363"
                                },
                                {
                                    "0": "369",
                                    "1": "19.9448432922363"
                                },
                                {
                                    "0": "370",
                                    "1": "19.9448432922363"
                                },
                                {
                                    "0": "371",
                                    "1": "19.9448432922363"
                                },
                                {
                                    "0": "372",
                                    "1": "19.9448432922363"
                                },
                                {
                                    "0": "373",
                                    "1": "18.6899490356445"
                                },
                                {
                                    "0": "374",
                                    "1": "18.6899490356445"
                                },
                                {
                                    "0": "375",
                                    "1": "18.6899490356445"
                                },
                                {
                                    "0": "376",
                                    "1": "18.5882015228271"
                                },
                                {
                                    "0": "377",
                                    "1": "18.5882015228271"
                                },
                                {
                                    "0": "378",
                                    "1": "18.5882015228271"
                                },
                                {
                                    "0": "379",
                                    "1": "18.5882015228271"
                                },
                                {
                                    "0": "380",
                                    "1": "18.5882015228271"
                                },
                                {
                                    "0": "381",
                                    "1": "18.5882015228271"
                                },
                                {
                                    "0": "382",
                                    "1": "18.5882015228271"
                                },
                                {
                                    "0": "383",
                                    "1": "17.6046352386475"
                                },
                                {
                                    "0": "384",
                                    "1": "17.6046352386475"
                                },
                                {
                                    "0": "385",
                                    "1": "17.6046352386475"
                                },
                                {
                                    "0": "386",
                                    "1": "17.6046352386475"
                                },
                                {
                                    "0": "387",
                                    "1": "17.6046352386475"
                                },
                                {
                                    "0": "388",
                                    "1": "17.6046352386475"
                                },
                                {
                                    "0": "389",
                                    "1": "17.6046352386475"
                                },
                                {
                                    "0": "390",
                                    "1": "17.6046352386475"
                                },
                                {
                                    "0": "391",
                                    "1": "17.6046352386475"
                                },
                                {
                                    "0": "392",
                                    "1": "17.6046352386475"
                                },
                                {
                                    "0": "393",
                                    "1": "17.6046352386475"
                                },
                                {
                                    "0": "394",
                                    "1": "17.8420486450195"
                                },
                                {
                                    "0": "395",
                                    "1": "17.8420486450195"
                                },
                                {
                                    "0": "396",
                                    "1": "17.8420486450195"
                                },
                                {
                                    "0": "397",
                                    "1": "17.8420486450195"
                                },
                                {
                                    "0": "398",
                                    "1": "17.8420486450195"
                                },
                                {
                                    "0": "399",
                                    "1": "17.8420486450195"
                                },
                                {
                                    "0": "400",
                                    "1": "17.8420486450195"
                                },
                                {
                                    "0": "401",
                                    "1": "17.8420486450195"
                                },
                                {
                                    "0": "402",
                                    "1": "17.8420486450195"
                                },
                                {
                                    "0": "403",
                                    "1": "17.8420486450195"
                                },
                                {
                                    "0": "404",
                                    "1": "17.8420486450195"
                                },
                                {
                                    "0": "405",
                                    "1": "17.8420486450195"
                                },
                                {
                                    "0": "406",
                                    "1": "17.8420486450195"
                                },
                                {
                                    "0": "407",
                                    "1": "18.9951934814453"
                                },
                                {
                                    "0": "408",
                                    "1": "18.9951934814453"
                                },
                                {
                                    "0": "409",
                                    "1": "21.0979900360107"
                                },
                                {
                                    "0": "410",
                                    "1": "21.0979900360107"
                                },
                                {
                                    "0": "411",
                                    "1": "21.0979900360107"
                                },
                                {
                                    "0": "412",
                                    "1": "21.0979900360107"
                                },
                                {
                                    "0": "413",
                                    "1": "21.0979900360107"
                                },
                                {
                                    "0": "414",
                                    "1": "21.0979900360107"
                                },
                                {
                                    "0": "415",
                                    "1": "17.8420486450195"
                                },
                                {
                                    "0": "416",
                                    "1": "18.316873550415"
                                },
                                {
                                    "0": "417",
                                    "1": "18.316873550415"
                                },
                                {
                                    "0": "418",
                                    "1": "18.316873550415"
                                },
                                {
                                    "0": "419",
                                    "1": "18.316873550415"
                                },
                                {
                                    "0": "420",
                                    "1": "16.9941482543945"
                                },
                                {
                                    "0": "421",
                                    "1": "16.9941482543945"
                                },
                                {
                                    "0": "422",
                                    "1": "16.9941482543945"
                                },
                                {
                                    "0": "423",
                                    "1": "20.5214157104492"
                                },
                                {
                                    "0": "424",
                                    "1": "20.5214157104492"
                                },
                                {
                                    "0": "425",
                                    "1": "21.5388984680176"
                                },
                                {
                                    "0": "426",
                                    "1": "18.316873550415"
                                },
                                {
                                    "0": "427",
                                    "1": "21.5388984680176"
                                },
                                {
                                    "0": "428",
                                    "1": "18.316873550415"
                                },
                                {
                                    "0": "429",
                                    "1": "18.316873550415"
                                },
                                {
                                    "0": "430",
                                    "1": "18.316873550415"
                                },
                                {
                                    "0": "431",
                                    "1": "21.5388984680176"
                                },
                                {
                                    "0": "432",
                                    "1": "21.5388984680176"
                                },
                                {
                                    "0": "433",
                                    "1": "21.5388984680176"
                                },
                                {
                                    "0": "434",
                                    "1": "17.1637268066406"
                                },
                                {
                                    "0": "435",
                                    "1": "17.1637268066406"
                                },
                                {
                                    "0": "436",
                                    "1": "16.2479934692383"
                                },
                                {
                                    "0": "437",
                                    "1": "16.2479934692383"
                                },
                                {
                                    "0": "438",
                                    "1": "16.2479934692383"
                                },
                                {
                                    "0": "439",
                                    "1": "16.2479934692383"
                                },
                                {
                                    "0": "440",
                                    "1": "16.2479934692383"
                                },
                                {
                                    "0": "441",
                                    "1": "16.2479934692383"
                                },
                                {
                                    "0": "442",
                                    "1": "16.2479934692383"
                                },
                                {
                                    "0": "443",
                                    "1": "16.2479934692383"
                                },
                                {
                                    "0": "444",
                                    "1": "16.2479934692383"
                                },
                                {
                                    "0": "445",
                                    "1": "16.2479934692383"
                                },
                                {
                                    "0": "446",
                                    "1": "16.2479934692383"
                                },
                                {
                                    "0": "447",
                                    "1": "16.2479934692383"
                                },
                                {
                                    "0": "448",
                                    "1": "16.2479934692383"
                                },
                                {
                                    "0": "449",
                                    "1": "17.1637268066406"
                                },
                                {
                                    "0": "450",
                                    "1": "17.1637268066406"
                                },
                                {
                                    "0": "451",
                                    "1": "17.1637268066406"
                                },
                                {
                                    "0": "452",
                                    "1": "17.1637268066406"
                                },
                                {
                                    "0": "453",
                                    "1": "17.1637268066406"
                                },
                                {
                                    "0": "454",
                                    "1": "17.1637268066406"
                                },
                                {
                                    "0": "455",
                                    "1": "17.1637268066406"
                                },
                                {
                                    "0": "456",
                                    "1": "17.1637268066406"
                                },
                                {
                                    "0": "457",
                                    "1": "17.1637268066406"
                                },
                                {
                                    "0": "458",
                                    "1": "17.1637268066406"
                                },
                                {
                                    "0": "459",
                                    "1": "17.1637268066406"
                                },
                                {
                                    "0": "460",
                                    "1": "17.1637268066406"
                                },
                                {
                                    "0": "461",
                                    "1": "17.1637268066406"
                                },
                                {
                                    "0": "462",
                                    "1": "17.1637268066406"
                                },
                                {
                                    "0": "463",
                                    "1": "17.1637268066406"
                                },
                                {
                                    "0": "464",
                                    "1": "17.1637268066406"
                                },
                                {
                                    "0": "465",
                                    "1": "19.1308574676514"
                                },
                                {
                                    "0": "466",
                                    "1": "19.1308574676514"
                                },
                                {
                                    "0": "467",
                                    "1": "19.1308574676514"
                                },
                                {
                                    "0": "468",
                                    "1": "21.5388984680176"
                                },
                                {
                                    "0": "469",
                                    "1": "21.6745624542236"
                                },
                                {
                                    "0": "470",
                                    "1": "21.6745624542236"
                                },
                                {
                                    "0": "471",
                                    "1": "21.6745624542236"
                                },
                                {
                                    "0": "472",
                                    "1": "23.3025321960449"
                                },
                                {
                                    "0": "473",
                                    "1": "21.6745624542236"
                                },
                                {
                                    "0": "474",
                                    "1": "20.5214157104492"
                                },
                                {
                                    "0": "475",
                                    "1": "21.5388984680176"
                                },
                                {
                                    "0": "476",
                                    "1": "21.5388984680176"
                                },
                                {
                                    "0": "477",
                                    "1": "20.5214157104492"
                                },
                                {
                                    "0": "478",
                                    "1": "20.5214157104492"
                                },
                                {
                                    "0": "479",
                                    "1": "20.5214157104492"
                                },
                                {
                                    "0": "480",
                                    "1": "20.5214157104492"
                                },
                                {
                                    "0": "481",
                                    "1": "23.3025321960449"
                                },
                                {
                                    "0": "482",
                                    "1": "23.3025321960449"
                                },
                                {
                                    "0": "483",
                                    "1": "23.3025321960449"
                                },
                                {
                                    "0": "484",
                                    "1": "23.3025321960449"
                                },
                                {
                                    "0": "485",
                                    "1": "21.5728149414062"
                                },
                                {
                                    "0": "486",
                                    "1": "21.5728149414062"
                                },
                                {
                                    "0": "487",
                                    "1": "21.5728149414062"
                                },
                                {
                                    "0": "488",
                                    "1": "21.5728149414062"
                                },
                                {
                                    "0": "489",
                                    "1": "20.6909961700439"
                                },
                                {
                                    "0": "490",
                                    "1": "20.6909961700439"
                                },
                                {
                                    "0": "491",
                                    "1": "20.6909961700439"
                                },
                                {
                                    "0": "492",
                                    "1": "20.6909961700439"
                                },
                                {
                                    "0": "493",
                                    "1": "20.6909961700439"
                                },
                                {
                                    "0": "494",
                                    "1": "21.5049819946289"
                                },
                                {
                                    "0": "495",
                                    "1": "21.5049819946289"
                                },
                                {
                                    "0": "496",
                                    "1": "21.5049819946289"
                                },
                                {
                                    "0": "497",
                                    "1": "21.5049819946289"
                                },
                                {
                                    "0": "498",
                                    "1": "21.5049819946289"
                                },
                                {
                                    "0": "499",
                                    "1": "21.5049819946289"
                                },
                                {
                                    "0": "500",
                                    "1": "21.5049819946289"
                                },
                                {
                                    "0": "501",
                                    "1": "21.5049819946289"
                                },
                                {
                                    "0": "502",
                                    "1": "21.9119739532471"
                                },
                                {
                                    "0": "503",
                                    "1": "21.9119739532471"
                                },
                                {
                                    "0": "504",
                                    "1": "21.9119739532471"
                                },
                                {
                                    "0": "505",
                                    "1": "21.9119739532471"
                                },
                                {
                                    "0": "506",
                                    "1": "21.9119739532471"
                                }
                            ]
                        },
                        "text/html": "<table><tr><th>id</th><th>MEDV</th></tr><tr><td>1</td><td>23.0990371704102</td></tr><tr><td>2</td><td>25.439245223999</td></tr><tr><td>3</td><td>25.439245223999</td></tr><tr><td>4</td><td>25.8123207092285</td></tr><tr><td>5</td><td>25.8123207092285</td></tr><tr><td>6</td><td>25.8123207092285</td></tr><tr><td>7</td><td>23.5738620758057</td></tr><tr><td>8</td><td>23.5738620758057</td></tr><tr><td>9</td><td>23.5738620758057</td></tr><tr><td>10</td><td>23.5738620758057</td></tr><tr><td>11</td><td>23.5738620758057</td></tr><tr><td>12</td><td>23.5738620758057</td></tr><tr><td>13</td><td>23.5738620758057</td></tr><tr><td>14</td><td>23.0990371704102</td></tr><tr><td>15</td><td>23.0990371704102</td></tr><tr><td>16</td><td>23.0990371704102</td></tr><tr><td>17</td><td>23.0990371704102</td></tr><tr><td>18</td><td>23.0990371704102</td></tr><tr><td>19</td><td>23.0990371704102</td></tr><tr><td>20</td><td>23.0990371704102</td></tr><tr><td>21</td><td>23.0990371704102</td></tr><tr><td>22</td><td>23.0990371704102</td></tr><tr><td>23</td><td>23.0990371704102</td></tr><tr><td>24</td><td>23.0990371704102</td></tr><tr><td>25</td><td>23.0990371704102</td></tr><tr><td>26</td><td>23.0990371704102</td></tr><tr><td>27</td><td>23.0990371704102</td></tr><tr><td>28</td><td>23.0990371704102</td></tr><tr><td>29</td><td>23.0990371704102</td></tr><tr><td>30</td><td>23.0990371704102</td></tr><tr><td>31</td><td>23.0990371704102</td></tr><tr><td>32</td><td>23.0990371704102</td></tr><tr><td>33</td><td>23.0990371704102</td></tr><tr><td>34</td><td>23.0990371704102</td></tr><tr><td>35</td><td>23.0990371704102</td></tr><tr><td>36</td><td>24.4217624664307</td></tr><tr><td>37</td><td>24.4217624664307</td></tr><tr><td>38</td><td>24.4217624664307</td></tr><tr><td>39</td><td>24.4217624664307</td></tr><tr><td>40</td><td>26.8298034667969</td></tr><tr><td>41</td><td>26.8298034667969</td></tr><tr><td>42</td><td>26.151481628418</td></tr><tr><td>43</td><td>26.151481628418</td></tr><tr><td>44</td><td>26.151481628418</td></tr><tr><td>45</td><td>26.151481628418</td></tr><tr><td>46</td><td>26.151481628418</td></tr><tr><td>47</td><td>26.151481628418</td></tr><tr><td>48</td><td>26.151481628418</td></tr><tr><td>49</td><td>26.151481628418</td></tr><tr><td>50</td><td>26.151481628418</td></tr><tr><td>51</td><td>26.4567260742188</td></tr><tr><td>52</td><td>26.4567260742188</td></tr><tr><td>53</td><td>26.4567260742188</td></tr><tr><td>54</td><td>26.4567260742188</td></tr><tr><td>55</td><td>27.4402923583984</td></tr><tr><td>56</td><td>27.6777038574219</td></tr><tr><td>57</td><td>27.4402923583984</td></tr><tr><td>58</td><td>27.4063758850098</td></tr><tr><td>59</td><td>25.9819011688232</td></tr><tr><td>60</td><td>25.9819011688232</td></tr><tr><td>61</td><td>25.9819011688232</td></tr><tr><td>62</td><td>25.9819011688232</td></tr><tr><td>63</td><td>25.9819011688232</td></tr><tr><td>64</td><td>25.9819011688232</td></tr><tr><td>65</td><td>27.2334041595459</td></tr><tr><td>66</td><td>27.8472843170166</td></tr><tr><td>67</td><td>27.8472843170166</td></tr><tr><td>68</td><td>27.4742088317871</td></tr><tr><td>69</td><td>27.4742088317871</td></tr><tr><td>70</td><td>27.4742088317871</td></tr><tr><td>71</td><td>27.3385429382324</td></tr><tr><td>72</td><td>27.3385429382324</td></tr><tr><td>73</td><td>27.3385429382324</td></tr><tr><td>74</td><td>27.3385429382324</td></tr><tr><td>75</td><td>26.5245590209961</td></tr><tr><td>76</td><td>26.5245590209961</td></tr><tr><td>77</td><td>26.5245590209961</td></tr><tr><td>78</td><td>26.5245590209961</td></tr><tr><td>79</td><td>26.5245590209961</td></tr><tr><td>80</td><td>26.5245590209961</td></tr><tr><td>81</td><td>26.8976345062256</td></tr><tr><td>82</td><td>26.8976345062256</td></tr><tr><td>83</td><td>26.8976345062256</td></tr><tr><td>84</td><td>26.8976345062256</td></tr><tr><td>85</td><td>26.1175651550293</td></tr><tr><td>86</td><td>26.1175651550293</td></tr><tr><td>87</td><td>26.1175651550293</td></tr><tr><td>88</td><td>26.1175651550293</td></tr><tr><td>89</td><td>24.7609233856201</td></tr><tr><td>90</td><td>24.7609233856201</td></tr><tr><td>91</td><td>24.7609233856201</td></tr><tr><td>92</td><td>24.7609233856201</td></tr><tr><td>93</td><td>25.6088256835938</td></tr><tr><td>94</td><td>25.6088256835938</td></tr><tr><td>95</td><td>25.6088256835938</td></tr><tr><td>96</td><td>26.2532291412354</td></tr><tr><td>97</td><td>26.2532291412354</td></tr><tr><td>98</td><td>26.2532291412354</td></tr><tr><td>99</td><td>26.2532291412354</td></tr><tr><td>100</td><td>26.2532291412354</td></tr><tr><td>101</td><td>23.7095260620117</td></tr><tr><td>102</td><td>23.7095260620117</td></tr><tr><td>103</td><td>23.7095260620117</td></tr><tr><td>104</td><td>23.7095260620117</td></tr><tr><td>105</td><td>23.7095260620117</td></tr><tr><td>106</td><td>23.7095260620117</td></tr><tr><td>107</td><td>23.7095260620117</td></tr><tr><td>108</td><td>23.7095260620117</td></tr><tr><td>109</td><td>23.7095260620117</td></tr><tr><td>110</td><td>23.7095260620117</td></tr><tr><td>111</td><td>23.7095260620117</td></tr><tr><td>112</td><td>22.7937927246094</td></tr><tr><td>113</td><td>22.7937927246094</td></tr><tr><td>114</td><td>22.7937927246094</td></tr><tr><td>115</td><td>22.7937927246094</td></tr><tr><td>116</td><td>22.7937927246094</td></tr><tr><td>117</td><td>22.7937927246094</td></tr><tr><td>118</td><td>22.7937927246094</td></tr><tr><td>119</td><td>22.7937927246094</td></tr><tr><td>120</td><td>22.7937927246094</td></tr><tr><td>121</td><td>21.640645980835</td></tr><tr><td>122</td><td>21.640645980835</td></tr><tr><td>123</td><td>21.640645980835</td></tr><tr><td>124</td><td>21.640645980835</td></tr><tr><td>125</td><td>21.640645980835</td></tr><tr><td>126</td><td>21.640645980835</td></tr><tr><td>127</td><td>21.640645980835</td></tr><tr><td>128</td><td>20.1822566986084</td></tr><tr><td>129</td><td>20.1822566986084</td></tr><tr><td>130</td><td>20.1822566986084</td></tr><tr><td>131</td><td>20.1822566986084</td></tr><tr><td>132</td><td>20.1822566986084</td></tr><tr><td>133</td><td>20.1822566986084</td></tr><tr><td>134</td><td>20.1822566986084</td></tr><tr><td>135</td><td>20.1822566986084</td></tr><tr><td>136</td><td>20.1822566986084</td></tr><tr><td>137</td><td>20.1822566986084</td></tr><tr><td>138</td><td>20.1822566986084</td></tr><tr><td>139</td><td>20.1822566986084</td></tr><tr><td>140</td><td>20.1822566986084</td></tr><tr><td>141</td><td>20.1822566986084</td></tr><tr><td>142</td><td>20.1822566986084</td></tr><tr><td>143</td><td>11.8049907684326</td></tr><tr><td>144</td><td>11.8049907684326</td></tr><tr><td>145</td><td>11.8049907684326</td></tr><tr><td>146</td><td>11.8049907684326</td></tr><tr><td>147</td><td>11.8049907684326</td></tr><tr><td>148</td><td>11.8049907684326</td></tr><tr><td>149</td><td>11.8049907684326</td></tr><tr><td>150</td><td>11.8049907684326</td></tr><tr><td>151</td><td>11.8049907684326</td></tr><tr><td>152</td><td>11.8049907684326</td></tr><tr><td>153</td><td>11.8049907684326</td></tr><tr><td>154</td><td>11.8049907684326</td></tr><tr><td>155</td><td>11.8049907684326</td></tr><tr><td>156</td><td>11.8049907684326</td></tr><tr><td>157</td><td>11.8049907684326</td></tr><tr><td>158</td><td>20.82666015625</td></tr><tr><td>159</td><td>20.82666015625</td></tr><tr><td>160</td><td>11.8049907684326</td></tr><tr><td>161</td><td>20.82666015625</td></tr><tr><td>162</td><td>20.82666015625</td></tr><tr><td>163</td><td>20.82666015625</td></tr><tr><td>164</td><td>20.82666015625</td></tr><tr><td>165</td><td>20.82666015625</td></tr><tr><td>166</td><td>20.82666015625</td></tr><tr><td>167</td><td>20.82666015625</td></tr><tr><td>168</td><td>20.82666015625</td></tr><tr><td>169</td><td>20.82666015625</td></tr><tr><td>170</td><td>20.82666015625</td></tr><tr><td>171</td><td>20.82666015625</td></tr><tr><td>172</td><td>20.82666015625</td></tr><tr><td>173</td><td>24.0486869812012</td></tr><tr><td>174</td><td>24.0486869812012</td></tr><tr><td>175</td><td>24.0486869812012</td></tr><tr><td>176</td><td>24.0486869812012</td></tr><tr><td>177</td><td>24.0486869812012</td></tr><tr><td>178</td><td>24.0486869812012</td></tr><tr><td>179</td><td>24.0486869812012</td></tr><tr><td>180</td><td>24.7948398590088</td></tr><tr><td>181</td><td>24.7948398590088</td></tr><tr><td>182</td><td>24.7948398590088</td></tr><tr><td>183</td><td>24.7948398590088</td></tr><tr><td>184</td><td>24.7948398590088</td></tr><tr><td>185</td><td>24.7948398590088</td></tr><tr><td>186</td><td>24.7948398590088</td></tr><tr><td>187</td><td>24.7948398590088</td></tr><tr><td>188</td><td>26.5245590209961</td></tr><tr><td>189</td><td>26.5245590209961</td></tr><tr><td>190</td><td>26.5245590209961</td></tr><tr><td>191</td><td>26.5245590209961</td></tr><tr><td>192</td><td>26.5245590209961</td></tr><tr><td>193</td><td>26.5245590209961</td></tr><tr><td>194</td><td>27.7455368041992</td></tr><tr><td>195</td><td>27.7455368041992</td></tr><tr><td>196</td><td>27.0332984924316</td></tr><tr><td>197</td><td>27.6437873840332</td></tr><tr><td>198</td><td>27.6437873840332</td></tr><tr><td>199</td><td>27.6437873840332</td></tr><tr><td>200</td><td>27.6777038574219</td></tr><tr><td>201</td><td>27.6777038574219</td></tr><tr><td>202</td><td>27.2707118988037</td></tr><tr><td>203</td><td>27.2707118988037</td></tr><tr><td>204</td><td>27.2334041595459</td></tr><tr><td>205</td><td>27.2334041595459</td></tr><tr><td>206</td><td>24.7609233856201</td></tr><tr><td>207</td><td>24.7609233856201</td></tr><tr><td>208</td><td>24.7609233856201</td></tr><tr><td>209</td><td>24.7609233856201</td></tr><tr><td>210</td><td>24.7609233856201</td></tr><tr><td>211</td><td>24.7609233856201</td></tr><tr><td>212</td><td>24.7609233856201</td></tr><tr><td>213</td><td>24.7609233856201</td></tr><tr><td>214</td><td>24.7609233856201</td></tr><tr><td>215</td><td>24.7609233856201</td></tr><tr><td>216</td><td>24.7609233856201</td></tr><tr><td>217</td><td>22.6920433044434</td></tr><tr><td>218</td><td>22.6920433044434</td></tr><tr><td>219</td><td>22.6920433044434</td></tr><tr><td>220</td><td>22.6920433044434</td></tr><tr><td>221</td><td>24.1504344940186</td></tr><tr><td>222</td><td>24.1504344940186</td></tr><tr><td>223</td><td>24.1504344940186</td></tr><tr><td>224</td><td>24.1504344940186</td></tr><tr><td>225</td><td>24.2521820068359</td></tr><tr><td>226</td><td>24.2521820068359</td></tr><tr><td>227</td><td>24.2521820068359</td></tr><tr><td>228</td><td>24.2521820068359</td></tr><tr><td>229</td><td>24.2521820068359</td></tr><tr><td>230</td><td>24.2521820068359</td></tr><tr><td>231</td><td>24.2521820068359</td></tr><tr><td>232</td><td>24.2521820068359</td></tr><tr><td>233</td><td>24.1504344940186</td></tr><tr><td>234</td><td>24.1504344940186</td></tr><tr><td>235</td><td>24.1504344940186</td></tr><tr><td>236</td><td>24.1504344940186</td></tr><tr><td>237</td><td>24.1504344940186</td></tr><tr><td>238</td><td>24.1504344940186</td></tr><tr><td>239</td><td>26.8298034667969</td></tr><tr><td>240</td><td>26.8298034667969</td></tr><tr><td>241</td><td>26.8298034667969</td></tr><tr><td>242</td><td>26.8298034667969</td></tr><tr><td>243</td><td>26.8298034667969</td></tr><tr><td>244</td><td>26.8298034667969</td></tr><tr><td>245</td><td>26.7280540466309</td></tr><tr><td>246</td><td>26.7280540466309</td></tr><tr><td>247</td><td>26.7280540466309</td></tr><tr><td>248</td><td>26.7280540466309</td></tr><tr><td>249</td><td>26.7280540466309</td></tr><tr><td>250</td><td>26.7280540466309</td></tr><tr><td>251</td><td>26.7280540466309</td></tr><tr><td>252</td><td>26.7280540466309</td></tr><tr><td>253</td><td>26.7280540466309</td></tr><tr><td>254</td><td>26.7280540466309</td></tr><tr><td>255</td><td>28.05078125</td></tr><tr><td>256</td><td>28.05078125</td></tr><tr><td>257</td><td>27.9829483032227</td></tr><tr><td>258</td><td>19.4021873474121</td></tr><tr><td>259</td><td>19.4021873474121</td></tr><tr><td>260</td><td>19.4021873474121</td></tr><tr><td>261</td><td>19.4021873474121</td></tr><tr><td>262</td><td>19.4021873474121</td></tr><tr><td>263</td><td>19.4021873474121</td></tr><tr><td>264</td><td>19.4021873474121</td></tr><tr><td>265</td><td>19.4021873474121</td></tr><tr><td>266</td><td>19.4021873474121</td></tr><tr><td>267</td><td>19.4021873474121</td></tr><tr><td>268</td><td>21.8441429138184</td></tr><tr><td>269</td><td>21.8441429138184</td></tr><tr><td>270</td><td>25.6088256835938</td></tr><tr><td>271</td><td>25.6088256835938</td></tr><tr><td>272</td><td>25.6088256835938</td></tr><tr><td>273</td><td>25.6088256835938</td></tr><tr><td>274</td><td>25.6088256835938</td></tr><tr><td>275</td><td>26.1853981018066</td></tr><tr><td>276</td><td>26.1853981018066</td></tr><tr><td>277</td><td>26.1853981018066</td></tr><tr><td>278</td><td>26.1853981018066</td></tr><tr><td>279</td><td>26.1853981018066</td></tr><tr><td>280</td><td>26.3244533538818</td></tr><tr><td>281</td><td>26.3244533538818</td></tr><tr><td>282</td><td>26.3244533538818</td></tr><tr><td>283</td><td>26.3244533538818</td></tr><tr><td>284</td><td>27.7455368041992</td></tr><tr><td>285</td><td>27.7794532775879</td></tr><tr><td>286</td><td>28.1525287628174</td></tr><tr><td>287</td><td>28.2881927490234</td></tr><tr><td>288</td><td>27.6098709106445</td></tr><tr><td>289</td><td>27.6098709106445</td></tr><tr><td>290</td><td>27.6098709106445</td></tr><tr><td>291</td><td>27.4063758850098</td></tr><tr><td>292</td><td>27.4063758850098</td></tr><tr><td>293</td><td>27.4063758850098</td></tr><tr><td>294</td><td>26.5245590209961</td></tr><tr><td>295</td><td>26.5245590209961</td></tr><tr><td>296</td><td>26.5245590209961</td></tr><tr><td>297</td><td>26.5245590209961</td></tr><tr><td>298</td><td>26.5245590209961</td></tr><tr><td>299</td><td>27.7794532775879</td></tr><tr><td>300</td><td>27.7794532775879</td></tr><tr><td>301</td><td>27.7794532775879</td></tr><tr><td>302</td><td>26.6602230072021</td></tr><tr><td>303</td><td>26.6602230072021</td></tr><tr><td>304</td><td>26.6602230072021</td></tr><tr><td>305</td><td>25.337495803833</td></tr><tr><td>306</td><td>25.337495803833</td></tr><tr><td>307</td><td>25.337495803833</td></tr><tr><td>308</td><td>25.337495803833</td></tr><tr><td>309</td><td>22.8955402374268</td></tr><tr><td>310</td><td>22.8955402374268</td></tr><tr><td>311</td><td>22.8955402374268</td></tr><tr><td>312</td><td>22.8955402374268</td></tr><tr><td>313</td><td>22.8955402374268</td></tr><tr><td>314</td><td>22.8955402374268</td></tr><tr><td>315</td><td>22.8955402374268</td></tr><tr><td>316</td><td>22.8955402374268</td></tr><tr><td>317</td><td>22.8955402374268</td></tr><tr><td>318</td><td>22.8955402374268</td></tr><tr><td>319</td><td>22.8955402374268</td></tr><tr><td>320</td><td>22.8955402374268</td></tr><tr><td>321</td><td>24.6252593994141</td></tr><tr><td>322</td><td>24.6252593994141</td></tr><tr><td>323</td><td>24.6252593994141</td></tr><tr><td>324</td><td>24.6252593994141</td></tr><tr><td>325</td><td>24.6252593994141</td></tr><tr><td>326</td><td>24.6252593994141</td></tr><tr><td>327</td><td>24.6252593994141</td></tr><tr><td>328</td><td>24.6252593994141</td></tr><tr><td>329</td><td>25.7444896697998</td></tr><tr><td>330</td><td>25.7444896697998</td></tr><tr><td>331</td><td>25.7444896697998</td></tr><tr><td>332</td><td>26.4940338134766</td></tr><tr><td>333</td><td>26.4940338134766</td></tr><tr><td>334</td><td>23.8791065216064</td></tr><tr><td>335</td><td>23.8791065216064</td></tr><tr><td>336</td><td>23.8791065216064</td></tr><tr><td>337</td><td>23.8791065216064</td></tr><tr><td>338</td><td>23.8791065216064</td></tr><tr><td>339</td><td>23.8791065216064</td></tr><tr><td>340</td><td>23.8791065216064</td></tr><tr><td>341</td><td>23.8791065216064</td></tr><tr><td>342</td><td>26.3549785614014</td></tr><tr><td>343</td><td>23.7773571014404</td></tr><tr><td>344</td><td>24.9305038452148</td></tr><tr><td>345</td><td>24.9305038452148</td></tr><tr><td>346</td><td>26.3549785614014</td></tr><tr><td>347</td><td>26.3549785614014</td></tr><tr><td>348</td><td>26.7958869934082</td></tr><tr><td>349</td><td>26.5923900604248</td></tr><tr><td>350</td><td>26.7958869934082</td></tr><tr><td>351</td><td>26.7958869934082</td></tr><tr><td>352</td><td>27.4063758850098</td></tr><tr><td>353</td><td>27.4063758850098</td></tr><tr><td>354</td><td>27.4402923583984</td></tr><tr><td>355</td><td>27.3385429382324</td></tr><tr><td>356</td><td>27.3385429382324</td></tr><tr><td>357</td><td>15.2305126190186</td></tr><tr><td>358</td><td>15.2305126190186</td></tr><tr><td>359</td><td>15.2305126190186</td></tr><tr><td>360</td><td>15.2305126190186</td></tr><tr><td>361</td><td>15.2305126190186</td></tr><tr><td>362</td><td>15.2305126190186</td></tr><tr><td>363</td><td>15.2305126190186</td></tr><tr><td>364</td><td>15.2305126190186</td></tr><tr><td>365</td><td>16.9941482543945</td></tr><tr><td>366</td><td>16.9941482543945</td></tr><tr><td>367</td><td>16.9941482543945</td></tr><tr><td>368</td><td>19.9448432922363</td></tr><tr><td>369</td><td>19.9448432922363</td></tr><tr><td>370</td><td>19.9448432922363</td></tr><tr><td>371</td><td>19.9448432922363</td></tr><tr><td>372</td><td>19.9448432922363</td></tr><tr><td>373</td><td>18.6899490356445</td></tr><tr><td>374</td><td>18.6899490356445</td></tr><tr><td>375</td><td>18.6899490356445</td></tr><tr><td>376</td><td>18.5882015228271</td></tr><tr><td>377</td><td>18.5882015228271</td></tr><tr><td>378</td><td>18.5882015228271</td></tr><tr><td>379</td><td>18.5882015228271</td></tr><tr><td>380</td><td>18.5882015228271</td></tr><tr><td>381</td><td>18.5882015228271</td></tr><tr><td>382</td><td>18.5882015228271</td></tr><tr><td>383</td><td>17.6046352386475</td></tr><tr><td>384</td><td>17.6046352386475</td></tr><tr><td>385</td><td>17.6046352386475</td></tr><tr><td>386</td><td>17.6046352386475</td></tr><tr><td>387</td><td>17.6046352386475</td></tr><tr><td>388</td><td>17.6046352386475</td></tr><tr><td>389</td><td>17.6046352386475</td></tr><tr><td>390</td><td>17.6046352386475</td></tr><tr><td>391</td><td>17.6046352386475</td></tr><tr><td>392</td><td>17.6046352386475</td></tr><tr><td>393</td><td>17.6046352386475</td></tr><tr><td>394</td><td>17.8420486450195</td></tr><tr><td>395</td><td>17.8420486450195</td></tr><tr><td>396</td><td>17.8420486450195</td></tr><tr><td>397</td><td>17.8420486450195</td></tr><tr><td>398</td><td>17.8420486450195</td></tr><tr><td>399</td><td>17.8420486450195</td></tr><tr><td>400</td><td>17.8420486450195</td></tr><tr><td>401</td><td>17.8420486450195</td></tr><tr><td>402</td><td>17.8420486450195</td></tr><tr><td>403</td><td>17.8420486450195</td></tr><tr><td>404</td><td>17.8420486450195</td></tr><tr><td>405</td><td>17.8420486450195</td></tr><tr><td>406</td><td>17.8420486450195</td></tr><tr><td>407</td><td>18.9951934814453</td></tr><tr><td>408</td><td>18.9951934814453</td></tr><tr><td>409</td><td>21.0979900360107</td></tr><tr><td>410</td><td>21.0979900360107</td></tr><tr><td>411</td><td>21.0979900360107</td></tr><tr><td>412</td><td>21.0979900360107</td></tr><tr><td>413</td><td>21.0979900360107</td></tr><tr><td>414</td><td>21.0979900360107</td></tr><tr><td>415</td><td>17.8420486450195</td></tr><tr><td>416</td><td>18.316873550415</td></tr><tr><td>417</td><td>18.316873550415</td></tr><tr><td>418</td><td>18.316873550415</td></tr><tr><td>419</td><td>18.316873550415</td></tr><tr><td>420</td><td>16.9941482543945</td></tr><tr><td>421</td><td>16.9941482543945</td></tr><tr><td>422</td><td>16.9941482543945</td></tr><tr><td>423</td><td>20.5214157104492</td></tr><tr><td>424</td><td>20.5214157104492</td></tr><tr><td>425</td><td>21.5388984680176</td></tr><tr><td>426</td><td>18.316873550415</td></tr><tr><td>427</td><td>21.5388984680176</td></tr><tr><td>428</td><td>18.316873550415</td></tr><tr><td>429</td><td>18.316873550415</td></tr><tr><td>430</td><td>18.316873550415</td></tr><tr><td>431</td><td>21.5388984680176</td></tr><tr><td>432</td><td>21.5388984680176</td></tr><tr><td>433</td><td>21.5388984680176</td></tr><tr><td>434</td><td>17.1637268066406</td></tr><tr><td>435</td><td>17.1637268066406</td></tr><tr><td>436</td><td>16.2479934692383</td></tr><tr><td>437</td><td>16.2479934692383</td></tr><tr><td>438</td><td>16.2479934692383</td></tr><tr><td>439</td><td>16.2479934692383</td></tr><tr><td>440</td><td>16.2479934692383</td></tr><tr><td>441</td><td>16.2479934692383</td></tr><tr><td>442</td><td>16.2479934692383</td></tr><tr><td>443</td><td>16.2479934692383</td></tr><tr><td>444</td><td>16.2479934692383</td></tr><tr><td>445</td><td>16.2479934692383</td></tr><tr><td>446</td><td>16.2479934692383</td></tr><tr><td>447</td><td>16.2479934692383</td></tr><tr><td>448</td><td>16.2479934692383</td></tr><tr><td>449</td><td>17.1637268066406</td></tr><tr><td>450</td><td>17.1637268066406</td></tr><tr><td>451</td><td>17.1637268066406</td></tr><tr><td>452</td><td>17.1637268066406</td></tr><tr><td>453</td><td>17.1637268066406</td></tr><tr><td>454</td><td>17.1637268066406</td></tr><tr><td>455</td><td>17.1637268066406</td></tr><tr><td>456</td><td>17.1637268066406</td></tr><tr><td>457</td><td>17.1637268066406</td></tr><tr><td>458</td><td>17.1637268066406</td></tr><tr><td>459</td><td>17.1637268066406</td></tr><tr><td>460</td><td>17.1637268066406</td></tr><tr><td>461</td><td>17.1637268066406</td></tr><tr><td>462</td><td>17.1637268066406</td></tr><tr><td>463</td><td>17.1637268066406</td></tr><tr><td>464</td><td>17.1637268066406</td></tr><tr><td>465</td><td>19.1308574676514</td></tr><tr><td>466</td><td>19.1308574676514</td></tr><tr><td>467</td><td>19.1308574676514</td></tr><tr><td>468</td><td>21.5388984680176</td></tr><tr><td>469</td><td>21.6745624542236</td></tr><tr><td>470</td><td>21.6745624542236</td></tr><tr><td>471</td><td>21.6745624542236</td></tr><tr><td>472</td><td>23.3025321960449</td></tr><tr><td>473</td><td>21.6745624542236</td></tr><tr><td>474</td><td>20.5214157104492</td></tr><tr><td>475</td><td>21.5388984680176</td></tr><tr><td>476</td><td>21.5388984680176</td></tr><tr><td>477</td><td>20.5214157104492</td></tr><tr><td>478</td><td>20.5214157104492</td></tr><tr><td>479</td><td>20.5214157104492</td></tr><tr><td>480</td><td>20.5214157104492</td></tr><tr><td>481</td><td>23.3025321960449</td></tr><tr><td>482</td><td>23.3025321960449</td></tr><tr><td>483</td><td>23.3025321960449</td></tr><tr><td>484</td><td>23.3025321960449</td></tr><tr><td>485</td><td>21.5728149414062</td></tr><tr><td>486</td><td>21.5728149414062</td></tr><tr><td>487</td><td>21.5728149414062</td></tr><tr><td>488</td><td>21.5728149414062</td></tr><tr><td>489</td><td>20.6909961700439</td></tr><tr><td>490</td><td>20.6909961700439</td></tr><tr><td>491</td><td>20.6909961700439</td></tr><tr><td>492</td><td>20.6909961700439</td></tr><tr><td>493</td><td>20.6909961700439</td></tr><tr><td>494</td><td>21.5049819946289</td></tr><tr><td>495</td><td>21.5049819946289</td></tr><tr><td>496</td><td>21.5049819946289</td></tr><tr><td>497</td><td>21.5049819946289</td></tr><tr><td>498</td><td>21.5049819946289</td></tr><tr><td>499</td><td>21.5049819946289</td></tr><tr><td>500</td><td>21.5049819946289</td></tr><tr><td>501</td><td>21.5049819946289</td></tr><tr><td>502</td><td>21.9119739532471</td></tr><tr><td>503</td><td>21.9119739532471</td></tr><tr><td>504</td><td>21.9119739532471</td></tr><tr><td>505</td><td>21.9119739532471</td></tr><tr><td>506</td><td>21.9119739532471</td></tr></table>"
                    },
                    "metadata": {}
                }
            ],
            "execution_count": 1
        },
        {
            "cell_type": "markdown",
            "source": [
                "Now, you can see the model's predicted median house value for the first thousand samples. "
            ],
            "metadata": {
                "azdata_cell_guid": "c98a65d1-c85c-48b0-a09c-8c176926dd01",
                "tags": []
            }
        }
    ]
}